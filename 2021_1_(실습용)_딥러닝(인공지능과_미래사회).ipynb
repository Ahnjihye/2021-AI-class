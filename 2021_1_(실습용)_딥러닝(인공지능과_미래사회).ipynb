{
  "nbformat": 4,
  "nbformat_minor": 0,
  "metadata": {
    "colab": {
      "name": "2021_1_(실습용)_딥러닝(인공지능과_미래사회).ipynb",
      "provenance": [],
      "collapsed_sections": [],
      "authorship_tag": "ABX9TyMfEjLbzJfDCaN8hveHLfEO",
      "include_colab_link": true
    },
    "kernelspec": {
      "name": "python3",
      "display_name": "Python 3"
    },
    "language_info": {
      "name": "python"
    }
  },
  "cells": [
    {
      "cell_type": "markdown",
      "metadata": {
        "id": "view-in-github",
        "colab_type": "text"
      },
      "source": [
        "<a href=\"https://colab.research.google.com/github/Ahnjihye/2021-AI-class/blob/main/2021_1_(%EC%8B%A4%EC%8A%B5%EC%9A%A9)_%EB%94%A5%EB%9F%AC%EB%8B%9D(%EC%9D%B8%EA%B3%B5%EC%A7%80%EB%8A%A5%EA%B3%BC_%EB%AF%B8%EB%9E%98%EC%82%AC%ED%9A%8C).ipynb\" target=\"_parent\"><img src=\"https://colab.research.google.com/assets/colab-badge.svg\" alt=\"Open In Colab\"/></a>"
      ]
    },
    {
      "cell_type": "markdown",
      "metadata": {
        "id": "BAWDShUYxT-E"
      },
      "source": [
        "# 1. 딥러닝 활용분야\n",
        "### 1-1. 이미지처리\n",
        "\n",
        "<img src='https://s3-us-west-2.amazonaws.com/static.pyimagesearch.com/opencv-yolo/yolo_car_chase_01_output.gif'>\n",
        "  \n",
        "<img src='https://miro.medium.com/max/1103/1*tQ9PotwEr93jwFte56U8aA.gif'>\n",
        "<img src='https://s3-us-west-2.amazonaws.com/static.pyimagesearch.com/opencv-face-recognition/opencv_face_reco_animation.gif'>\n",
        "\n"
      ]
    },
    {
      "cell_type": "markdown",
      "metadata": {
        "id": "fzqNmP-dxdup"
      },
      "source": [
        "\n",
        "## 1-2. 자연어 처리\n",
        "\n",
        "<img src='https://pds.joins.com/news/component/htmlphoto_mmdata/201605/28/htm_2016052894342117622.JPG' width=500>\n",
        "<img src='https://images.chosun.com/resizer/xKp6vZn0Tap2nAyWZb3x7nfxX1A=/616x0/smart/cloudfront-ap-northeast-1.images.arcpublishing.com/chosun/J6WHZS5XNZEXVOO3APDPFC3H2I.jpg' width=500>\n",
        "\n",
        "<br/>\n",
        "\n",
        "**단어를 그래프 상의 위치로 파악하는 인공지능**\n",
        "\n",
        "<br/>\n",
        "<img src='https://t1.kakaocdn.net/braincloud/homepage/article_image/201803201508516713249.png' width=400>"
      ]
    },
    {
      "cell_type": "markdown",
      "metadata": {
        "id": "Mrvi0__3ziru"
      },
      "source": [
        "# 2. 딥러닝의 기본단위 : 퍼셉트론(Perceptron)\n",
        "\n",
        "퍼셉트론 = 인간의 신경 세포 뉴런과 유사한 형태\n",
        "\n",
        "<img src='https://lh3.googleusercontent.com/proxy/hvvTQEsGVZ61ztymK0PvYuzZURUoSllEIJt_GbjASLIUaYAzTQbiOjGMuu3xD3NXMfGESlv_SmFStptN3RQz5WgyBgrFP857YoijPPHf2IhcO3nzvZ35jSXH' width=700>\n",
        "\n",
        "<br/>\n",
        "<br/>\n",
        "\n",
        "<img src='https://miro.medium.com/proxy/1*3UpdymQx-C1tBKRnfD7eOg.gif'>\n",
        "\n",
        "<br/>\n",
        "<br/>\n",
        "\n",
        "<img src='https://github.com/Ahnjihye/2021-AI-class/blob/images/%EB%94%A5%EB%9F%AC%EB%8B%9D%20006.png?raw=true' width=700>"
      ]
    },
    {
      "cell_type": "markdown",
      "metadata": {
        "id": "RCByDFm-5cgg"
      },
      "source": [
        "# 3. 단층 퍼셉트론과 다층 퍼셉트론\n",
        "\n",
        "<img src='https://github.com/Ahnjihye/2021-AI-class/blob/images/%EB%94%A5%EB%9F%AC%EB%8B%9D%20017.png?raw=true' width=800>\n",
        "\n",
        "\n",
        "\n",
        "*   단층 퍼셉트론은 입력층 - 출력층만 있는 형태\n",
        "*   다층 퍼셉트론은 입력측 - 은닉층 - 출력층이 있는 형태 \n",
        "\n",
        "<br/>\n",
        "\n",
        "### 일반적인 딥러닝 구조 \n",
        "\n",
        "\n",
        "<img src='https://analyticsindiamag.com/wp-content/uploads/2018/01/nural-network_3.gif' width=600>\n",
        "\n",
        "<img src='https://i2.wp.com/www.yoonsupchoi.com/wp-content/uploads/2017/08/google-brain.png?fit=1000%2C501' width=600>\n",
        "\n",
        "<img src='https://cdn.apple-economy.com/news/photo/201702/32321_17395_2440.jpg' width=600>\n",
        "\n",
        "#### 은닉층이 많다 => deep하다고 표현 \n",
        "#### 은닉층이 많을수록 더 정교한 학습이 가능!!\n",
        "\n",
        "\n",
        "\n"
      ]
    },
    {
      "cell_type": "markdown",
      "metadata": {
        "id": "uJMRoqHT-TUE"
      },
      "source": [
        "# 4. 인공지능으로 풀 수 있는 문제 \n",
        "\n",
        "\n",
        "1.   선형 공간 : 직선으로 해결가능한 문제\n",
        "\n",
        "<img src='https://github.com/Ahnjihye/2021-AI-class/blob/images/%EB%94%A5%EB%9F%AC%EB%8B%9D%20018.png?raw=true' width=500>\n",
        "\n",
        "\n",
        "\n",
        "2.   비선형 공간 : 직선으로 해결 불가능한 문제\n",
        "\n",
        "<img src='https://github.com/Ahnjihye/2021-AI-class/blob/images/%EB%94%A5%EB%9F%AC%EB%8B%9D%20019.png?raw=true' width=500>\n",
        "\n",
        " \n",
        "\n",
        "\n",
        "\n",
        "\n",
        "\n"
      ]
    },
    {
      "cell_type": "markdown",
      "metadata": {
        "id": "rGgH4Kdu_cDy"
      },
      "source": [
        "# 5. 단일 퍼셉트론은 직선으로 학습\n",
        "\n",
        "<img src='https://www.edureka.co/blog/wp-content/uploads/2017/12/Perceptron-Learning-Algorithm_03.gif' width=600>\n",
        "\n",
        "### => 텐서플로우 그라운드에서 선형 공간의 데이터를 선택해보고, 단일 퍼셉트론으로 해결해보기 \n",
        "\n",
        "[텐서플로우 그라운드](https://playground.tensorflow.org/)\n"
      ]
    },
    {
      "cell_type": "markdown",
      "metadata": {
        "id": "vsbZnfQ__mOZ"
      },
      "source": [
        "# 6. 비선형 문제를 해결하는 데 탁월한 다층 퍼셉트론\n",
        "\n",
        "<img src='https://github.com/Ahnjihye/2021-AI-class/blob/images/%EB%94%A5%EB%9F%AC%EB%8B%9D%20020.png?raw=true' width=700>\n",
        "\n",
        "### => 텐서플로우 그라운드에서 비선형 공간의 데이터를 선택해보고, 다층 퍼셉트론으로 해결해보기 \n",
        "\n",
        "[텐서플로우 그라운드](https://playground.tensorflow.org/)\n"
      ]
    },
    {
      "cell_type": "markdown",
      "metadata": {
        "id": "_IZmu1nvMfOU"
      },
      "source": [
        "# 딥러닝 프로그래밍\n",
        "\n",
        "## 이미지 인식\n",
        "\n",
        "<img src=\"https://ai.stanford.edu/~syyeung/cvweb/Pictures1/imagematrix.png\">\n",
        "\n",
        "*   이미지는 여러 개의 픽셀(네모칸)로 이루어져 있음\n",
        "*   흑백이미지에서는 색상이 흰색, 검정색만 존재\n",
        "*   픽셀의 숫자로 흰 정도, 검은 정도를 표현함\n",
        "*   검을수록 0에 가깝고, 흰색에 가까울수록 255에 가까움\n",
        "\n",
        "\n",
        "\n",
        "## 인간의 손글씨 인식시켜보기\n",
        "\n",
        "### 손글씨 이미지 구성 - MNIST \n",
        "- 손글씨 이미지 0부터 9까지 총10개 \n",
        "<br/>\n",
        "<img src=\"https://learnmachinelearning.files.wordpress.com/2017/08/mnist.png?w=638\" height=\"150px\">\n",
        "\n",
        "\n",
        "- 손글씨 0~9 = 총 10개 * 각 600개 = 총 60000개\n",
        "- 학습 데이터 60000개, 테스트 데이터 10000개로 구성\n",
        "- 0~9까지의 숫자 이미지를 구분하는 것은 회귀인가? 분류인가?\n",
        "\n",
        "<br/>\n",
        "<img src = \"https://korchris.github.io/images/overview_mnist.png\">\n",
        "\n",
        "- 각 숫자 이미지는 28 pixel * 28 pixel   \n",
        "![대체 텍스트](https://encrypted-tbn0.gstatic.com/images?q=tbn%3AANd9GcRiYU_Wf8GiLoaAXWiCdJHm87IWjpOfTClkwg&usqp=CAU)\n",
        "\n",
        "> Q. 손글씨 딥러닝 모델의 입력층 개수는?\n",
        "\n",
        "<img src='https://t1.daumcdn.net/cfile/tistory/998BAF475BECAB3B26' width=800>\n",
        "<br/><br/>\n",
        "\n",
        "<img src='https://thumbs.gfycat.com/ActiveCourteousAmericanindianhorse-small.gif' width=600>\n"
      ]
    },
    {
      "cell_type": "markdown",
      "metadata": {
        "id": "NZIBZlE6Mw_9"
      },
      "source": [
        "## 1) 데이터 로드\n",
        "\n",
        "\n",
        "```\n",
        "from keras.datasets import mnist\n",
        "\n",
        "(data_x, data_y), (test_x, test_y) = mnist.load_data()\n",
        "```\n",
        "\n"
      ]
    },
    {
      "cell_type": "code",
      "metadata": {
        "id": "uijmJQc-xXxx"
      },
      "source": [
        ""
      ],
      "execution_count": null,
      "outputs": []
    },
    {
      "cell_type": "markdown",
      "metadata": {
        "id": "y0Ul6NvbNLT9"
      },
      "source": [
        "\n",
        "위 코드를 실행하면\n",
        "\n",
        "*   data_x에는 784개의 픽셀값(이미지)이 자동으로 저장됨\n",
        "*   data_y에는 해당 이미지의 숫자(0~9 중 하나)가 저장됨\n"
      ]
    },
    {
      "cell_type": "code",
      "metadata": {
        "id": "qDxxwm4mNCms"
      },
      "source": [
        "# 첫번째 숫자 이미지 살펴보기\n",
        "print( ----빈칸1---- )"
      ],
      "execution_count": null,
      "outputs": []
    },
    {
      "cell_type": "markdown",
      "metadata": {
        "id": "sZShJ8AjODBn"
      },
      "source": [
        "조금 더 예쁘게 출력해보자!\n",
        "\n",
        "```\n",
        "# 숫자 하나마다 탭 길이만큼 공백을 주어 출력하는 코드\n",
        "\n",
        "import sys\n",
        "\n",
        "for x in data_x[0]:\n",
        "    for i in x:\n",
        "        sys.stdout.write('%d\\t' % i)\n",
        "    sys.stdout.write('\\n')\n",
        "```"
      ]
    },
    {
      "cell_type": "code",
      "metadata": {
        "id": "-hhogY5-OCcf"
      },
      "source": [
        ""
      ],
      "execution_count": null,
      "outputs": []
    },
    {
      "cell_type": "code",
      "metadata": {
        "id": "Z2HR-Q2fN_QS"
      },
      "source": [
        "# 첫번째 이미지에 해당하는 숫자는? \n",
        "print( ----빈칸2---- )"
      ],
      "execution_count": null,
      "outputs": []
    },
    {
      "cell_type": "markdown",
      "metadata": {
        "id": "AAJpV2WkOURN"
      },
      "source": [
        "0~255까지의 숫자로 구성된 파일을 흑백 이미지로 보여주기 \n",
        "\n",
        "```\n",
        "import matplotlib.pyplot as plt\n",
        "\n",
        "plt.imshow(숫자리스트, cmap='gray') \n",
        "plt.show()\n",
        "```\n",
        "\n"
      ]
    },
    {
      "cell_type": "code",
      "metadata": {
        "id": "LjM_8ok2OO8Y"
      },
      "source": [
        "\n",
        "\n",
        "\n",
        "# 이 이미지에 해당하는 숫자는?\n",
        "print( ----빈칸3---- )"
      ],
      "execution_count": null,
      "outputs": []
    },
    {
      "cell_type": "code",
      "metadata": {
        "id": "vdKmA24ZOrlJ"
      },
      "source": [
        "\n",
        "\n",
        "\n",
        "# 이 이미지에 해당하는 숫자는?\n",
        "print( ----빈칸4---- )"
      ],
      "execution_count": null,
      "outputs": []
    },
    {
      "cell_type": "code",
      "metadata": {
        "id": "unUcFKQPOu0X"
      },
      "source": [
        "\n",
        "\n",
        "\n",
        "# 이 이미지에 해당하는 숫자는?\n",
        "print( ----빈칸5---- )"
      ],
      "execution_count": null,
      "outputs": []
    },
    {
      "cell_type": "markdown",
      "metadata": {
        "id": "YcIzV-7sPLz5"
      },
      "source": [
        "출력을 원핫인코딩하기 (딥러닝 출력에 맞게끔)\n",
        "\n",
        "\n",
        "\n",
        "```\n",
        "import tensorflow.keras.utils as utils\n",
        "\n",
        "data_y = utils.to_categorical(data_y, 10)\n",
        "test_y = utils.to_categorical(test_y, 10)\n",
        "\n",
        "```\n",
        "\n"
      ]
    },
    {
      "cell_type": "code",
      "metadata": {
        "id": "2gwN3RV7Ox6M"
      },
      "source": [
        "import tensorflow.keras.utils as utils\n",
        "\n",
        "data_y = utils.to_categorical(data_y, 10)\n",
        "test_y = utils.to_categorical(test_y, 10)"
      ],
      "execution_count": null,
      "outputs": []
    },
    {
      "cell_type": "markdown",
      "metadata": {
        "id": "9fS0tPNlPwUt"
      },
      "source": [
        "> Q. 손글씨 딥러닝 모델의 입력층 개수는?\n",
        "\n",
        "<img src='https://t1.daumcdn.net/cfile/tistory/998BAF475BECAB3B26' width=800>\n",
        "<br/><br/>\n",
        "\n",
        "> Q. 출력층의 개수는?\n",
        "\n",
        "<img src='https://thumbs.gfycat.com/ActiveCourteousAmericanindianhorse-small.gif' width=600>\n",
        "\n",
        "<br/><br/>\n",
        "<img src = 'https://github.com/Ahnjihye/allinone_AI/blob/images/34_mnist%20%EA%B5%AC%EC%A1%B0.png?raw=true' width =500>"
      ]
    },
    {
      "cell_type": "markdown",
      "metadata": {
        "id": "AgFBFZJfQi5z"
      },
      "source": [
        "딥러닝 모델 두 개 비교해보자!\n",
        "\n",
        "\n",
        "\n",
        "1.   단층 퍼셉트론 (입력층과 출력층만 있는 모델)\n",
        "2.   다층 퍼셉트론 (입력층 - 은닉층 - 출력층, 은닉층이 있는 모델)\n",
        "\n",
        "<img src='https://github.com/Ahnjihye/2021-AI-class/blob/images/%EB%94%A5%EB%9F%AC%EB%8B%9D%20023.png?raw=true' width=800>\n",
        "\n"
      ]
    },
    {
      "cell_type": "markdown",
      "metadata": {
        "id": "VzeVcFhNBiKb"
      },
      "source": [
        "# model1 : 은닉층 없이 돌려보자 \n",
        "**입력층(노드 784) -> 출력층(노드 10)**\n",
        "\n",
        "<img src='https://github.com/Ahnjihye/2021-AI-class/blob/images/%EB%94%A5%EB%9F%AC%EB%8B%9D%20024.png?raw=true' width=500>"
      ]
    },
    {
      "cell_type": "markdown",
      "metadata": {
        "id": "ODh9WUHrutcq"
      },
      "source": [
        "\n",
        "\n",
        "```\n",
        "from tensorflow.keras.models import Sequential\n",
        "from tensorflow.keras.layers import Dense, Flatten\n",
        "\n",
        "# 층을 쌓을 수 있는 모델 생성\n",
        "model1 = Sequential()\n",
        "model1.add(Flatten())\n",
        "\n",
        "# 모델에 층 추가 \n",
        "# 층은 Dense, input_dim 옵션에 입력층 노드 개수  \n",
        "model1.add(Dense( 빈칸6 , input_dim = 빈칸7 , activation='softmax'))\n",
        "\n",
        "# 만든 딥러닝 구조를 컴파일\n",
        "model1.compile(loss='categorical_crossentropy', \n",
        "               optimizer='adam', metrics=['accuracy'])\n",
        "```\n",
        "\n"
      ]
    },
    {
      "cell_type": "code",
      "metadata": {
        "id": "LprbUis6BKtu"
      },
      "source": [
        "\n"
      ],
      "execution_count": null,
      "outputs": []
    },
    {
      "cell_type": "markdown",
      "metadata": {
        "id": "YdwuqT51u2gb"
      },
      "source": [
        "\n",
        "\n",
        "```\n",
        "# 딥러닝 구조에 데이터를 넣어 학습시키기\n",
        "model1.fit( 빈칸8 , 빈칸9 , \n",
        "           epochs=10, batch_size =200 , verbose=1)\n",
        "```\n",
        "\n"
      ]
    },
    {
      "cell_type": "code",
      "metadata": {
        "id": "pmVMTHC4B0kL"
      },
      "source": [
        "\n"
      ],
      "execution_count": null,
      "outputs": []
    },
    {
      "cell_type": "markdown",
      "metadata": {
        "id": "xftIe5P6J9Ae"
      },
      "source": [
        "\n",
        "\n",
        "*   Q.  model1의 최종 정확도는? \n",
        "<br/>\n",
        "=> \n",
        "\n"
      ]
    },
    {
      "cell_type": "markdown",
      "metadata": {
        "id": "LQ6wC4DtEyxu"
      },
      "source": [
        "**model1에게 새로운 데이터 예측시켜보기**\n",
        "\n",
        "\n",
        "```\n",
        "import numpy as np\n",
        "\n",
        "print(np.argmax(model1.predict( 예측할이미지 .reshape(-1, 28, 28, 1))))\n",
        "```\n",
        "\n"
      ]
    },
    {
      "cell_type": "code",
      "metadata": {
        "id": "ja_74MTqPkv2"
      },
      "source": [
        "# test_x[0]에 저장된 이미지를 예측시켜보자! \n"
      ],
      "execution_count": null,
      "outputs": []
    },
    {
      "cell_type": "markdown",
      "metadata": {
        "id": "-0EtT1V4vZCO"
      },
      "source": [
        "**실제 이미지 확인해보기**\n",
        "\n",
        "\n",
        "\n",
        "```\n",
        "plt.imshow( 예측에사용된이미지 , cmap='gray') \n",
        "plt.show()\n",
        "```\n",
        "\n"
      ]
    },
    {
      "cell_type": "code",
      "metadata": {
        "id": "ufLoa8RBFC39"
      },
      "source": [
        "# model1이 잘 예측했는지 실제 이미지를 확인해보자! \n"
      ],
      "execution_count": null,
      "outputs": []
    },
    {
      "cell_type": "code",
      "metadata": {
        "id": "IZPSzkJGHIbe"
      },
      "source": [
        "# 딥러닝 모델이 예측한 숫자\n",
        "print(np.argmax(model1.predict( 빈칸11.reshape(-1, 28, 28, 1))))\n",
        "\n",
        "# 실제 이미지\n",
        "plt.imshow( 빈칸12 , cmap='gray') \n",
        "plt.show()"
      ],
      "execution_count": null,
      "outputs": []
    },
    {
      "cell_type": "markdown",
      "metadata": {
        "id": "7ivE9MSPJKQh"
      },
      "source": [
        "# model2 : 은닉층을 추가해 돌려보자 \n",
        "**입력층(노드 784) -> 은닉층(노드 512)-> 출력층(노드 10)**\n",
        "\n",
        "<img src='https://github.com/Ahnjihye/2021-AI-class/blob/images/%EB%94%A5%EB%9F%AC%EB%8B%9D%20025.png?raw=true' width=500>"
      ]
    },
    {
      "cell_type": "markdown",
      "metadata": {
        "id": "uT4QImlfvmc0"
      },
      "source": [
        "\n",
        "\n",
        "```\n",
        "from tensorflow.keras.models import Sequential\n",
        "from tensorflow.keras.layers import Dense, Flatten\n",
        "\n",
        "# 층을 쌓을 수 있는 모델 생성\n",
        "model2 = Sequential()\n",
        "model2.add(Flatten())\n",
        "\n",
        "# 모델에 층 추가 : 입력층 784 --> 은닉층 512\n",
        "model2.add(Dense( 빈칸13 , input_dim = 빈칸14 , activation='relu'))\n",
        "\n",
        "# 모델에 층 추가 : 은닉층 512 -> 출력층 10\n",
        "model2.add(Dense( 빈칸15 , activation='softmax'))\n",
        "\n",
        "# 만든 딥러닝 구조를 컴파일\n",
        "model2.compile(loss='categorical_crossentropy', \n",
        "               optimizer='adam', metrics=['accuracy'])\n",
        "```\n",
        "\n"
      ]
    },
    {
      "cell_type": "code",
      "metadata": {
        "id": "M2XqW0BJIEMR"
      },
      "source": [
        "\n"
      ],
      "execution_count": null,
      "outputs": []
    },
    {
      "cell_type": "markdown",
      "metadata": {
        "id": "NYZheh4mvujG"
      },
      "source": [
        "\n",
        "\n",
        "\n",
        "```\n",
        "model2.fit( 빈칸13 , 빈칸14 ,\n",
        "           epochs=10, batch_size =200 , verbose=1)\n",
        "```\n",
        "\n"
      ]
    },
    {
      "cell_type": "code",
      "metadata": {
        "id": "jdec94PrJohj"
      },
      "source": [
        "# 딥러닝 구조에 데이터를 넣어 학습시키기\n"
      ],
      "execution_count": null,
      "outputs": []
    },
    {
      "cell_type": "markdown",
      "metadata": {
        "id": "r1gaLVFbKudY"
      },
      "source": [
        "\n",
        "\n",
        "*   Q1.  model2의 최종 정확도는? \n",
        "<br/>\n",
        "=> \n",
        "<br/><br/>\n",
        "*   Q2.  model1과 비교했을 때 model2의 성능은 어떠한가?  \n",
        "<br/>\n",
        "=> \n",
        "<br/><br/>\n",
        "*   Q3.  왜 위와 같은 결과가 나왔을까?<br/>\n",
        "=> \n",
        "<br/><br/>\n",
        "\n"
      ]
    },
    {
      "cell_type": "markdown",
      "metadata": {
        "id": "BIHWTxrBKudh"
      },
      "source": [
        "**model2에게 새로운 데이터 예측시켜보기**\n",
        "\n",
        "\n",
        "```\n",
        "import numpy as np\n",
        "\n",
        "# 딥러닝 모델이 예측한 숫자\n",
        "print(np.argmax(model2.predict(test_x[99].reshape(-1, 28, 28, 1))))\n",
        "\n",
        "# 실제 이미지\n",
        "plt.imshow(test_x[99], cmap='gray') \n",
        "plt.show()\n",
        "```\n",
        "\n"
      ]
    },
    {
      "cell_type": "code",
      "metadata": {
        "id": "TyormAxnKudi"
      },
      "source": [
        "\n"
      ],
      "execution_count": null,
      "outputs": []
    },
    {
      "cell_type": "markdown",
      "metadata": {
        "id": "umWwtxfrLXas"
      },
      "source": [
        "# 내 손글씨 데이터를 예측시켜보자!\n",
        "\n",
        "내 손글씨이미지 업로드하기 \n",
        "\n",
        "```\n",
        "from google.colab import files\n",
        "uploaded = files.upload()\n",
        "```\n",
        "\n"
      ]
    },
    {
      "cell_type": "code",
      "metadata": {
        "id": "m6dXxnOWfF6H"
      },
      "source": [
        ""
      ],
      "execution_count": null,
      "outputs": []
    },
    {
      "cell_type": "markdown",
      "metadata": {
        "id": "CEykcjenwJXU"
      },
      "source": [
        "업로드된 이미지 확인하기\n",
        "\n",
        "\n",
        "```\n",
        "from tensorflow.keras.preprocessing import image\n",
        "\n",
        "s = image.load_img('파일이름.png', target_size=(28, 28), color_mode=\"grayscale\")\n",
        "s\n",
        "```\n",
        "\n"
      ]
    },
    {
      "cell_type": "code",
      "metadata": {
        "id": "TaohNQ0ogmNP"
      },
      "source": [
        ""
      ],
      "execution_count": null,
      "outputs": []
    },
    {
      "cell_type": "markdown",
      "metadata": {
        "id": "VJzLa4VgxOUo"
      },
      "source": [
        "내 손글씨 예측시켜보자!\n",
        "\n",
        "```\n",
        "img = image.img_to_array(s).astype('float32')\n",
        "\n",
        "# model1에게 예측시켰을 때\n",
        "print(np.argmax( 예측시킬모델이름.predict(img.reshape(-1, 28, 28, 1))))\n",
        "\n",
        "# model2에게 예측시켰을 때\n",
        "print(np.argmax(예측시킬모델이름.predict(img.reshape(-1, 28, 28, 1))))\n",
        "```\n",
        "\n"
      ]
    },
    {
      "cell_type": "code",
      "metadata": {
        "id": "rr_YYhtlLqM1"
      },
      "source": [
        ""
      ],
      "execution_count": null,
      "outputs": []
    },
    {
      "cell_type": "code",
      "metadata": {
        "id": "BP6KUaLXLJ4i"
      },
      "source": [
        ""
      ],
      "execution_count": null,
      "outputs": []
    }
  ]
}