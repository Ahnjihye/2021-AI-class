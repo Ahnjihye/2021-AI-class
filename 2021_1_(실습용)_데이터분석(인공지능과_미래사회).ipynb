{
  "nbformat": 4,
  "nbformat_minor": 0,
  "metadata": {
    "colab": {
      "name": "2021-1-(실습용)-데이터분석(인공지능과 미래사회).ipynb",
      "provenance": [],
      "collapsed_sections": [],
      "authorship_tag": "ABX9TyOGnTjwgCQQmuQWAekrfSMt",
      "include_colab_link": true
    },
    "kernelspec": {
      "name": "python3",
      "display_name": "Python 3"
    },
    "language_info": {
      "name": "python"
    }
  },
  "cells": [
    {
      "cell_type": "markdown",
      "metadata": {
        "id": "view-in-github",
        "colab_type": "text"
      },
      "source": [
        "<a href=\"https://colab.research.google.com/github/Ahnjihye/2021-AI-class/blob/main/2021_1_(%EC%8B%A4%EC%8A%B5%EC%9A%A9)_%EB%8D%B0%EC%9D%B4%ED%84%B0%EB%B6%84%EC%84%9D(%EC%9D%B8%EA%B3%B5%EC%A7%80%EB%8A%A5%EA%B3%BC_%EB%AF%B8%EB%9E%98%EC%82%AC%ED%9A%8C).ipynb\" target=\"_parent\"><img src=\"https://colab.research.google.com/assets/colab-badge.svg\" alt=\"Open In Colab\"/></a>"
      ]
    },
    {
      "cell_type": "markdown",
      "metadata": {
        "id": "pV7zD6sSgZM7"
      },
      "source": [
        "# 1. 데이터 업로드하기\n",
        "\n",
        "\n",
        "```\n",
        "from google.colab import files\n",
        "uploaded = files.upload()\n",
        "```\n",
        "\n"
      ]
    },
    {
      "cell_type": "code",
      "metadata": {
        "id": "rN8uOjL5gHa6"
      },
      "source": [
        ""
      ],
      "execution_count": null,
      "outputs": []
    },
    {
      "cell_type": "markdown",
      "metadata": {
        "id": "6XrnlHRYgoJo"
      },
      "source": [
        "## pandas를 활용하여 데이터를 가공할 수 있는 형태로 변경하기 "
      ]
    },
    {
      "cell_type": "markdown",
      "metadata": {
        "id": "zIDZj3E56a5m"
      },
      "source": [
        "\n",
        "\n",
        "```\n",
        "import pandas as pd\n",
        "\n",
        "data = pd.read_csv('파일 이름', encoding='cp949')\n",
        "```\n",
        "\n"
      ]
    },
    {
      "cell_type": "code",
      "metadata": {
        "id": "n7-u9nREgdtn"
      },
      "source": [
        ""
      ],
      "execution_count": null,
      "outputs": []
    },
    {
      "cell_type": "markdown",
      "metadata": {
        "id": "eRbIj6OSytuV"
      },
      "source": [
        "#### 데이터 통계 파악하기"
      ]
    },
    {
      "cell_type": "code",
      "metadata": {
        "id": "Q9Zbrwryyt1U"
      },
      "source": [
        ""
      ],
      "execution_count": null,
      "outputs": []
    },
    {
      "cell_type": "code",
      "metadata": {
        "id": "helKB1Gkg4hl"
      },
      "source": [
        "# 일자만 골라내기\n"
      ],
      "execution_count": null,
      "outputs": []
    },
    {
      "cell_type": "code",
      "metadata": {
        "id": "CgdYYx3Jhlgl"
      },
      "source": [
        "# 평균 기온만 골라내기\n"
      ],
      "execution_count": null,
      "outputs": []
    },
    {
      "cell_type": "code",
      "metadata": {
        "id": "Xmn67aNhhsV1"
      },
      "source": [
        "# 최저 기온만 골라내기\n"
      ],
      "execution_count": null,
      "outputs": []
    },
    {
      "cell_type": "code",
      "metadata": {
        "id": "DuqSWI6uiQ76"
      },
      "source": [
        "# 최고 기온만 골라내기\n"
      ],
      "execution_count": null,
      "outputs": []
    },
    {
      "cell_type": "markdown",
      "metadata": {
        "id": "HN1nR4hdiXwV"
      },
      "source": [
        "# 2. 데이터 시각화\n",
        "\n",
        "```\n",
        "import matplotlib.pyplot as plt\n",
        "\n",
        "# 그래프 명령어 중 택1\n",
        "plt.plot(x축, y축)        # 꺾은선 그래프\n",
        "plt.bar(x축, y축)         # 막대 그래프\n",
        "plt.scatter(x축, y축)     # 산점도, 산포도\n",
        "plt.hist(데이터)          # 히스토그램\n",
        "plt.pie(데이터)           # 원그래프\n",
        "plt.boxplot(데이터)       # 상자수염 그래프\n",
        "\n",
        "plt.show()\n",
        "```"
      ]
    },
    {
      "cell_type": "markdown",
      "metadata": {
        "id": "vJ8BywPDiaF1"
      },
      "source": [
        "## 2-1. 꺾은선 그래프 plt.plot()\n",
        "```\n",
        "plt.plot(x축, y축)      \n",
        "plt.show()\n",
        "```\n"
      ]
    },
    {
      "cell_type": "code",
      "metadata": {
        "id": "A8C5EQ-siWdA"
      },
      "source": [
        ""
      ],
      "execution_count": null,
      "outputs": []
    },
    {
      "cell_type": "markdown",
      "metadata": {
        "id": "mxpaw8oe-Tc2"
      },
      "source": [
        "#### x축 눈금 조정하기 \n",
        "\n",
        "\n",
        "```\n",
        "plt.xticks(['2019-01-01', '2019-03-01', '2019-05-01', '2019-07-01', '2019-09-01', '2019-11-01', '2020-01-01'], \n",
        "           ['2019-01', '2019-03', '2019-05', '2019-07', '2019-09', '2019-11', '2020-01'])\n",
        "```\n",
        "\n"
      ]
    },
    {
      "cell_type": "code",
      "metadata": {
        "id": "Pe-21X_vjF_l"
      },
      "source": [
        ""
      ],
      "execution_count": null,
      "outputs": []
    },
    {
      "cell_type": "markdown",
      "metadata": {
        "id": "6UDut-Hmnhsk"
      },
      "source": [
        "#### 해상도 설정하기\n",
        "\n",
        "\n",
        "```\n",
        "plt.figure(dpi = 해상도)\n",
        "```\n",
        "\n"
      ]
    },
    {
      "cell_type": "code",
      "metadata": {
        "id": "oOjbh6FVnckg"
      },
      "source": [
        ""
      ],
      "execution_count": null,
      "outputs": []
    },
    {
      "cell_type": "markdown",
      "metadata": {
        "id": "l9TZ0uqdoTua"
      },
      "source": [
        "#### 그래프 색상 설정하기\n",
        "\n",
        "\n",
        "```\n",
        "plt.plot(x축, y축, color = '색상명')\n",
        "```"
      ]
    },
    {
      "cell_type": "code",
      "metadata": {
        "id": "46HSOhW8oT1c"
      },
      "source": [
        ""
      ],
      "execution_count": null,
      "outputs": []
    },
    {
      "cell_type": "markdown",
      "metadata": {
        "id": "Xlk7mmrRn5Ov"
      },
      "source": [
        "#### 범례 설정하기\n",
        "\n",
        "\n",
        "```\n",
        "plt.plot(x축, y축, label = '표시할 범례')\n",
        "plt.legend()\n",
        "```\n"
      ]
    },
    {
      "cell_type": "code",
      "metadata": {
        "id": "IJ3SF9y-oftM"
      },
      "source": [
        ""
      ],
      "execution_count": null,
      "outputs": []
    },
    {
      "cell_type": "markdown",
      "metadata": {
        "id": "lHew1tSt-koN"
      },
      "source": [
        "#### 꺾은선 그래프 여러 개 겹쳐 그리기"
      ]
    },
    {
      "cell_type": "code",
      "metadata": {
        "id": "GpUfpe6RmtmH"
      },
      "source": [
        ""
      ],
      "execution_count": null,
      "outputs": []
    },
    {
      "cell_type": "code",
      "metadata": {
        "id": "cQdb_nJwm16Z"
      },
      "source": [
        ""
      ],
      "execution_count": null,
      "outputs": []
    },
    {
      "cell_type": "code",
      "metadata": {
        "id": "ks11tPQRrmVf"
      },
      "source": [
        ""
      ],
      "execution_count": null,
      "outputs": []
    },
    {
      "cell_type": "markdown",
      "metadata": {
        "id": "-a2AohqClBRI"
      },
      "source": [
        "#### 2019년의 날씨를 분석해보자. \n",
        "\n",
        "> 내용 작성하기"
      ]
    },
    {
      "cell_type": "markdown",
      "metadata": {
        "id": "-3j3g8zIpaiy"
      },
      "source": [
        "## 2-2. 막대그래프 plt.bar()\n",
        "```\n",
        "plt.bar(x축, y축)        \n",
        "plt.show()\n",
        "```"
      ]
    },
    {
      "cell_type": "code",
      "metadata": {
        "id": "cxizYeEppZYP"
      },
      "source": [
        ""
      ],
      "execution_count": null,
      "outputs": []
    },
    {
      "cell_type": "code",
      "metadata": {
        "id": "eM3_HV7KpyXL"
      },
      "source": [
        ""
      ],
      "execution_count": null,
      "outputs": []
    },
    {
      "cell_type": "markdown",
      "metadata": {
        "id": "Sro_CBDAnMnW"
      },
      "source": [
        "2019년에서 일교차가 가장 큰 날은?"
      ]
    },
    {
      "cell_type": "code",
      "metadata": {
        "id": "1nQtJfkNjzIU"
      },
      "source": [
        ""
      ],
      "execution_count": null,
      "outputs": []
    },
    {
      "cell_type": "markdown",
      "metadata": {
        "id": "sZQ-iSY0pJiz"
      },
      "source": [
        "왜 그래프가 잘 안나타날까?\n",
        "> 내용 작성하기"
      ]
    },
    {
      "cell_type": "code",
      "metadata": {
        "id": "LboUrMOonUUR"
      },
      "source": [
        ""
      ],
      "execution_count": null,
      "outputs": []
    },
    {
      "cell_type": "markdown",
      "metadata": {
        "id": "xLddeeftq8sa"
      },
      "source": [
        "#### 일교차 데이터 추가하기"
      ]
    },
    {
      "cell_type": "code",
      "metadata": {
        "id": "WVDeG-8EnY1k"
      },
      "source": [
        ""
      ],
      "execution_count": null,
      "outputs": []
    },
    {
      "cell_type": "code",
      "metadata": {
        "id": "8nC6ahfnq6Ex"
      },
      "source": [
        ""
      ],
      "execution_count": null,
      "outputs": []
    },
    {
      "cell_type": "code",
      "metadata": {
        "id": "cewOEaAPqzxt"
      },
      "source": [
        ""
      ],
      "execution_count": null,
      "outputs": []
    },
    {
      "cell_type": "code",
      "metadata": {
        "id": "TvZqToMRq4cV"
      },
      "source": [
        ""
      ],
      "execution_count": null,
      "outputs": []
    },
    {
      "cell_type": "markdown",
      "metadata": {
        "id": "a0itYP1O_BVl"
      },
      "source": [
        "## 2-4. 산점도 plt.scatter()\n",
        "```\n",
        "plt.scatter(x축, y축)        \n",
        "plt.show()\n",
        "```"
      ]
    },
    {
      "cell_type": "code",
      "metadata": {
        "id": "N4ZwqMYPsDSr"
      },
      "source": [
        ""
      ],
      "execution_count": null,
      "outputs": []
    },
    {
      "cell_type": "code",
      "metadata": {
        "id": "bMgdYlXKuyWh"
      },
      "source": [
        ""
      ],
      "execution_count": null,
      "outputs": []
    },
    {
      "cell_type": "markdown",
      "metadata": {
        "id": "vlWUinKJvEo-"
      },
      "source": [
        "#### x축, y축 이름 붙이기\n",
        "\n",
        "\n",
        "```\n",
        "plt.xlabel('축이름')\n",
        "plt.ylabel('축이름')\n",
        "```\n",
        "\n"
      ]
    },
    {
      "cell_type": "code",
      "metadata": {
        "id": "h8HzOFduu8g2"
      },
      "source": [
        ""
      ],
      "execution_count": null,
      "outputs": []
    }
  ]
}