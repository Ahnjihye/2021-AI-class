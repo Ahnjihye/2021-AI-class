{
  "nbformat": 4,
  "nbformat_minor": 0,
  "metadata": {
    "colab": {
      "name": "2021-1-(완성본)-선형회귀(인공지능과 미래사회).ipynb",
      "provenance": [],
      "collapsed_sections": [],
      "authorship_tag": "ABX9TyMoakg3mgW1/TLfGYuytUqp",
      "include_colab_link": true
    },
    "kernelspec": {
      "name": "python3",
      "display_name": "Python 3"
    },
    "language_info": {
      "name": "python"
    }
  },
  "cells": [
    {
      "cell_type": "markdown",
      "metadata": {
        "id": "view-in-github",
        "colab_type": "text"
      },
      "source": [
        "<a href=\"https://colab.research.google.com/github/Ahnjihye/2021-AI-class/blob/main/2021_1_(%EC%99%84%EC%84%B1%EB%B3%B8)_%EC%84%A0%ED%98%95%ED%9A%8C%EA%B7%80(%EC%9D%B8%EA%B3%B5%EC%A7%80%EB%8A%A5%EA%B3%BC_%EB%AF%B8%EB%9E%98%EC%82%AC%ED%9A%8C).ipynb\" target=\"_parent\"><img src=\"https://colab.research.google.com/assets/colab-badge.svg\" alt=\"Open In Colab\"/></a>"
      ]
    },
    {
      "cell_type": "markdown",
      "metadata": {
        "id": "hFCwtnEXgerf"
      },
      "source": [
        "# 1. 생각 열기 \n",
        "\n",
        "<img src='https://github.com/Ahnjihye/2021-AI-class/blob/images/%EC%9D%B4%EB%AF%B8%EC%A7%80%20001.png?raw=true' width=400>"
      ]
    },
    {
      "cell_type": "markdown",
      "metadata": {
        "id": "hf2wi6_pnAOK"
      },
      "source": [
        "# 2. 선형 회귀 개념\n",
        ": 가장 훌륭한 예측선 찾기\n",
        "<br/>\n",
        "<img src='https://github.com/Ahnjihye/2021-AI-class/blob/images/%EC%8A%AC%EB%9D%BC%EC%9D%B4%EB%93%9C2.PNG?raw=true' width=600>\n",
        "<br/>\n",
        "<img src='https://github.com/Ahnjihye/2021-AI-class/blob/images/%EC%8A%AC%EB%9D%BC%EC%9D%B4%EB%93%9C3.PNG?raw=true' width=600>\n",
        "<br/>\n",
        "<img src='https://github.com/Ahnjihye/2021-AI-class/blob/images/%EC%8A%AC%EB%9D%BC%EC%9D%B4%EB%93%9C4.PNG?raw=true' width=600>\n",
        "\n",
        "<img src='https://github.com/Ahnjihye/2021-AI-class/blob/images/%EC%9D%B4%EB%AF%B8%EC%A7%80%20003.png?raw=true' width=800>\n",
        "<br/>\n",
        "<br/>\n",
        "\n",
        "### 실제 활용 사례\n",
        "\n",
        "ex1.[수면의 질이 인지기능에 미치는 영향](https://www.dementianews.co.kr/news/articleView.html?idxno=3056)\n",
        "\n",
        "ex2. [금리, 주가지수, 수요 정책으로 부동산 가격 예측](https://www.yna.co.kr/view/AKR20210330070800002)\n",
        "\n",
        "ex3. [미세먼지가 코로나 치명률에 미치는 영향](https://news.joins.com/article/23921969)\n",
        "\n"
      ]
    },
    {
      "cell_type": "markdown",
      "metadata": {
        "id": "pe9XW8H9pIdw"
      },
      "source": [
        "# 3. 가장 훌륭한 예측선을 어떻게 찾을 수 있을까?\n",
        "\n",
        "다음 중 가장 훌륭한 예측선은?\n",
        "\n",
        "<img src='https://github.com/Ahnjihye/2021-AI-class/blob/images/%EC%8A%AC%EB%9D%BC%EC%9D%B4%EB%93%9C3.PNG?raw=true' width=600>\n"
      ]
    },
    {
      "cell_type": "markdown",
      "metadata": {
        "id": "xfeflT5kpIjU"
      },
      "source": [
        "**놀랍게도 수학적으로 계산이 가능하다!**\n",
        "\n",
        "#### 1. 직선의 오차를 구하고\n",
        "#### 2. 가장 작은 오차를 가진 직선을 고르면 끝!\n",
        "\n",
        "<br/><br/>\n",
        "\n",
        "<img src='https://github.com/Ahnjihye/2021-AI-class/blob/images/%EC%9D%B4%EB%AF%B8%EC%A7%80%20004.png?raw=true' width=500>\n",
        "\n",
        "\n",
        "<img src='https://github.com/Ahnjihye/2021-AI-class/blob/images/%EC%9D%B4%EB%AF%B8%EC%A7%80%20005.png?raw=true' width=500>\n",
        "\n",
        "\n",
        "\n",
        "\n"
      ]
    },
    {
      "cell_type": "markdown",
      "metadata": {
        "id": "7EsvbbSarUJx"
      },
      "source": [
        "# 3. 평균 제곱 오차 : 직선의 오차를 구하는 방법\n",
        "\n",
        "## step1. 오차 구하기\n",
        "\n",
        "**오차 = 예측값-실제값**\n",
        "\n",
        "<img src='https://github.com/Ahnjihye/2021-AI-class/blob/images/%EC%9D%B4%EB%AF%B8%EC%A7%80%20006.png?raw=true' width=600>\n",
        "<img src='https://github.com/Ahnjihye/2021-AI-class/blob/images/%EC%9D%B4%EB%AF%B8%EC%A7%80%20007.png?raw=true' width=600>\n",
        "\n",
        "## step2. step1에서 구한 오차를 제곱하기\n",
        "\n",
        "<img src='https://github.com/Ahnjihye/2021-AI-class/blob/images/%EC%9D%B4%EB%AF%B8%EC%A7%80%20008.png?raw=true' width=600>\n",
        "\n",
        "## step3. step2에서 구한 오차제곱들의 평균 구하기\n",
        "\n",
        "<img src='https://github.com/Ahnjihye/2021-AI-class/blob/images/%EC%9D%B4%EB%AF%B8%EC%A7%80%20009.png?raw=true' width=600>\n",
        "\n"
      ]
    },
    {
      "cell_type": "markdown",
      "metadata": {
        "id": "Hxy1k-U9sRW5"
      },
      "source": [
        "# 4. 오늘의 과제\n",
        "\n",
        "<img src='https://github.com/Ahnjihye/2021-AI-class/blob/images/%EC%9D%B4%EB%AF%B8%EC%A7%80%20010.png?raw=true' width= 700>\n",
        "\n",
        "-> 구글 클래스룸 <과제>화면에서 제출하기"
      ]
    },
    {
      "cell_type": "markdown",
      "metadata": {
        "id": "1nOYssfykFwF"
      },
      "source": [
        "# 5. 선형회귀 프로그래밍\n",
        "\n",
        "1.   데이터를 코드로 표현하기\n",
        "2.   가장 정확한 예측선 찾기"
      ]
    },
    {
      "cell_type": "code",
      "metadata": {
        "id": "HDGED44AS7IL",
        "colab": {
          "base_uri": "https://localhost:8080/",
          "height": 266
        },
        "outputId": "e213c4a2-7c66-4161-989d-64f46f12e510"
      },
      "source": [
        "import numpy as np\n",
        "import matplotlib.pyplot as plt   # 그래프를 그릴때 사용하는 라이브러리\n",
        "\n",
        "# 데이터의 x값들(새끼강아지의 발 크기)\n",
        "data_x = [12, 20, 30, 56]        \n",
        "\n",
        "# 데이터의 y값들(성견일 때의 몸 크기) \n",
        "data_y = [150, 208, 500, 875]     \n",
        "\n",
        "# 산점도 그리는 명령어 plt.scatter\n",
        "plt.scatter(data_x, data_y)       \n",
        "\n",
        "plt.grid(True)                    # 그래프에 격자 추가\n",
        "plt.show()                        # 화면에 그래프 나타내기"
      ],
      "execution_count": null,
      "outputs": [
        {
          "output_type": "display_data",
          "data": {
            "image/png": "[encoded data removed]",
            "text/plain": [
              "<Figure size 432x288 with 1 Axes>"
            ]
          },
          "metadata": {
            "tags": [],
            "needs_background": "light"
          }
        }
      ]
    },
    {
      "cell_type": "code",
      "metadata": {
        "colab": {
          "base_uri": "https://localhost:8080/",
          "height": 266
        },
        "id": "EmReeBIutr7_",
        "outputId": "a4b04a21-9644-4b6d-cc3f-820395aed951"
      },
      "source": [
        "#------------ 데이터 세팅 ----------------\n",
        "data_x = [12, 20, 30, 56]        \n",
        "data_y = [150, 208, 500, 875]     \n",
        "\n",
        "# 산점도 그리는 명령어 plt.scatter\n",
        "plt.scatter(data_x, data_y)       \n",
        "\n",
        "#------- y = 12x + 80을 그리기 위해 예측y값을 구하기 -----------\n",
        "# 예측선의 기울기(a)와 y절편(b)\n",
        "a = 12\n",
        "b = 80\n",
        "\n",
        "# data_x에 대한 예측값 계산\n",
        "predict_y =  a * np.array(data_x) + b\n",
        "\n",
        "# y = 12x + 80 직선 그리는 명령어 plt.plot\n",
        "plt.plot(data_x, predict_y, color ='r')  # 꺽은선그래프를 그리는 명령어\n",
        "\n",
        "plt.grid(True)                    # 그래프에 격자 추가\n",
        "plt.show()                        # 화면에 그래프 나타내기"
      ],
      "execution_count": null,
      "outputs": [
        {
          "output_type": "display_data",
          "data": {
            "image/png": "[encoded data removed]",
            "text/plain": [
              "<Figure size 432x288 with 1 Axes>"
            ]
          },
          "metadata": {
            "tags": [],
            "needs_background": "light"
          }
        }
      ]
    },
    {
      "cell_type": "code",
      "metadata": {
        "colab": {
          "base_uri": "https://localhost:8080/"
        },
        "id": "Qps_7TMut0uo",
        "outputId": "65710af9-de3d-4a08-d5cb-0ac29b7c590e"
      },
      "source": [
        "# 예측 y 확인해보기\n",
        "print(predict_y)"
      ],
      "execution_count": null,
      "outputs": [
        {
          "output_type": "stream",
          "text": [
            "[224 320 440 752]\n"
          ],
          "name": "stdout"
        }
      ]
    },
    {
      "cell_type": "markdown",
      "metadata": {
        "id": "X9Px5USDxRSP"
      },
      "source": [
        "# 6. sklearn으로 평균제곱오차 구하기\n",
        "\n",
        "sklearn이란? \n",
        "\n",
        "파이썬에서 활용되는 머신러닝 관련 기능을 모두 모아놓은 모음집\n",
        "<br/>\n",
        "sklearn 안에 미리 구현된 기능을 사용하기만 하면 된다!\n",
        "\n",
        "```\n",
        "from 모음집 import 기능\n",
        "```\n",
        "<br/>\n",
        "평균제곱오차는 sklearn.metrics 안의 mean_squared_error\n",
        "\n",
        "```\n",
        "from sklearn.metrics import mean_squared_error\n",
        "\n",
        "mean_squared_error(실제y값, 예측y값)\n",
        "```\n",
        "\n",
        "\n",
        "\n"
      ]
    },
    {
      "cell_type": "code",
      "metadata": {
        "colab": {
          "base_uri": "https://localhost:8080/"
        },
        "id": "hoDVaarUxI3M",
        "outputId": "fadfb61f-eefb-4360-f258-a1af77398253"
      },
      "source": [
        "from sklearn.metrics import mean_squared_error\n",
        "\n",
        "mean_squared_error(data_y, predict_y)"
      ],
      "execution_count": null,
      "outputs": [
        {
          "output_type": "execute_result",
          "data": {
            "text/plain": [
              "9187.25"
            ]
          },
          "metadata": {
            "tags": []
          },
          "execution_count": 5
        }
      ]
    },
    {
      "cell_type": "markdown",
      "metadata": {
        "id": "BMe6hMpD1Kom"
      },
      "source": [
        "# 7. sklearn으로 가장 훌륭한 예측선 구하기\n",
        "\n",
        "선형회귀는 sklearn.linear_model 안의 LinearRegression\n",
        "\n",
        "```\n",
        "from sklearn.linear_model import LinearRegression\n",
        "```"
      ]
    },
    {
      "cell_type": "code",
      "metadata": {
        "colab": {
          "base_uri": "https://localhost:8080/"
        },
        "id": "BYM7syYZ1BWP",
        "outputId": "1f885510-bafb-415b-f577-b551522ab0e9"
      },
      "source": [
        "from sklearn.linear_model import LinearRegression\n",
        "\n",
        "data_x = [[12], [20], [30], [56]] \n",
        "\n",
        "model = LinearRegression()\n",
        "\n",
        "# 모델 학습시키기 : 모델이름.fit(x축데이터, y축데이터)\n",
        "model.fit(data_x, data_y)"
      ],
      "execution_count": null,
      "outputs": [
        {
          "output_type": "execute_result",
          "data": {
            "text/plain": [
              "LinearRegression(copy_X=True, fit_intercept=True, n_jobs=None, normalize=False)"
            ]
          },
          "metadata": {
            "tags": []
          },
          "execution_count": 7
        }
      ]
    },
    {
      "cell_type": "markdown",
      "metadata": {
        "id": "MGubW0Ac539k"
      },
      "source": [
        "가장 정확한 예측선이 model에 담겨있음\n",
        "\n",
        "\n",
        "*   기울기 : model.coef_\n",
        "*   y절편 : model.intercept_\n",
        "\n"
      ]
    },
    {
      "cell_type": "code",
      "metadata": {
        "id": "NjXd7maE3rcD",
        "colab": {
          "base_uri": "https://localhost:8080/"
        },
        "outputId": "b79799c0-17ba-4b55-bf92-fc2713a3432e"
      },
      "source": [
        "# 가장 정확한 예측선의 기울기\n",
        "print(model.coef_)\n",
        "\n",
        "# 가장 정확한 예측선의 y절편\n",
        "print(model.intercept_)"
      ],
      "execution_count": 8,
      "outputs": [
        {
          "output_type": "stream",
          "text": [
            "[17.13967243]\n",
            "-72.37033666969967\n"
          ],
          "name": "stdout"
        }
      ]
    },
    {
      "cell_type": "markdown",
      "metadata": {
        "id": "wy_UtW538XFA"
      },
      "source": [
        "가장 정확한 직선을 데이터 위에 표현하기"
      ]
    },
    {
      "cell_type": "code",
      "metadata": {
        "colab": {
          "base_uri": "https://localhost:8080/",
          "height": 265
        },
        "id": "zSBnwcqf742a",
        "outputId": "88f7002d-d906-44e7-ef68-0e3d711e5868"
      },
      "source": [
        "#------------ 데이터 세팅 ----------------\n",
        "data_x = [12, 20, 30, 56]        \n",
        "data_y = [150, 208, 500, 875]     \n",
        "\n",
        "# 산점도 그리는 명령어 plt.scatter\n",
        "plt.scatter(data_x, data_y)       \n",
        "\n",
        "# 예측선의 기울기(a)와 y절편(b)\n",
        "a = model.coef_\n",
        "b = model.intercept_\n",
        "\n",
        "# data_x에 대한 예측값 계산\n",
        "predict_y =  a * np.array(data_x) + b\n",
        "\n",
        "# y = 12x + 80 직선 그리는 명령어 plt.plot\n",
        "plt.plot(data_x, predict_y, color ='r')  # 꺽은선그래프를 그리는 명령어\n",
        "\n",
        "plt.grid(True)                    # 그래프에 격자 추가\n",
        "plt.show()                        # 화면에 그래프 나타내기"
      ],
      "execution_count": 9,
      "outputs": [
        {
          "output_type": "display_data",
          "data": {
            "image/png": "[encoded data removed]",
            "text/plain": [
              "<Figure size 432x288 with 1 Axes>"
            ]
          },
          "metadata": {
            "tags": [],
            "needs_background": "light"
          }
        }
      ]
    },
    {
      "cell_type": "code",
      "metadata": {
        "id": "YVtSpFn68iZS"
      },
      "source": [
        ""
      ],
      "execution_count": null,
      "outputs": []
    }
  ]
}