{
  "nbformat": 4,
  "nbformat_minor": 0,
  "metadata": {
    "colab": {
      "name": "2021_1_(완성본)_딥러닝(인공지능과_미래사회).ipynb",
      "provenance": [],
      "collapsed_sections": [],
      "authorship_tag": "ABX9TyPhjjxrse0/Qd5M97f96L8/",
      "include_colab_link": true
    },
    "kernelspec": {
      "name": "python3",
      "display_name": "Python 3"
    },
    "language_info": {
      "name": "python"
    }
  },
  "cells": [
    {
      "cell_type": "markdown",
      "metadata": {
        "id": "view-in-github",
        "colab_type": "text"
      },
      "source": [
        "<a href=\"https://colab.research.google.com/github/Ahnjihye/2021-AI-class/blob/main/2021_1_(%EC%99%84%EC%84%B1%EB%B3%B8)_%EB%94%A5%EB%9F%AC%EB%8B%9D(%EC%9D%B8%EA%B3%B5%EC%A7%80%EB%8A%A5%EA%B3%BC_%EB%AF%B8%EB%9E%98%EC%82%AC%ED%9A%8C).ipynb\" target=\"_parent\"><img src=\"https://colab.research.google.com/assets/colab-badge.svg\" alt=\"Open In Colab\"/></a>"
      ]
    },
    {
      "cell_type": "markdown",
      "metadata": {
        "id": "BAWDShUYxT-E"
      },
      "source": [
        "# 1. 딥러닝 활용분야\n",
        "### 1-1. 이미지처리\n",
        "\n",
        "<img src='https://s3-us-west-2.amazonaws.com/static.pyimagesearch.com/opencv-yolo/yolo_car_chase_01_output.gif'>\n",
        "  \n",
        "<img src='https://miro.medium.com/max/1103/1*tQ9PotwEr93jwFte56U8aA.gif'>\n",
        "<img src='https://s3-us-west-2.amazonaws.com/static.pyimagesearch.com/opencv-face-recognition/opencv_face_reco_animation.gif'>\n",
        "\n"
      ]
    },
    {
      "cell_type": "markdown",
      "metadata": {
        "id": "fzqNmP-dxdup"
      },
      "source": [
        "\n",
        "## 1-2. 자연어 처리\n",
        "\n",
        "<img src='https://pds.joins.com/news/component/htmlphoto_mmdata/201605/28/htm_2016052894342117622.JPG' width=500>\n",
        "<img src='https://images.chosun.com/resizer/xKp6vZn0Tap2nAyWZb3x7nfxX1A=/616x0/smart/cloudfront-ap-northeast-1.images.arcpublishing.com/chosun/J6WHZS5XNZEXVOO3APDPFC3H2I.jpg' width=500>\n",
        "\n",
        "<br/>\n",
        "\n",
        "**단어를 그래프 상의 위치로 파악하는 인공지능**\n",
        "\n",
        "<br/>\n",
        "<img src='https://t1.kakaocdn.net/braincloud/homepage/article_image/201803201508516713249.png' width=400>"
      ]
    },
    {
      "cell_type": "markdown",
      "metadata": {
        "id": "Mrvi0__3ziru"
      },
      "source": [
        "# 2. 딥러닝의 기본단위 : 퍼셉트론(Perceptron)\n",
        "\n",
        "퍼셉트론 = 인간의 신경 세포 뉴런과 유사한 형태\n",
        "\n",
        "<img src='https://lh3.googleusercontent.com/proxy/hvvTQEsGVZ61ztymK0PvYuzZURUoSllEIJt_GbjASLIUaYAzTQbiOjGMuu3xD3NXMfGESlv_SmFStptN3RQz5WgyBgrFP857YoijPPHf2IhcO3nzvZ35jSXH' width=700>\n",
        "\n",
        "<br/>\n",
        "<br/>\n",
        "\n",
        "<img src='https://miro.medium.com/proxy/1*3UpdymQx-C1tBKRnfD7eOg.gif'>\n",
        "\n",
        "<br/>\n",
        "<br/>\n",
        "\n",
        "<img src='https://github.com/Ahnjihye/2021-AI-class/blob/images/%EB%94%A5%EB%9F%AC%EB%8B%9D%20006.png?raw=true' width=700>"
      ]
    },
    {
      "cell_type": "markdown",
      "metadata": {
        "id": "RCByDFm-5cgg"
      },
      "source": [
        "# 3. 단층 퍼셉트론과 다층 퍼셉트론\n",
        "\n",
        "<img src='https://github.com/Ahnjihye/2021-AI-class/blob/images/%EB%94%A5%EB%9F%AC%EB%8B%9D%20017.png?raw=true' width=800>\n",
        "\n",
        "\n",
        "\n",
        "*   단층 퍼셉트론은 입력층 - 출력층만 있는 형태\n",
        "*   다층 퍼셉트론은 입력측 - 은닉층 - 출력층이 있는 형태 \n",
        "\n",
        "<br/>\n",
        "\n",
        "### 일반적인 딥러닝 구조 \n",
        "\n",
        "\n",
        "<img src='https://analyticsindiamag.com/wp-content/uploads/2018/01/nural-network_3.gif' width=600>\n",
        "\n",
        "<img src='https://i2.wp.com/www.yoonsupchoi.com/wp-content/uploads/2017/08/google-brain.png?fit=1000%2C501' width=600>\n",
        "\n",
        "<img src='https://cdn.apple-economy.com/news/photo/201702/32321_17395_2440.jpg' width=600>\n",
        "\n",
        "#### 은닉층이 많다 => deep하다고 표현 \n",
        "#### 은닉층이 많을수록 더 정교한 학습이 가능!!\n",
        "\n",
        "\n",
        "\n"
      ]
    },
    {
      "cell_type": "markdown",
      "metadata": {
        "id": "uJMRoqHT-TUE"
      },
      "source": [
        "# 4. 인공지능으로 풀 수 있는 문제 \n",
        "\n",
        "\n",
        "1.   선형 공간 : 직선으로 해결가능한 문제\n",
        "\n",
        "<img src='https://github.com/Ahnjihye/2021-AI-class/blob/images/%EB%94%A5%EB%9F%AC%EB%8B%9D%20018.png?raw=true' width=500>\n",
        "\n",
        "\n",
        "\n",
        "2.   비선형 공간 : 직선으로 해결 불가능한 문제\n",
        "\n",
        "<img src='https://github.com/Ahnjihye/2021-AI-class/blob/images/%EB%94%A5%EB%9F%AC%EB%8B%9D%20019.png?raw=true' width=500>\n",
        "\n",
        " \n",
        "\n",
        "\n",
        "\n",
        "\n",
        "\n"
      ]
    },
    {
      "cell_type": "markdown",
      "metadata": {
        "id": "rGgH4Kdu_cDy"
      },
      "source": [
        "# 5. 단일 퍼셉트론은 직선으로 학습\n",
        "\n",
        "<img src='https://www.edureka.co/blog/wp-content/uploads/2017/12/Perceptron-Learning-Algorithm_03.gif' width=600>\n",
        "\n",
        "### => 텐서플로우 그라운드에서 선형 공간의 데이터를 선택해보고, 단일 퍼셉트론으로 해결해보기 \n",
        "\n",
        "[텐서플로우 그라운드](https://playground.tensorflow.org/)\n"
      ]
    },
    {
      "cell_type": "markdown",
      "metadata": {
        "id": "vsbZnfQ__mOZ"
      },
      "source": [
        "# 6. 비선형 문제를 해결하는 데 탁월한 다층 퍼셉트론\n",
        "\n",
        "<img src='https://github.com/Ahnjihye/2021-AI-class/blob/images/%EB%94%A5%EB%9F%AC%EB%8B%9D%20020.png?raw=true' width=700>\n",
        "\n",
        "### => 텐서플로우 그라운드에서 비선형 공간의 데이터를 선택해보고, 다층 퍼셉트론으로 해결해보기 \n",
        "\n",
        "[텐서플로우 그라운드](https://playground.tensorflow.org/)\n"
      ]
    },
    {
      "cell_type": "markdown",
      "metadata": {
        "id": "_IZmu1nvMfOU"
      },
      "source": [
        "# 딥러닝 프로그래밍\n",
        "\n",
        "## 이미지 인식\n",
        "\n",
        "<img src=\"https://ai.stanford.edu/~syyeung/cvweb/Pictures1/imagematrix.png\">\n",
        "\n",
        "*   이미지는 여러 개의 픽셀(네모칸)로 이루어져 있음\n",
        "*   흑백이미지에서는 색상이 흰색, 검정색만 존재\n",
        "*   픽셀의 숫자로 흰 정도, 검은 정도를 표현함\n",
        "*   검을수록 0에 가깝고, 흰색에 가까울수록 255에 가까움\n",
        "\n",
        "\n",
        "\n",
        "## 인간의 손글씨 인식시켜보기\n",
        "\n",
        "### 손글씨 이미지 구성 - MNIST \n",
        "- 손글씨 이미지 0부터 9까지 총10개 \n",
        "<br/>\n",
        "<img src=\"https://learnmachinelearning.files.wordpress.com/2017/08/mnist.png?w=638\" height=\"150px\">\n",
        "\n",
        "\n",
        "- 손글씨 0~9 = 총 10개 * 각 600개 = 총 60000개\n",
        "- 학습 데이터 60000개, 테스트 데이터 10000개로 구성\n",
        "- 0~9까지의 숫자 이미지를 구분하는 것은 회귀인가? 분류인가?\n",
        "\n",
        "<br/>\n",
        "<img src = \"https://korchris.github.io/images/overview_mnist.png\">\n",
        "\n",
        "- 각 숫자 이미지는 28 pixel * 28 pixel   \n",
        "![대체 텍스트](https://encrypted-tbn0.gstatic.com/images?q=tbn%3AANd9GcRiYU_Wf8GiLoaAXWiCdJHm87IWjpOfTClkwg&usqp=CAU)\n",
        "\n",
        "> Q. 손글씨 딥러닝 모델의 입력층 개수는?\n",
        "\n",
        "<img src='https://t1.daumcdn.net/cfile/tistory/998BAF475BECAB3B26' width=800>\n",
        "<br/><br/>\n",
        "\n",
        "<img src='https://thumbs.gfycat.com/ActiveCourteousAmericanindianhorse-small.gif' width=600>\n"
      ]
    },
    {
      "cell_type": "markdown",
      "metadata": {
        "id": "NZIBZlE6Mw_9"
      },
      "source": [
        "## 1) 데이터 로드\n",
        "\n",
        "\n",
        "```\n",
        "from keras.datasets import mnist\n",
        "\n",
        "(data_x, data_y), (test_x, test_y) = mnist.load_data()\n",
        "```\n",
        "\n"
      ]
    },
    {
      "cell_type": "code",
      "metadata": {
        "id": "uijmJQc-xXxx",
        "colab": {
          "base_uri": "https://localhost:8080/"
        },
        "outputId": "64886d1d-3b8e-4479-c617-7b9f406539b3"
      },
      "source": [
        "from keras.datasets import mnist\n",
        "\n",
        "(data_x, data_y), (test_x, test_y) = mnist.load_data()"
      ],
      "execution_count": 2,
      "outputs": [
        {
          "output_type": "stream",
          "text": [
            "Downloading data from https://storage.googleapis.com/tensorflow/tf-keras-datasets/mnist.npz\n",
            "11493376/11490434 [==============================] - 0s 0us/step\n"
          ],
          "name": "stdout"
        }
      ]
    },
    {
      "cell_type": "markdown",
      "metadata": {
        "id": "y0Ul6NvbNLT9"
      },
      "source": [
        "\n",
        "위 코드를 실행하면\n",
        "\n",
        "*   data_x에는 784개의 픽셀값(이미지)이 자동으로 저장됨\n",
        "*   data_y에는 해당 이미지의 숫자(0~9 중 하나)가 저장됨\n"
      ]
    },
    {
      "cell_type": "code",
      "metadata": {
        "colab": {
          "base_uri": "https://localhost:8080/"
        },
        "id": "qDxxwm4mNCms",
        "outputId": "2fd87da2-cca7-4053-a309-dc8b39c6d532"
      },
      "source": [
        "# 첫번째 숫자 이미지 살펴보기\n",
        "print(data_x[0])"
      ],
      "execution_count": 3,
      "outputs": [
        {
          "output_type": "stream",
          "text": [
            "[[  0   0   0   0   0   0   0   0   0   0   0   0   0   0   0   0   0   0\n",
            "    0   0   0   0   0   0   0   0   0   0]\n",
            " [  0   0   0   0   0   0   0   0   0   0   0   0   0   0   0   0   0   0\n",
            "    0   0   0   0   0   0   0   0   0   0]\n",
            " [  0   0   0   0   0   0   0   0   0   0   0   0   0   0   0   0   0   0\n",
            "    0   0   0   0   0   0   0   0   0   0]\n",
            " [  0   0   0   0   0   0   0   0   0   0   0   0   0   0   0   0   0   0\n",
            "    0   0   0   0   0   0   0   0   0   0]\n",
            " [  0   0   0   0   0   0   0   0   0   0   0   0   0   0   0   0   0   0\n",
            "    0   0   0   0   0   0   0   0   0   0]\n",
            " [  0   0   0   0   0   0   0   0   0   0   0   0   3  18  18  18 126 136\n",
            "  175  26 166 255 247 127   0   0   0   0]\n",
            " [  0   0   0   0   0   0   0   0  30  36  94 154 170 253 253 253 253 253\n",
            "  225 172 253 242 195  64   0   0   0   0]\n",
            " [  0   0   0   0   0   0   0  49 238 253 253 253 253 253 253 253 253 251\n",
            "   93  82  82  56  39   0   0   0   0   0]\n",
            " [  0   0   0   0   0   0   0  18 219 253 253 253 253 253 198 182 247 241\n",
            "    0   0   0   0   0   0   0   0   0   0]\n",
            " [  0   0   0   0   0   0   0   0  80 156 107 253 253 205  11   0  43 154\n",
            "    0   0   0   0   0   0   0   0   0   0]\n",
            " [  0   0   0   0   0   0   0   0   0  14   1 154 253  90   0   0   0   0\n",
            "    0   0   0   0   0   0   0   0   0   0]\n",
            " [  0   0   0   0   0   0   0   0   0   0   0 139 253 190   2   0   0   0\n",
            "    0   0   0   0   0   0   0   0   0   0]\n",
            " [  0   0   0   0   0   0   0   0   0   0   0  11 190 253  70   0   0   0\n",
            "    0   0   0   0   0   0   0   0   0   0]\n",
            " [  0   0   0   0   0   0   0   0   0   0   0   0  35 241 225 160 108   1\n",
            "    0   0   0   0   0   0   0   0   0   0]\n",
            " [  0   0   0   0   0   0   0   0   0   0   0   0   0  81 240 253 253 119\n",
            "   25   0   0   0   0   0   0   0   0   0]\n",
            " [  0   0   0   0   0   0   0   0   0   0   0   0   0   0  45 186 253 253\n",
            "  150  27   0   0   0   0   0   0   0   0]\n",
            " [  0   0   0   0   0   0   0   0   0   0   0   0   0   0   0  16  93 252\n",
            "  253 187   0   0   0   0   0   0   0   0]\n",
            " [  0   0   0   0   0   0   0   0   0   0   0   0   0   0   0   0   0 249\n",
            "  253 249  64   0   0   0   0   0   0   0]\n",
            " [  0   0   0   0   0   0   0   0   0   0   0   0   0   0  46 130 183 253\n",
            "  253 207   2   0   0   0   0   0   0   0]\n",
            " [  0   0   0   0   0   0   0   0   0   0   0   0  39 148 229 253 253 253\n",
            "  250 182   0   0   0   0   0   0   0   0]\n",
            " [  0   0   0   0   0   0   0   0   0   0  24 114 221 253 253 253 253 201\n",
            "   78   0   0   0   0   0   0   0   0   0]\n",
            " [  0   0   0   0   0   0   0   0  23  66 213 253 253 253 253 198  81   2\n",
            "    0   0   0   0   0   0   0   0   0   0]\n",
            " [  0   0   0   0   0   0  18 171 219 253 253 253 253 195  80   9   0   0\n",
            "    0   0   0   0   0   0   0   0   0   0]\n",
            " [  0   0   0   0  55 172 226 253 253 253 253 244 133  11   0   0   0   0\n",
            "    0   0   0   0   0   0   0   0   0   0]\n",
            " [  0   0   0   0 136 253 253 253 212 135 132  16   0   0   0   0   0   0\n",
            "    0   0   0   0   0   0   0   0   0   0]\n",
            " [  0   0   0   0   0   0   0   0   0   0   0   0   0   0   0   0   0   0\n",
            "    0   0   0   0   0   0   0   0   0   0]\n",
            " [  0   0   0   0   0   0   0   0   0   0   0   0   0   0   0   0   0   0\n",
            "    0   0   0   0   0   0   0   0   0   0]\n",
            " [  0   0   0   0   0   0   0   0   0   0   0   0   0   0   0   0   0   0\n",
            "    0   0   0   0   0   0   0   0   0   0]]\n"
          ],
          "name": "stdout"
        }
      ]
    },
    {
      "cell_type": "markdown",
      "metadata": {
        "id": "sZShJ8AjODBn"
      },
      "source": [
        "조금 더 예쁘게 출력해보자!\n",
        "\n",
        "```\n",
        "# 숫자 하나마다 탭 길이만큼 공백을 주어 출력하는 코드\n",
        "\n",
        "import sys\n",
        "\n",
        "for x in data_x[0]:\n",
        "    for i in x:\n",
        "        sys.stdout.write('%d\\t' % i)\n",
        "    sys.stdout.write('\\n')\n",
        "```"
      ]
    },
    {
      "cell_type": "code",
      "metadata": {
        "colab": {
          "base_uri": "https://localhost:8080/"
        },
        "id": "-hhogY5-OCcf",
        "outputId": "b4ce4447-324a-468c-ab6b-bbaa59591799"
      },
      "source": [
        "import sys\n",
        "\n",
        "for x in data_x[0]:\n",
        "    for i in x:\n",
        "        sys.stdout.write('%d\\t' % i)\n",
        "    sys.stdout.write('\\n')"
      ],
      "execution_count": 4,
      "outputs": [
        {
          "output_type": "stream",
          "text": [
            "0\t0\t0\t0\t0\t0\t0\t0\t0\t0\t0\t0\t0\t0\t0\t0\t0\t0\t0\t0\t0\t0\t0\t0\t0\t0\t0\t0\t\n",
            "0\t0\t0\t0\t0\t0\t0\t0\t0\t0\t0\t0\t0\t0\t0\t0\t0\t0\t0\t0\t0\t0\t0\t0\t0\t0\t0\t0\t\n",
            "0\t0\t0\t0\t0\t0\t0\t0\t0\t0\t0\t0\t0\t0\t0\t0\t0\t0\t0\t0\t0\t0\t0\t0\t0\t0\t0\t0\t\n",
            "0\t0\t0\t0\t0\t0\t0\t0\t0\t0\t0\t0\t0\t0\t0\t0\t0\t0\t0\t0\t0\t0\t0\t0\t0\t0\t0\t0\t\n",
            "0\t0\t0\t0\t0\t0\t0\t0\t0\t0\t0\t0\t0\t0\t0\t0\t0\t0\t0\t0\t0\t0\t0\t0\t0\t0\t0\t0\t\n",
            "0\t0\t0\t0\t0\t0\t0\t0\t0\t0\t0\t0\t3\t18\t18\t18\t126\t136\t175\t26\t166\t255\t247\t127\t0\t0\t0\t0\t\n",
            "0\t0\t0\t0\t0\t0\t0\t0\t30\t36\t94\t154\t170\t253\t253\t253\t253\t253\t225\t172\t253\t242\t195\t64\t0\t0\t0\t0\t\n",
            "0\t0\t0\t0\t0\t0\t0\t49\t238\t253\t253\t253\t253\t253\t253\t253\t253\t251\t93\t82\t82\t56\t39\t0\t0\t0\t0\t0\t\n",
            "0\t0\t0\t0\t0\t0\t0\t18\t219\t253\t253\t253\t253\t253\t198\t182\t247\t241\t0\t0\t0\t0\t0\t0\t0\t0\t0\t0\t\n",
            "0\t0\t0\t0\t0\t0\t0\t0\t80\t156\t107\t253\t253\t205\t11\t0\t43\t154\t0\t0\t0\t0\t0\t0\t0\t0\t0\t0\t\n",
            "0\t0\t0\t0\t0\t0\t0\t0\t0\t14\t1\t154\t253\t90\t0\t0\t0\t0\t0\t0\t0\t0\t0\t0\t0\t0\t0\t0\t\n",
            "0\t0\t0\t0\t0\t0\t0\t0\t0\t0\t0\t139\t253\t190\t2\t0\t0\t0\t0\t0\t0\t0\t0\t0\t0\t0\t0\t0\t\n",
            "0\t0\t0\t0\t0\t0\t0\t0\t0\t0\t0\t11\t190\t253\t70\t0\t0\t0\t0\t0\t0\t0\t0\t0\t0\t0\t0\t0\t\n",
            "0\t0\t0\t0\t0\t0\t0\t0\t0\t0\t0\t0\t35\t241\t225\t160\t108\t1\t0\t0\t0\t0\t0\t0\t0\t0\t0\t0\t\n",
            "0\t0\t0\t0\t0\t0\t0\t0\t0\t0\t0\t0\t0\t81\t240\t253\t253\t119\t25\t0\t0\t0\t0\t0\t0\t0\t0\t0\t\n",
            "0\t0\t0\t0\t0\t0\t0\t0\t0\t0\t0\t0\t0\t0\t45\t186\t253\t253\t150\t27\t0\t0\t0\t0\t0\t0\t0\t0\t\n",
            "0\t0\t0\t0\t0\t0\t0\t0\t0\t0\t0\t0\t0\t0\t0\t16\t93\t252\t253\t187\t0\t0\t0\t0\t0\t0\t0\t0\t\n",
            "0\t0\t0\t0\t0\t0\t0\t0\t0\t0\t0\t0\t0\t0\t0\t0\t0\t249\t253\t249\t64\t0\t0\t0\t0\t0\t0\t0\t\n",
            "0\t0\t0\t0\t0\t0\t0\t0\t0\t0\t0\t0\t0\t0\t46\t130\t183\t253\t253\t207\t2\t0\t0\t0\t0\t0\t0\t0\t\n",
            "0\t0\t0\t0\t0\t0\t0\t0\t0\t0\t0\t0\t39\t148\t229\t253\t253\t253\t250\t182\t0\t0\t0\t0\t0\t0\t0\t0\t\n",
            "0\t0\t0\t0\t0\t0\t0\t0\t0\t0\t24\t114\t221\t253\t253\t253\t253\t201\t78\t0\t0\t0\t0\t0\t0\t0\t0\t0\t\n",
            "0\t0\t0\t0\t0\t0\t0\t0\t23\t66\t213\t253\t253\t253\t253\t198\t81\t2\t0\t0\t0\t0\t0\t0\t0\t0\t0\t0\t\n",
            "0\t0\t0\t0\t0\t0\t18\t171\t219\t253\t253\t253\t253\t195\t80\t9\t0\t0\t0\t0\t0\t0\t0\t0\t0\t0\t0\t0\t\n",
            "0\t0\t0\t0\t55\t172\t226\t253\t253\t253\t253\t244\t133\t11\t0\t0\t0\t0\t0\t0\t0\t0\t0\t0\t0\t0\t0\t0\t\n",
            "0\t0\t0\t0\t136\t253\t253\t253\t212\t135\t132\t16\t0\t0\t0\t0\t0\t0\t0\t0\t0\t0\t0\t0\t0\t0\t0\t0\t\n",
            "0\t0\t0\t0\t0\t0\t0\t0\t0\t0\t0\t0\t0\t0\t0\t0\t0\t0\t0\t0\t0\t0\t0\t0\t0\t0\t0\t0\t\n",
            "0\t0\t0\t0\t0\t0\t0\t0\t0\t0\t0\t0\t0\t0\t0\t0\t0\t0\t0\t0\t0\t0\t0\t0\t0\t0\t0\t0\t\n",
            "0\t0\t0\t0\t0\t0\t0\t0\t0\t0\t0\t0\t0\t0\t0\t0\t0\t0\t0\t0\t0\t0\t0\t0\t0\t0\t0\t0\t\n"
          ],
          "name": "stdout"
        }
      ]
    },
    {
      "cell_type": "code",
      "metadata": {
        "colab": {
          "base_uri": "https://localhost:8080/"
        },
        "id": "Z2HR-Q2fN_QS",
        "outputId": "d0f29ffe-dfe9-436c-ae34-0f49a81c1cd1"
      },
      "source": [
        "# 첫번째 이미지에 해당하는 숫자는? \n",
        "print(data_y[0])"
      ],
      "execution_count": 5,
      "outputs": [
        {
          "output_type": "stream",
          "text": [
            "5\n"
          ],
          "name": "stdout"
        }
      ]
    },
    {
      "cell_type": "markdown",
      "metadata": {
        "id": "AAJpV2WkOURN"
      },
      "source": [
        "0~255까지의 숫자로 구성된 파일을 흑백 이미지로 보여주기 \n",
        "\n",
        "```\n",
        "import matplotlib.pyplot as plt\n",
        "\n",
        "plt.imshow(숫자리스트, cmap='gray') \n",
        "plt.show()\n",
        "```\n",
        "\n"
      ]
    },
    {
      "cell_type": "code",
      "metadata": {
        "colab": {
          "base_uri": "https://localhost:8080/",
          "height": 283
        },
        "id": "LjM_8ok2OO8Y",
        "outputId": "4bdced30-8703-427e-8111-03f9ef6e6ee6"
      },
      "source": [
        "import matplotlib.pyplot as plt\n",
        "\n",
        "plt.imshow(data_x[0], cmap='gray') \n",
        "plt.show()\n",
        "\n",
        "# 이 이미지에 해당하는 숫자는?\n",
        "print(data_y[0])"
      ],
      "execution_count": 6,
      "outputs": [
        {
          "output_type": "display_data",
          "data": {
            "image/png": "[encoded data removed]",
            "text/plain": [
              "<Figure size 432x288 with 1 Axes>"
            ]
          },
          "metadata": {
            "tags": [],
            "needs_background": "light"
          }
        },
        {
          "output_type": "stream",
          "text": [
            "5\n"
          ],
          "name": "stdout"
        }
      ]
    },
    {
      "cell_type": "code",
      "metadata": {
        "colab": {
          "base_uri": "https://localhost:8080/",
          "height": 283
        },
        "id": "vdKmA24ZOrlJ",
        "outputId": "4c69d5c8-f6a2-4225-ed9c-5d8fbc75fea7"
      },
      "source": [
        "import matplotlib.pyplot as plt\n",
        "\n",
        "plt.imshow(data_x[100], cmap='gray') \n",
        "plt.show()\n",
        "\n",
        "# 이 이미지에 해당하는 숫자는?\n",
        "print(data_y[100])"
      ],
      "execution_count": 7,
      "outputs": [
        {
          "output_type": "display_data",
          "data": {
            "image/png": "[encoded data removed]",
            "text/plain": [
              "<Figure size 432x288 with 1 Axes>"
            ]
          },
          "metadata": {
            "tags": [],
            "needs_background": "light"
          }
        },
        {
          "output_type": "stream",
          "text": [
            "5\n"
          ],
          "name": "stdout"
        }
      ]
    },
    {
      "cell_type": "code",
      "metadata": {
        "colab": {
          "base_uri": "https://localhost:8080/",
          "height": 283
        },
        "id": "unUcFKQPOu0X",
        "outputId": "94e58a2c-47fd-45d6-a93a-3341bf6424d0"
      },
      "source": [
        "import matplotlib.pyplot as plt\n",
        "\n",
        "plt.imshow(data_x[8955], cmap='gray') \n",
        "plt.show()\n",
        "\n",
        "# 이 이미지에 해당하는 숫자는?\n",
        "print(data_y[8955])"
      ],
      "execution_count": 8,
      "outputs": [
        {
          "output_type": "display_data",
          "data": {
            "image/png": "[encoded data removed]",
            "text/plain": [
              "<Figure size 432x288 with 1 Axes>"
            ]
          },
          "metadata": {
            "tags": [],
            "needs_background": "light"
          }
        },
        {
          "output_type": "stream",
          "text": [
            "8\n"
          ],
          "name": "stdout"
        }
      ]
    },
    {
      "cell_type": "markdown",
      "metadata": {
        "id": "YcIzV-7sPLz5"
      },
      "source": [
        "출력을 원핫인코딩하기 (딥러닝 출력에 맞게끔)\n",
        "\n",
        "\n",
        "\n",
        "```\n",
        "import tensorflow.keras.utils as utils\n",
        "\n",
        "data_y = utils.to_categorical(data_y, 10)\n",
        "test_y = utils.to_categorical(test_y, 10)\n",
        "\n",
        "```\n",
        "\n"
      ]
    },
    {
      "cell_type": "code",
      "metadata": {
        "id": "2gwN3RV7Ox6M"
      },
      "source": [
        "import tensorflow.keras.utils as utils\n",
        "\n",
        "data_y = utils.to_categorical(data_y, 10)\n",
        "test_y = utils.to_categorical(test_y, 10)"
      ],
      "execution_count": 9,
      "outputs": []
    },
    {
      "cell_type": "markdown",
      "metadata": {
        "id": "9fS0tPNlPwUt"
      },
      "source": [
        "> Q. 손글씨 딥러닝 모델의 입력층 개수는?\n",
        "\n",
        "<img src='https://t1.daumcdn.net/cfile/tistory/998BAF475BECAB3B26' width=800>\n",
        "<br/><br/>\n",
        "\n",
        "> Q. 출력층의 개수는?\n",
        "\n",
        "<img src='https://thumbs.gfycat.com/ActiveCourteousAmericanindianhorse-small.gif' width=600>\n",
        "\n",
        "<br/><br/>\n",
        "<img src = 'https://github.com/Ahnjihye/allinone_AI/blob/images/34_mnist%20%EA%B5%AC%EC%A1%B0.png?raw=true' width =500>"
      ]
    },
    {
      "cell_type": "markdown",
      "metadata": {
        "id": "AgFBFZJfQi5z"
      },
      "source": [
        "딥러닝 모델 두 개 비교해보자!\n",
        "\n",
        "\n",
        "\n",
        "1.   단층 퍼셉트론 (입력층과 출력층만 있는 모델)\n",
        "2.   다층 퍼셉트론 (입력층 - 은닉층 - 출력층, 은닉층이 있는 모델)\n",
        "\n",
        "<img src='https://github.com/Ahnjihye/2021-AI-class/blob/images/%EB%94%A5%EB%9F%AC%EB%8B%9D%20023.png?raw=true' width=800>\n",
        "\n"
      ]
    },
    {
      "cell_type": "markdown",
      "metadata": {
        "id": "VzeVcFhNBiKb"
      },
      "source": [
        "# model1 : 은닉층 없이 돌려보자 \n",
        "**입력층(노드 784) -> 출력층(노드 10)**\n",
        "\n",
        "<img src='https://github.com/Ahnjihye/2021-AI-class/blob/images/%EB%94%A5%EB%9F%AC%EB%8B%9D%20024.png?raw=true' width=500>"
      ]
    },
    {
      "cell_type": "markdown",
      "metadata": {
        "id": "tHGFmBbGwpQl"
      },
      "source": [
        "\n",
        "\n",
        "```\n",
        "from tensorflow.keras.models import Sequential\n",
        "from tensorflow.keras.layers import Dense, Flatten\n",
        "\n",
        "# 층을 쌓을 수 있는 모델 생성\n",
        "model1 = Sequential()\n",
        "model1.add(Flatten())\n",
        "\n",
        "# 모델에 층 추가 \n",
        "# 층은 Dense, input_dim 옵션에 입력층 노드 개수  \n",
        "model1.add(Dense( 빈칸6 , input_dim = 빈칸7 , activation='softmax'))\n",
        "\n",
        "# 만든 딥러닝 구조를 컴파일\n",
        "model1.compile(loss='categorical_crossentropy', \n",
        "               optimizer='adam', metrics=['accuracy'])\n",
        "```\n",
        "\n"
      ]
    },
    {
      "cell_type": "code",
      "metadata": {
        "id": "LprbUis6BKtu"
      },
      "source": [
        "from tensorflow.keras.models import Sequential\n",
        "from tensorflow.keras.layers import Dense, Flatten\n",
        "\n",
        "# 층을 쌓을 수 있는 모델 생성\n",
        "model1 = Sequential()\n",
        "model1.add(Flatten())\n",
        "\n",
        "# 모델에 층 추가\n",
        "# 층은 Dense, input_dim 옵션에 입력층 노드 개수  \n",
        "model1.add(Dense(10, input_dim = 784, activation='softmax'))\n",
        "\n",
        "# 만든 딥러닝 구조를 컴파일\n",
        "model1.compile(loss='categorical_crossentropy', \n",
        "               optimizer='adam', metrics=['accuracy'])"
      ],
      "execution_count": 32,
      "outputs": []
    },
    {
      "cell_type": "markdown",
      "metadata": {
        "id": "AD1YJFn3wu15"
      },
      "source": [
        "\n",
        "\n",
        "```\n",
        "# 딥러닝 구조에 데이터를 넣어 학습시키기\n",
        "model1.fit( 빈칸8 , 빈칸9 , \n",
        "           epochs=10, batch_size =200 , verbose=1)\n",
        "```\n",
        "\n"
      ]
    },
    {
      "cell_type": "code",
      "metadata": {
        "id": "pmVMTHC4B0kL",
        "colab": {
          "base_uri": "https://localhost:8080/"
        },
        "outputId": "5a309c11-3a3c-4765-cb5b-d0fac6155d6d"
      },
      "source": [
        "# 딥러닝 구조에 데이터를 넣어 학습시키기\n",
        "model1.fit(data_x, data_y,\n",
        "           epochs=10, batch_size =200 , verbose=1)"
      ],
      "execution_count": 33,
      "outputs": [
        {
          "output_type": "stream",
          "text": [
            "Epoch 1/10\n",
            "300/300 [==============================] - 1s 3ms/step - loss: 31.4406 - accuracy: 0.6600\n",
            "Epoch 2/10\n",
            "300/300 [==============================] - 1s 3ms/step - loss: 5.6408 - accuracy: 0.8721\n",
            "Epoch 3/10\n",
            "300/300 [==============================] - 1s 3ms/step - loss: 3.9727 - accuracy: 0.8878\n",
            "Epoch 4/10\n",
            "300/300 [==============================] - 1s 3ms/step - loss: 3.4561 - accuracy: 0.8891\n",
            "Epoch 5/10\n",
            "300/300 [==============================] - 1s 3ms/step - loss: 3.0346 - accuracy: 0.8903\n",
            "Epoch 6/10\n",
            "300/300 [==============================] - 1s 3ms/step - loss: 2.7045 - accuracy: 0.8919\n",
            "Epoch 7/10\n",
            "300/300 [==============================] - 1s 3ms/step - loss: 2.6016 - accuracy: 0.8895\n",
            "Epoch 8/10\n",
            "300/300 [==============================] - 1s 3ms/step - loss: 2.3251 - accuracy: 0.8964\n",
            "Epoch 9/10\n",
            "300/300 [==============================] - 1s 3ms/step - loss: 2.3497 - accuracy: 0.8930\n",
            "Epoch 10/10\n",
            "300/300 [==============================] - 1s 3ms/step - loss: 2.1926 - accuracy: 0.8993\n"
          ],
          "name": "stdout"
        },
        {
          "output_type": "execute_result",
          "data": {
            "text/plain": [
              "<tensorflow.python.keras.callbacks.History at 0x7f6736689d50>"
            ]
          },
          "metadata": {
            "tags": []
          },
          "execution_count": 33
        }
      ]
    },
    {
      "cell_type": "markdown",
      "metadata": {
        "id": "xftIe5P6J9Ae"
      },
      "source": [
        "\n",
        "\n",
        "*   Q.  model1의 최종 정확도는? \n",
        "<br/>\n",
        "=> \n",
        "\n"
      ]
    },
    {
      "cell_type": "markdown",
      "metadata": {
        "id": "LQ6wC4DtEyxu"
      },
      "source": [
        "**model1에게 새로운 데이터 예측시켜보기**\n",
        "\n",
        "\n",
        "```\n",
        "import numpy as np\n",
        "\n",
        "print(np.argmax(model1.predict(새로운숫자이미지.reshape(-1, 28, 28, 1))))\n",
        "```\n",
        "\n"
      ]
    },
    {
      "cell_type": "code",
      "metadata": {
        "colab": {
          "base_uri": "https://localhost:8080/"
        },
        "id": "ja_74MTqPkv2",
        "outputId": "337e8ef7-a2ac-4b91-be8c-ef893679f0ef"
      },
      "source": [
        "# test_x[0]에 저장된 이미지를 예측시켜보자! \n",
        "import numpy as np\n",
        "\n",
        "print(np.argmax(model1.predict(test_x[0].reshape(-1, 28, 28, 1))))"
      ],
      "execution_count": 26,
      "outputs": [
        {
          "output_type": "stream",
          "text": [
            "7\n"
          ],
          "name": "stdout"
        }
      ]
    },
    {
      "cell_type": "code",
      "metadata": {
        "colab": {
          "base_uri": "https://localhost:8080/",
          "height": 265
        },
        "id": "ufLoa8RBFC39",
        "outputId": "69a2afe6-f773-488e-bf30-8526684ddb4c"
      },
      "source": [
        "# model1이 잘 예측했는지 실제 이미지를 확인해보자! \n",
        "plt.imshow(test_x[0], cmap='gray') \n",
        "plt.show()"
      ],
      "execution_count": 24,
      "outputs": [
        {
          "output_type": "display_data",
          "data": {
            "image/png": "[encoded data removed]",
            "text/plain": [
              "<Figure size 432x288 with 1 Axes>"
            ]
          },
          "metadata": {
            "tags": [],
            "needs_background": "light"
          }
        }
      ]
    },
    {
      "cell_type": "code",
      "metadata": {
        "colab": {
          "base_uri": "https://localhost:8080/",
          "height": 283
        },
        "id": "IZPSzkJGHIbe",
        "outputId": "95e3ee52-56d6-479a-ede2-cdf95df4fd97"
      },
      "source": [
        "# 딥러닝 모델이 예측한 숫자\n",
        "print(np.argmax(model1.predict(test_x[99].reshape(-1, 28, 28, 1))))\n",
        "\n",
        "# 실제 이미지\n",
        "plt.imshow(test_x[99], cmap='gray') \n",
        "plt.show()"
      ],
      "execution_count": 29,
      "outputs": [
        {
          "output_type": "stream",
          "text": [
            "9\n"
          ],
          "name": "stdout"
        },
        {
          "output_type": "display_data",
          "data": {
            "image/png": "[encoded data removed]",
            "text/plain": [
              "<Figure size 432x288 with 1 Axes>"
            ]
          },
          "metadata": {
            "tags": [],
            "needs_background": "light"
          }
        }
      ]
    },
    {
      "cell_type": "markdown",
      "metadata": {
        "id": "7ivE9MSPJKQh"
      },
      "source": [
        "# model2 : 은닉층을 추가해 돌려보자 \n",
        "**입력층(노드 784) -> 은닉층(노드 512)-> 출력층(노드 10)**\n",
        "\n",
        "<img src='https://github.com/Ahnjihye/2021-AI-class/blob/images/%EB%94%A5%EB%9F%AC%EB%8B%9D%20025.png?raw=true' width=500>"
      ]
    },
    {
      "cell_type": "markdown",
      "metadata": {
        "id": "o11AtZ2Sw4aN"
      },
      "source": [
        "\n",
        "\n",
        "```\n",
        "from tensorflow.keras.models import Sequential\n",
        "from tensorflow.keras.layers import Dense, Flatten\n",
        "\n",
        "# 층을 쌓을 수 있는 모델 생성\n",
        "model2 = Sequential()\n",
        "model2.add(Flatten())\n",
        "\n",
        "# 모델에 층 추가 : 입력층 784 --> 은닉층 512\n",
        "model2.add(Dense( 빈칸13 , input_dim = 빈칸14 , activation='relu'))\n",
        "\n",
        "# 모델에 층 추가 : 은닉층 512 -> 출력층 10\n",
        "model2.add(Dense( 빈칸15 , activation='softmax'))\n",
        "\n",
        "# 만든 딥러닝 구조를 컴파일\n",
        "model2.compile(loss='categorical_crossentropy', \n",
        "               optimizer='adam', metrics=['accuracy'])\n",
        "```\n",
        "\n"
      ]
    },
    {
      "cell_type": "code",
      "metadata": {
        "id": "M2XqW0BJIEMR"
      },
      "source": [
        "from tensorflow.keras.models import Sequential\n",
        "from tensorflow.keras.layers import Dense, Flatten\n",
        "\n",
        "# 층을 쌓을 수 있는 모델 생성\n",
        "model2 = Sequential()\n",
        "model2.add(Flatten())\n",
        "\n",
        "# 모델에 층 추가 : 입력층 784 --> 은닉층 512\n",
        "model2.add(Dense(512, input_dim = 784, activation='relu'))\n",
        "\n",
        "# 모델에 층 추가 : 은닉층 512 -> 출력층 10\n",
        "model2.add(Dense(10, activation='softmax'))\n",
        "\n",
        "# 만든 딥러닝 구조를 컴파일\n",
        "model2.compile(loss='categorical_crossentropy', \n",
        "               optimizer='adam', metrics=['accuracy'])"
      ],
      "execution_count": 36,
      "outputs": []
    },
    {
      "cell_type": "markdown",
      "metadata": {
        "id": "IxVh-UQjw8OI"
      },
      "source": [
        "\n",
        "\n",
        "\n",
        "```\n",
        "model2.fit( 빈칸13 , 빈칸14 ,\n",
        "           epochs=10, batch_size =200 , verbose=1)\n",
        "```\n",
        "\n"
      ]
    },
    {
      "cell_type": "code",
      "metadata": {
        "colab": {
          "base_uri": "https://localhost:8080/"
        },
        "id": "jdec94PrJohj",
        "outputId": "6b36a1e6-af42-4ddb-f46b-709d1927b4f8"
      },
      "source": [
        "# 딥러닝 구조에 데이터를 넣어 학습시키기\n",
        "model2.fit(data_x, data_y,\n",
        "           epochs=10, batch_size =200 , verbose=1)"
      ],
      "execution_count": 37,
      "outputs": [
        {
          "output_type": "stream",
          "text": [
            "Epoch 1/10\n",
            "300/300 [==============================] - 4s 11ms/step - loss: 16.6740 - accuracy: 0.8294\n",
            "Epoch 2/10\n",
            "300/300 [==============================] - 3s 11ms/step - loss: 0.9573 - accuracy: 0.9541\n",
            "Epoch 3/10\n",
            "300/300 [==============================] - 3s 11ms/step - loss: 0.4616 - accuracy: 0.9672\n",
            "Epoch 4/10\n",
            "300/300 [==============================] - 3s 11ms/step - loss: 0.2410 - accuracy: 0.9786\n",
            "Epoch 5/10\n",
            "300/300 [==============================] - 3s 11ms/step - loss: 0.2101 - accuracy: 0.9802\n",
            "Epoch 6/10\n",
            "300/300 [==============================] - 3s 11ms/step - loss: 0.1604 - accuracy: 0.9841\n",
            "Epoch 7/10\n",
            "300/300 [==============================] - 3s 11ms/step - loss: 0.1480 - accuracy: 0.9846\n",
            "Epoch 8/10\n",
            "300/300 [==============================] - 3s 11ms/step - loss: 0.1599 - accuracy: 0.9833\n",
            "Epoch 9/10\n",
            "300/300 [==============================] - 3s 11ms/step - loss: 0.1302 - accuracy: 0.9858\n",
            "Epoch 10/10\n",
            "300/300 [==============================] - 3s 11ms/step - loss: 0.1119 - accuracy: 0.9880\n"
          ],
          "name": "stdout"
        },
        {
          "output_type": "execute_result",
          "data": {
            "text/plain": [
              "<tensorflow.python.keras.callbacks.History at 0x7f6735482650>"
            ]
          },
          "metadata": {
            "tags": []
          },
          "execution_count": 37
        }
      ]
    },
    {
      "cell_type": "markdown",
      "metadata": {
        "id": "r1gaLVFbKudY"
      },
      "source": [
        "\n",
        "\n",
        "*   Q1.  model2의 최종 정확도는? \n",
        "<br/>\n",
        "=> \n",
        "<br/><br/>\n",
        "*   Q2.  model1과 비교했을 때 model2의 성능은 어떠한가?  \n",
        "<br/>\n",
        "=> \n",
        "<br/><br/>\n",
        "*   Q3.  왜 위와 같은 결과가 나왔을까?<br/>\n",
        "=> \n",
        "<br/><br/>\n",
        "\n"
      ]
    },
    {
      "cell_type": "markdown",
      "metadata": {
        "id": "BIHWTxrBKudh"
      },
      "source": [
        "**model2에게 새로운 데이터 예측시켜보기**\n",
        "\n",
        "\n",
        "```\n",
        "import numpy as np\n",
        "\n",
        "# 딥러닝 모델이 예측한 숫자\n",
        "print(np.argmax(model2.predict(test_x[99].reshape(-1, 28, 28, 1))))\n",
        "\n",
        "# 실제 이미지\n",
        "plt.imshow(test_x[99], cmap='gray') \n",
        "plt.show()\n",
        "```\n",
        "\n"
      ]
    },
    {
      "cell_type": "code",
      "metadata": {
        "colab": {
          "base_uri": "https://localhost:8080/",
          "height": 283
        },
        "id": "TyormAxnKudi",
        "outputId": "8c80c759-2511-4095-ba1a-13ff1c34fff1"
      },
      "source": [
        "# 딥러닝 모델이 예측한 숫자\n",
        "print(np.argmax(model2.predict(test_x[99].reshape(-1, 28, 28, 1))))\n",
        "\n",
        "# 실제 이미지\n",
        "plt.imshow(test_x[99], cmap='gray') \n",
        "plt.show()"
      ],
      "execution_count": 39,
      "outputs": [
        {
          "output_type": "stream",
          "text": [
            "9\n"
          ],
          "name": "stdout"
        },
        {
          "output_type": "display_data",
          "data": {
            "image/png": "[encoded data removed]",
            "text/plain": [
              "<Figure size 432x288 with 1 Axes>"
            ]
          },
          "metadata": {
            "tags": [],
            "needs_background": "light"
          }
        }
      ]
    },
    {
      "cell_type": "markdown",
      "metadata": {
        "id": "umWwtxfrLXas"
      },
      "source": [
        "# 내 손글씨 데이터를 예측시켜보자!\n",
        "\n",
        "내 손글씨이미지 업로드하기 \n",
        "\n",
        "```\n",
        "from google.colab import files\n",
        "uploaded = files.upload()\n",
        "```\n",
        "\n"
      ]
    },
    {
      "cell_type": "code",
      "metadata": {
        "id": "m6dXxnOWfF6H",
        "colab": {
          "resources": {
            "http://localhost:8080/nbextensions/google.colab/files.js": {
              "data": "Ly8gQ29weXJpZ2h0IDIwMTcgR29vZ2xlIExMQwovLwovLyBMaWNlbnNlZCB1bmRlciB0aGUgQXBhY2hlIExpY2Vuc2UsIFZlcnNpb24gMi4wICh0aGUgIkxpY2Vuc2UiKTsKLy8geW91IG1heSBub3QgdXNlIHRoaXMgZmlsZSBleGNlcHQgaW4gY29tcGxpYW5jZSB3aXRoIHRoZSBMaWNlbnNlLgovLyBZb3UgbWF5IG9idGFpbiBhIGNvcHkgb2YgdGhlIExpY2Vuc2UgYXQKLy8KLy8gICAgICBodHRwOi8vd3d3LmFwYWNoZS5vcmcvbGljZW5zZXMvTElDRU5TRS0yLjAKLy8KLy8gVW5sZXNzIHJlcXVpcmVkIGJ5IGFwcGxpY2FibGUgbGF3IG9yIGFncmVlZCB0byBpbiB3cml0aW5nLCBzb2Z0d2FyZQovLyBkaXN0cmlidXRlZCB1bmRlciB0aGUgTGljZW5zZSBpcyBkaXN0cmlidXRlZCBvbiBhbiAiQVMgSVMiIEJBU0lTLAovLyBXSVRIT1VUIFdBUlJBTlRJRVMgT1IgQ09ORElUSU9OUyBPRiBBTlkgS0lORCwgZWl0aGVyIGV4cHJlc3Mgb3IgaW1wbGllZC4KLy8gU2VlIHRoZSBMaWNlbnNlIGZvciB0aGUgc3BlY2lmaWMgbGFuZ3VhZ2UgZ292ZXJuaW5nIHBlcm1pc3Npb25zIGFuZAovLyBsaW1pdGF0aW9ucyB1bmRlciB0aGUgTGljZW5zZS4KCi8qKgogKiBAZmlsZW92ZXJ2aWV3IEhlbHBlcnMgZm9yIGdvb2dsZS5jb2xhYiBQeXRob24gbW9kdWxlLgogKi8KKGZ1bmN0aW9uKHNjb3BlKSB7CmZ1bmN0aW9uIHNwYW4odGV4dCwgc3R5bGVBdHRyaWJ1dGVzID0ge30pIHsKICBjb25zdCBlbGVtZW50ID0gZG9jdW1lbnQuY3JlYXRlRWxlbWVudCgnc3BhbicpOwogIGVsZW1lbnQudGV4dENvbnRlbnQgPSB0ZXh0OwogIGZvciAoY29uc3Qga2V5IG9mIE9iamVjdC5rZXlzKHN0eWxlQXR0cmlidXRlcykpIHsKICAgIGVsZW1lbnQuc3R5bGVba2V5XSA9IHN0eWxlQXR0cmlidXRlc1trZXldOwogIH0KICByZXR1cm4gZWxlbWVudDsKfQoKLy8gTWF4IG51bWJlciBvZiBieXRlcyB3aGljaCB3aWxsIGJlIHVwbG9hZGVkIGF0IGEgdGltZS4KY29uc3QgTUFYX1BBWUxPQURfU0laRSA9IDEwMCAqIDEwMjQ7CgpmdW5jdGlvbiBfdXBsb2FkRmlsZXMoaW5wdXRJZCwgb3V0cHV0SWQpIHsKICBjb25zdCBzdGVwcyA9IHVwbG9hZEZpbGVzU3RlcChpbnB1dElkLCBvdXRwdXRJZCk7CiAgY29uc3Qgb3V0cHV0RWxlbWVudCA9IGRvY3VtZW50LmdldEVsZW1lbnRCeUlkKG91dHB1dElkKTsKICAvLyBDYWNoZSBzdGVwcyBvbiB0aGUgb3V0cHV0RWxlbWVudCB0byBtYWtlIGl0IGF2YWlsYWJsZSBmb3IgdGhlIG5leHQgY2FsbAogIC8vIHRvIHVwbG9hZEZpbGVzQ29udGludWUgZnJvbSBQeXRob24uCiAgb3V0cHV0RWxlbWVudC5zdGVwcyA9IHN0ZXBzOwoKICByZXR1cm4gX3VwbG9hZEZpbGVzQ29udGludWUob3V0cHV0SWQpOwp9CgovLyBUaGlzIGlzIHJvdWdobHkgYW4gYXN5bmMgZ2VuZXJhdG9yIChub3Qgc3VwcG9ydGVkIGluIHRoZSBicm93c2VyIHlldCksCi8vIHdoZXJlIHRoZXJlIGFyZSBtdWx0aXBsZSBhc3luY2hyb25vdXMgc3RlcHMgYW5kIHRoZSBQeXRob24gc2lkZSBpcyBnb2luZwovLyB0byBwb2xsIGZvciBjb21wbGV0aW9uIG9mIGVhY2ggc3RlcC4KLy8gVGhpcyB1c2VzIGEgUHJvbWlzZSB0byBibG9jayB0aGUgcHl0aG9uIHNpZGUgb24gY29tcGxldGlvbiBvZiBlYWNoIHN0ZXAsCi8vIHRoZW4gcGFzc2VzIHRoZSByZXN1bHQgb2YgdGhlIHByZXZpb3VzIHN0ZXAgYXMgdGhlIGlucHV0IHRvIHRoZSBuZXh0IHN0ZXAuCmZ1bmN0aW9uIF91cGxvYWRGaWxlc0NvbnRpbnVlKG91dHB1dElkKSB7CiAgY29uc3Qgb3V0cHV0RWxlbWVudCA9IGRvY3VtZW50LmdldEVsZW1lbnRCeUlkKG91dHB1dElkKTsKICBjb25zdCBzdGVwcyA9IG91dHB1dEVsZW1lbnQuc3RlcHM7CgogIGNvbnN0IG5leHQgPSBzdGVwcy5uZXh0KG91dHB1dEVsZW1lbnQubGFzdFByb21pc2VWYWx1ZSk7CiAgcmV0dXJuIFByb21pc2UucmVzb2x2ZShuZXh0LnZhbHVlLnByb21pc2UpLnRoZW4oKHZhbHVlKSA9PiB7CiAgICAvLyBDYWNoZSB0aGUgbGFzdCBwcm9taXNlIHZhbHVlIHRvIG1ha2UgaXQgYXZhaWxhYmxlIHRvIHRoZSBuZXh0CiAgICAvLyBzdGVwIG9mIHRoZSBnZW5lcmF0b3IuCiAgICBvdXRwdXRFbGVtZW50Lmxhc3RQcm9taXNlVmFsdWUgPSB2YWx1ZTsKICAgIHJldHVybiBuZXh0LnZhbHVlLnJlc3BvbnNlOwogIH0pOwp9CgovKioKICogR2VuZXJhdG9yIGZ1bmN0aW9uIHdoaWNoIGlzIGNhbGxlZCBiZXR3ZWVuIGVhY2ggYXN5bmMgc3RlcCBvZiB0aGUgdXBsb2FkCiAqIHByb2Nlc3MuCiAqIEBwYXJhbSB7c3RyaW5nfSBpbnB1dElkIEVsZW1lbnQgSUQgb2YgdGhlIGlucHV0IGZpbGUgcGlja2VyIGVsZW1lbnQuCiAqIEBwYXJhbSB7c3RyaW5nfSBvdXRwdXRJZCBFbGVtZW50IElEIG9mIHRoZSBvdXRwdXQgZGlzcGxheS4KICogQHJldHVybiB7IUl0ZXJhYmxlPCFPYmplY3Q+fSBJdGVyYWJsZSBvZiBuZXh0IHN0ZXBzLgogKi8KZnVuY3Rpb24qIHVwbG9hZEZpbGVzU3RlcChpbnB1dElkLCBvdXRwdXRJZCkgewogIGNvbnN0IGlucHV0RWxlbWVudCA9IGRvY3VtZW50LmdldEVsZW1lbnRCeUlkKGlucHV0SWQpOwogIGlucHV0RWxlbWVudC5kaXNhYmxlZCA9IGZhbHNlOwoKICBjb25zdCBvdXRwdXRFbGVtZW50ID0gZG9jdW1lbnQuZ2V0RWxlbWVudEJ5SWQob3V0cHV0SWQpOwogIG91dHB1dEVsZW1lbnQuaW5uZXJIVE1MID0gJyc7CgogIGNvbnN0IHBpY2tlZFByb21pc2UgPSBuZXcgUHJvbWlzZSgocmVzb2x2ZSkgPT4gewogICAgaW5wdXRFbGVtZW50LmFkZEV2ZW50TGlzdGVuZXIoJ2NoYW5nZScsIChlKSA9PiB7CiAgICAgIHJlc29sdmUoZS50YXJnZXQuZmlsZXMpOwogICAgfSk7CiAgfSk7CgogIGNvbnN0IGNhbmNlbCA9IGRvY3VtZW50LmNyZWF0ZUVsZW1lbnQoJ2J1dHRvbicpOwogIGlucHV0RWxlbWVudC5wYXJlbnRFbGVtZW50LmFwcGVuZENoaWxkKGNhbmNlbCk7CiAgY2FuY2VsLnRleHRDb250ZW50ID0gJ0NhbmNlbCB1cGxvYWQnOwogIGNvbnN0IGNhbmNlbFByb21pc2UgPSBuZXcgUHJvbWlzZSgocmVzb2x2ZSkgPT4gewogICAgY2FuY2VsLm9uY2xpY2sgPSAoKSA9PiB7CiAgICAgIHJlc29sdmUobnVsbCk7CiAgICB9OwogIH0pOwoKICAvLyBXYWl0IGZvciB0aGUgdXNlciB0byBwaWNrIHRoZSBmaWxlcy4KICBjb25zdCBmaWxlcyA9IHlpZWxkIHsKICAgIHByb21pc2U6IFByb21pc2UucmFjZShbcGlja2VkUHJvbWlzZSwgY2FuY2VsUHJvbWlzZV0pLAogICAgcmVzcG9uc2U6IHsKICAgICAgYWN0aW9uOiAnc3RhcnRpbmcnLAogICAgfQogIH07CgogIGNhbmNlbC5yZW1vdmUoKTsKCiAgLy8gRGlzYWJsZSB0aGUgaW5wdXQgZWxlbWVudCBzaW5jZSBmdXJ0aGVyIHBpY2tzIGFyZSBub3QgYWxsb3dlZC4KICBpbnB1dEVsZW1lbnQuZGlzYWJsZWQgPSB0cnVlOwoKICBpZiAoIWZpbGVzKSB7CiAgICByZXR1cm4gewogICAgICByZXNwb25zZTogewogICAgICAgIGFjdGlvbjogJ2NvbXBsZXRlJywKICAgICAgfQogICAgfTsKICB9CgogIGZvciAoY29uc3QgZmlsZSBvZiBmaWxlcykgewogICAgY29uc3QgbGkgPSBkb2N1bWVudC5jcmVhdGVFbGVtZW50KCdsaScpOwogICAgbGkuYXBwZW5kKHNwYW4oZmlsZS5uYW1lLCB7Zm9udFdlaWdodDogJ2JvbGQnfSkpOwogICAgbGkuYXBwZW5kKHNwYW4oCiAgICAgICAgYCgke2ZpbGUudHlwZSB8fCAnbi9hJ30pIC0gJHtmaWxlLnNpemV9IGJ5dGVzLCBgICsKICAgICAgICBgbGFzdCBtb2RpZmllZDogJHsKICAgICAgICAgICAgZmlsZS5sYXN0TW9kaWZpZWREYXRlID8gZmlsZS5sYXN0TW9kaWZpZWREYXRlLnRvTG9jYWxlRGF0ZVN0cmluZygpIDoKICAgICAgICAgICAgICAgICAgICAgICAgICAgICAgICAgICAgJ24vYSd9IC0gYCkpOwogICAgY29uc3QgcGVyY2VudCA9IHNwYW4oJzAlIGRvbmUnKTsKICAgIGxpLmFwcGVuZENoaWxkKHBlcmNlbnQpOwoKICAgIG91dHB1dEVsZW1lbnQuYXBwZW5kQ2hpbGQobGkpOwoKICAgIGNvbnN0IGZpbGVEYXRhUHJvbWlzZSA9IG5ldyBQcm9taXNlKChyZXNvbHZlKSA9PiB7CiAgICAgIGNvbnN0IHJlYWRlciA9IG5ldyBGaWxlUmVhZGVyKCk7CiAgICAgIHJlYWRlci5vbmxvYWQgPSAoZSkgPT4gewogICAgICAgIHJlc29sdmUoZS50YXJnZXQucmVzdWx0KTsKICAgICAgfTsKICAgICAgcmVhZGVyLnJlYWRBc0FycmF5QnVmZmVyKGZpbGUpOwogICAgfSk7CiAgICAvLyBXYWl0IGZvciB0aGUgZGF0YSB0byBiZSByZWFkeS4KICAgIGxldCBmaWxlRGF0YSA9IHlpZWxkIHsKICAgICAgcHJvbWlzZTogZmlsZURhdGFQcm9taXNlLAogICAgICByZXNwb25zZTogewogICAgICAgIGFjdGlvbjogJ2NvbnRpbnVlJywKICAgICAgfQogICAgfTsKCiAgICAvLyBVc2UgYSBjaHVua2VkIHNlbmRpbmcgdG8gYXZvaWQgbWVzc2FnZSBzaXplIGxpbWl0cy4gU2VlIGIvNjIxMTU2NjAuCiAgICBsZXQgcG9zaXRpb24gPSAwOwogICAgd2hpbGUgKHBvc2l0aW9uIDwgZmlsZURhdGEuYnl0ZUxlbmd0aCkgewogICAgICBjb25zdCBsZW5ndGggPSBNYXRoLm1pbihmaWxlRGF0YS5ieXRlTGVuZ3RoIC0gcG9zaXRpb24sIE1BWF9QQVlMT0FEX1NJWkUpOwogICAgICBjb25zdCBjaHVuayA9IG5ldyBVaW50OEFycmF5KGZpbGVEYXRhLCBwb3NpdGlvbiwgbGVuZ3RoKTsKICAgICAgcG9zaXRpb24gKz0gbGVuZ3RoOwoKICAgICAgY29uc3QgYmFzZTY0ID0gYnRvYShTdHJpbmcuZnJvbUNoYXJDb2RlLmFwcGx5KG51bGwsIGNodW5rKSk7CiAgICAgIHlpZWxkIHsKICAgICAgICByZXNwb25zZTogewogICAgICAgICAgYWN0aW9uOiAnYXBwZW5kJywKICAgICAgICAgIGZpbGU6IGZpbGUubmFtZSwKICAgICAgICAgIGRhdGE6IGJhc2U2NCwKICAgICAgICB9LAogICAgICB9OwogICAgICBwZXJjZW50LnRleHRDb250ZW50ID0KICAgICAgICAgIGAke01hdGgucm91bmQoKHBvc2l0aW9uIC8gZmlsZURhdGEuYnl0ZUxlbmd0aCkgKiAxMDApfSUgZG9uZWA7CiAgICB9CiAgfQoKICAvLyBBbGwgZG9uZS4KICB5aWVsZCB7CiAgICByZXNwb25zZTogewogICAgICBhY3Rpb246ICdjb21wbGV0ZScsCiAgICB9CiAgfTsKfQoKc2NvcGUuZ29vZ2xlID0gc2NvcGUuZ29vZ2xlIHx8IHt9OwpzY29wZS5nb29nbGUuY29sYWIgPSBzY29wZS5nb29nbGUuY29sYWIgfHwge307CnNjb3BlLmdvb2dsZS5jb2xhYi5fZmlsZXMgPSB7CiAgX3VwbG9hZEZpbGVzLAogIF91cGxvYWRGaWxlc0NvbnRpbnVlLAp9Owp9KShzZWxmKTsK",
              "ok": true,
              "headers": [
                [
                  "content-type",
                  "application/javascript"
                ]
              ],
              "status": 200,
              "status_text": ""
            }
          },
          "base_uri": "https://localhost:8080/",
          "height": 77
        },
        "outputId": "0181b8ca-c219-42ff-c41c-144179f4cbd3"
      },
      "source": [
        "from google.colab import files\n",
        "uploaded = files.upload()"
      ],
      "execution_count": 46,
      "outputs": [
        {
          "output_type": "display_data",
          "data": {
            "text/html": [
              "\n",
              "     <input type=\"file\" id=\"files-7a2693fb-b798-4e92-ae38-49a8ad8d3d34\" name=\"files[]\" multiple disabled\n",
              "        style=\"border:none\" />\n",
              "     <output id=\"result-7a2693fb-b798-4e92-ae38-49a8ad8d3d34\">\n",
              "      Upload widget is only available when the cell has been executed in the\n",
              "      current browser session. Please rerun this cell to enable.\n",
              "      </output>\n",
              "      <script src=\"/nbextensions/google.colab/files.js\"></script> "
            ],
            "text/plain": [
              "<IPython.core.display.HTML object>"
            ]
          },
          "metadata": {
            "tags": []
          }
        },
        {
          "output_type": "stream",
          "text": [
            "Saving 7.png to 7.png\n"
          ],
          "name": "stdout"
        }
      ]
    },
    {
      "cell_type": "markdown",
      "metadata": {
        "id": "tv113yFhxHid"
      },
      "source": [
        "업로드된 이미지 확인하기\n",
        "\n",
        "\n",
        "```\n",
        "from tensorflow.keras.preprocessing import image\n",
        "\n",
        "s = image.load_img('파일이름.png', target_size=(28, 28), color_mode=\"grayscale\")\n",
        "s\n",
        "```\n",
        "\n"
      ]
    },
    {
      "cell_type": "code",
      "metadata": {
        "id": "TaohNQ0ogmNP",
        "colab": {
          "base_uri": "https://localhost:8080/",
          "height": 45
        },
        "outputId": "c51dbd19-cbaa-4bb0-9f95-be2fe4f25418"
      },
      "source": [
        "from tensorflow.keras.preprocessing import image\n",
        "\n",
        "s = image.load_img('7.png', target_size=(28, 28), color_mode=\"grayscale\")\n",
        "s"
      ],
      "execution_count": 49,
      "outputs": [
        {
          "output_type": "execute_result",
          "data": {
            "image/png": "[encoded data removed]",
            "text/plain": [
              "<PIL.Image.Image image mode=L size=28x28 at 0x7F6736958710>"
            ]
          },
          "metadata": {
            "tags": []
          },
          "execution_count": 49
        }
      ]
    },
    {
      "cell_type": "code",
      "metadata": {
        "colab": {
          "base_uri": "https://localhost:8080/"
        },
        "id": "rr_YYhtlLqM1",
        "outputId": "ac69f488-a4fb-4381-8b93-21021b488202"
      },
      "source": [
        "img = image.img_to_array(s).astype('float32')\n",
        "\n",
        "# model1에게 예측시켰을 때\n",
        "print(np.argmax(model1.predict(img.reshape(-1, 28, 28, 1))))\n",
        "\n",
        "# model2에게 예측시켰을 때\n",
        "print(np.argmax(model2.predict(img.reshape(-1, 28, 28, 1))))"
      ],
      "execution_count": 50,
      "outputs": [
        {
          "output_type": "stream",
          "text": [
            "7\n",
            "7\n"
          ],
          "name": "stdout"
        }
      ]
    },
    {
      "cell_type": "code",
      "metadata": {
        "id": "BP6KUaLXLJ4i"
      },
      "source": [
        ""
      ],
      "execution_count": null,
      "outputs": []
    }
  ]
}