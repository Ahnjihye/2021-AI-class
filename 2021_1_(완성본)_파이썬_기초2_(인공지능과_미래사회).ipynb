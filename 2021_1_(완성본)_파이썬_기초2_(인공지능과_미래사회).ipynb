{
  "nbformat": 4,
  "nbformat_minor": 0,
  "metadata": {
    "colab": {
      "name": "2021-1-(완성본)-파이썬 기초2 (인공지능과 미래사회).ipynb",
      "provenance": [],
      "collapsed_sections": [],
      "authorship_tag": "ABX9TyNY3aNvTC/hE0gWgYhgnsX3",
      "include_colab_link": true
    },
    "kernelspec": {
      "name": "python3",
      "display_name": "Python 3"
    },
    "language_info": {
      "name": "python"
    }
  },
  "cells": [
    {
      "cell_type": "markdown",
      "metadata": {
        "id": "view-in-github",
        "colab_type": "text"
      },
      "source": [
        "<a href=\"https://colab.research.google.com/github/Ahnjihye/2021-AI-class/blob/main/2021_1_(%EC%99%84%EC%84%B1%EB%B3%B8)_%ED%8C%8C%EC%9D%B4%EC%8D%AC_%EA%B8%B0%EC%B4%882_(%EC%9D%B8%EA%B3%B5%EC%A7%80%EB%8A%A5%EA%B3%BC_%EB%AF%B8%EB%9E%98%EC%82%AC%ED%9A%8C).ipynb\" target=\"_parent\"><img src=\"https://colab.research.google.com/assets/colab-badge.svg\" alt=\"Open In Colab\"/></a>"
      ]
    },
    {
      "cell_type": "markdown",
      "metadata": {
        "id": "V1qdZa0ljBQz"
      },
      "source": [
        "# 4. 변수\n",
        "\n",
        "\n",
        "> 변수이름 = 저장할 데이터\n",
        "\n",
        "\n",
        "<img src = 'https://github.com/Ahnjihye/allinone_AI/blob/images/%E1%84%87%E1%85%A7%E1%86%AB%E1%84%89%E1%85%AE%E1%84%8B%E1%85%B5%E1%84%86%E1%85%B5%E1%84%8C%E1%85%B5.png?raw=true' width =500>\n",
        "\n",
        "\n"
      ]
    },
    {
      "cell_type": "code",
      "metadata": {
        "id": "qGjujI1abo3T",
        "colab": {
          "base_uri": "https://localhost:8080/"
        },
        "outputId": "24c4b5ee-1d90-47d4-86d3-e2151f1b6ec1"
      },
      "source": [
        "a = '안녕'\n",
        "print(a)"
      ],
      "execution_count": null,
      "outputs": [
        {
          "output_type": "stream",
          "text": [
            "안녕\n"
          ],
          "name": "stdout"
        }
      ]
    },
    {
      "cell_type": "code",
      "metadata": {
        "colab": {
          "base_uri": "https://localhost:8080/"
        },
        "id": "xuAWxMcSPCCH",
        "outputId": "4fbad4db-2e57-4be2-cc48-7b55b6d2a74a"
      },
      "source": [
        "print('a')"
      ],
      "execution_count": null,
      "outputs": [
        {
          "output_type": "stream",
          "text": [
            "a\n"
          ],
          "name": "stdout"
        }
      ]
    },
    {
      "cell_type": "code",
      "metadata": {
        "id": "9d4QKvR6bo5d",
        "colab": {
          "base_uri": "https://localhost:8080/"
        },
        "outputId": "6537b1a3-a0c7-4465-ec2b-e22c24086f5c"
      },
      "source": [
        "b = '학생'\n",
        "c = '고등'\n",
        "d = '대'\n",
        "print(c,b)"
      ],
      "execution_count": 1,
      "outputs": [
        {
          "output_type": "stream",
          "text": [
            "고등 학생\n"
          ],
          "name": "stdout"
        }
      ]
    },
    {
      "cell_type": "code",
      "metadata": {
        "colab": {
          "base_uri": "https://localhost:8080/"
        },
        "id": "egu4zLhuPXzC",
        "outputId": "93ac66cf-d377-4f85-b2f2-6cebebeccc81"
      },
      "source": [
        "print(d,b)"
      ],
      "execution_count": 2,
      "outputs": [
        {
          "output_type": "stream",
          "text": [
            "대 학생\n"
          ],
          "name": "stdout"
        }
      ]
    },
    {
      "cell_type": "markdown",
      "metadata": {
        "id": "YrIAYo4nP3wW"
      },
      "source": [
        "### 변수를 활용하여 연산하기 \n",
        "1) 과일 가격 계산하기"
      ]
    },
    {
      "cell_type": "code",
      "metadata": {
        "id": "gN7pzv5jbo-B"
      },
      "source": [
        "apple = 1200\n",
        "banana = 800\n",
        "kiwi = 1700"
      ],
      "execution_count": null,
      "outputs": []
    },
    {
      "cell_type": "code",
      "metadata": {
        "id": "YY_1rgwNbpAe",
        "colab": {
          "base_uri": "https://localhost:8080/"
        },
        "outputId": "2f5ba308-90e7-47da-cb26-c728f59e6066"
      },
      "source": [
        "# 사과 3개, 바나나1개, 키위2개 구매한 가격은?\n",
        "apple*3 + banana*1 + kiwi*2"
      ],
      "execution_count": null,
      "outputs": [
        {
          "output_type": "execute_result",
          "data": {
            "text/plain": [
              "7800"
            ]
          },
          "metadata": {
            "tags": []
          },
          "execution_count": 2
        }
      ]
    },
    {
      "cell_type": "code",
      "metadata": {
        "id": "kAnHKPxlnUMO",
        "colab": {
          "base_uri": "https://localhost:8080/"
        },
        "outputId": "f34be5b5-276b-4277-dbc7-00d817528465"
      },
      "source": [
        "price = apple*3 + banana*1 + kiwi*2\n",
        "print(price)"
      ],
      "execution_count": null,
      "outputs": [
        {
          "output_type": "stream",
          "text": [
            "7800\n"
          ],
          "name": "stdout"
        }
      ]
    },
    {
      "cell_type": "markdown",
      "metadata": {
        "id": "XTITfZwoisIu"
      },
      "source": [
        "vip는 20% 할인된다. 동일한 물건을 구매했을 때 vip가 내는 가격을 새로운 변수(vip_price)에 저장하여 출력하기"
      ]
    },
    {
      "cell_type": "code",
      "metadata": {
        "id": "A7bhHZu-nnE_"
      },
      "source": [
        "vip_price = price * 0.8"
      ],
      "execution_count": null,
      "outputs": []
    },
    {
      "cell_type": "code",
      "metadata": {
        "id": "I5UtDtRgnwk8",
        "colab": {
          "base_uri": "https://localhost:8080/"
        },
        "outputId": "7a87f63b-5e9e-4c6a-b77d-5b936de785d4"
      },
      "source": [
        "print('vip가 되시면',price,'원을',vip_price,'원에 구매 가능합니다! ')"
      ],
      "execution_count": null,
      "outputs": [
        {
          "output_type": "stream",
          "text": [
            "vip가 되시면 7800 원을 6240.0 원에 구매 가능합니다! \n"
          ],
          "name": "stdout"
        }
      ]
    },
    {
      "cell_type": "code",
      "metadata": {
        "id": "JeDRPK_Jyp_g"
      },
      "source": [
        ""
      ],
      "execution_count": null,
      "outputs": []
    },
    {
      "cell_type": "markdown",
      "metadata": {
        "id": "IgU4y4cdCo3v"
      },
      "source": [
        "#  5. 조건문 if\n",
        "\n",
        "**조건문 : 조건을 충족할 때에만 선택적으로 실행되는 명령어**\n",
        "</br>\n",
        "**=선택구조**\n",
        "</br>\n",
        "\n",
        "\n",
        "```\n",
        "조건 A를 충족할 때에만\n",
        "B해라\n",
        "\n",
        "ex. 성인일 때에만 주류를 판매해라 \n",
        "```\n",
        "\n",
        "<img src = 'https://github.com/Ahnjihye/allinone_AI/blob/images/71_if.png?raw=true' width=500>\n",
        "\n"
      ]
    },
    {
      "cell_type": "code",
      "metadata": {
        "id": "MkpSM5DyCp78"
      },
      "source": [
        "# 만약 미성년자라면 술을 구매할 수 없다고 출력\n",
        "age = 20\n",
        "\n",
        "if age < 20 : \n",
        "    # 조건을 충족할 때만 실행\n",
        "    print('술을 구매할 수 없습니다.')"
      ],
      "execution_count": null,
      "outputs": []
    },
    {
      "cell_type": "markdown",
      "metadata": {
        "id": "fn3FlsHEYSiA"
      },
      "source": [
        "<img src = 'https://github.com/Ahnjihye/allinone_AI/blob/images/10_%EC%84%A0%ED%83%9D%EA%B5%AC%EC%A1%B0%20%EB%8F%99%EC%9E%91%EC%9B%90%EB%A6%AC.png?raw=true' width =800>"
      ]
    },
    {
      "cell_type": "markdown",
      "metadata": {
        "id": "iIllPy22YGxI"
      },
      "source": [
        "> 조건문에서는 들여쓰기를 조심하세요!\n",
        "</br>\n",
        "<img src ='https://github.com/Ahnjihye/allinone_AI/blob/images/10_%EC%84%A0%ED%83%9D%EA%B5%AC%EC%A1%B0%20%EB%93%A4%EC%97%AC%EC%93%B0%EA%B8%B0%20png.png?raw=true' width=200>"
      ]
    },
    {
      "cell_type": "markdown",
      "metadata": {
        "id": "vpkrmOpKIurV"
      },
      "source": [
        "## 실습 \n",
        "물건이 오만원 미만일 경우 배송비 2500원을 더해서 결제금액을 안내하시오. "
      ]
    },
    {
      "cell_type": "code",
      "metadata": {
        "id": "F0zdyUHuCp_5",
        "colab": {
          "base_uri": "https://localhost:8080/"
        },
        "outputId": "4a6fff33-acd3-4ec6-8997-b85544386d07"
      },
      "source": [
        "price = 30000\n",
        "\n",
        "# ------ 무료배송 코드 작성하기 --------\n",
        "if price < 50000 : \n",
        "    price += 2500\n",
        "\n",
        "print('총 결제금액은',price)"
      ],
      "execution_count": null,
      "outputs": [
        {
          "output_type": "stream",
          "text": [
            "물건 가격 입력 : 30000\n",
            "총 결제금액은 32500\n"
          ],
          "name": "stdout"
        }
      ]
    },
    {
      "cell_type": "markdown",
      "metadata": {
        "id": "A5d31d8QYY3s"
      },
      "source": [
        "## 조건을 만드는 비교연산자\n",
        "\n",
        "a와 b가 같다면\n",
        "> if a == b :      \n",
        "\n",
        "</br>\n",
        "\n",
        "a와 b가 같지 않다면\n",
        "\n",
        "> if a != b :   \n",
        "\n",
        "</br>\n",
        "</br>\n",
        "\n",
        "a가 b보다 크다면\n",
        "> if a > b :     \n",
        "\n",
        "a가 b보다 크거나 같다면 \n",
        "> if a >= b :      \n",
        "\n",
        "a가 b보다 작다면\n",
        "> if a < b :        \n",
        "\n",
        "a가 b보다 작거나 같다면\n",
        "> if a <= b :      \n"
      ]
    },
    {
      "cell_type": "markdown",
      "metadata": {
        "id": "kLlhbmxaU5Br"
      },
      "source": [
        "자동 출석 시스템\n",
        "\n",
        "<br/>\n",
        "변수 check에 저장된 값이 출석이면 O을 출력, 결석이면 X를 출력하는 코드 작성하기 "
      ]
    },
    {
      "cell_type": "code",
      "metadata": {
        "id": "7TAwKdmcTpUu",
        "colab": {
          "base_uri": "https://localhost:8080/"
        },
        "outputId": "92d053f0-7b8a-403d-9db1-845bd2bc6324"
      },
      "source": [
        "check = \n",
        "\n",
        "if check == '출석' : \n",
        "    print('0')\n",
        "if check == '결석' : \n",
        "    print('X')"
      ],
      "execution_count": null,
      "outputs": [
        {
          "output_type": "stream",
          "text": [
            "출석 혹은 결석을 입력하세요 결석\n",
            "X\n"
          ],
          "name": "stdout"
        }
      ]
    },
    {
      "cell_type": "markdown",
      "metadata": {
        "id": "fyDzma6N0VRw"
      },
      "source": [
        "## 스마트 에어컨 자동조절 시스템\n",
        "<br/>\n",
        "temp는 온도를 저장하는 변수다. temp가 26.5도 이하라면 temp를 1 증가시켜 다시 저장하고, temp가 26.5 초과라면 temp를 1 감소시켜 다시 저장한다. "
      ]
    },
    {
      "cell_type": "code",
      "metadata": {
        "colab": {
          "base_uri": "https://localhost:8080/"
        },
        "id": "qspwNsCy0VRy",
        "outputId": "92d053f0-7b8a-403d-9db1-845bd2bc6324"
      },
      "source": [
        "temp = \n",
        "\n",
        "if temp <= 26.5 : \n",
        "    temp = temp +1 \n",
        "if temp > 26.5 : \n",
        "    temp = temp - 1\n",
        "\n",
        "print('현재온도 :', temp)"
      ],
      "execution_count": null,
      "outputs": [
        {
          "output_type": "stream",
          "text": [
            "출석 혹은 결석을 입력하세요 결석\n",
            "X\n"
          ],
          "name": "stdout"
        }
      ]
    }
  ]
}