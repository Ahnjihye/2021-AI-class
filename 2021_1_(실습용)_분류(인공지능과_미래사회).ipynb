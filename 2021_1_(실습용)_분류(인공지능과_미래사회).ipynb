{
  "nbformat": 4,
  "nbformat_minor": 0,
  "metadata": {
    "colab": {
      "name": "2021_1_(실습용)_분류(인공지능과_미래사회).ipynb",
      "provenance": [],
      "collapsed_sections": [],
      "authorship_tag": "ABX9TyPKPrGPIU64jh3M6MlrUrkc",
      "include_colab_link": true
    },
    "kernelspec": {
      "name": "python3",
      "display_name": "Python 3"
    },
    "language_info": {
      "name": "python"
    }
  },
  "cells": [
    {
      "cell_type": "markdown",
      "metadata": {
        "id": "view-in-github",
        "colab_type": "text"
      },
      "source": [
        "<a href=\"https://colab.research.google.com/github/Ahnjihye/2021-AI-class/blob/images/2021_1_(%EC%8B%A4%EC%8A%B5%EC%9A%A9)_%EB%B6%84%EB%A5%98(%EC%9D%B8%EA%B3%B5%EC%A7%80%EB%8A%A5%EA%B3%BC_%EB%AF%B8%EB%9E%98%EC%82%AC%ED%9A%8C).ipynb\" target=\"_parent\"><img src=\"https://colab.research.google.com/assets/colab-badge.svg\" alt=\"Open In Colab\"/></a>"
      ]
    },
    {
      "cell_type": "markdown",
      "metadata": {
        "id": "w_txkKjLe3kg"
      },
      "source": [
        "<img src='https://nohjiho.github.io/images/ml/tensorflow/%EB%A8%B8%EC%8B%A0%EB%9F%AC%EB%8B%9D_%EC%9C%A0%ED%98%95.png' width=1000>\n",
        "<br/>\n",
        "* 레이블 = 정답"
      ]
    },
    {
      "cell_type": "markdown",
      "metadata": {
        "id": "7nAyihHAfoF_"
      },
      "source": [
        "* 꽃 사진을 찍어서 품종을 알려주는 다음 꽃검색 \n",
        "\n",
        "<img src='https://t1.daumcdn.net/cfile/tistory/991F18385BE2B58C25' width = 700>\n"
      ]
    },
    {
      "cell_type": "markdown",
      "metadata": {
        "id": "96ct-H4XhMyp"
      },
      "source": [
        "### 우리는 붓꽃의 품종을 구분해보자.\n",
        "<img src='https://miro.medium.com/max/1000/1*Hh53mOF4Xy4eORjLilKOwA.png' width=600>\n",
        "\n"
      ]
    },
    {
      "cell_type": "code",
      "metadata": {
        "id": "3FyaEAjTEu-Y"
      },
      "source": [
        "# 데이터를 온라인으로 바로 다운받기\n",
        "! git clone https://github.com/Ahnjihye/2021-AI-class.git"
      ],
      "execution_count": null,
      "outputs": []
    },
    {
      "cell_type": "code",
      "metadata": {
        "id": "TUBlPF8FMgIE"
      },
      "source": [
        "import pandas as pd\n",
        "\n",
        "data = pd.read_csv(\"2021-AI-class/파일이름.csv\", encoding = 'cp949') #데이터 불러오기"
      ],
      "execution_count": null,
      "outputs": []
    },
    {
      "cell_type": "code",
      "metadata": {
        "id": "IjiTTrslO0ZU"
      },
      "source": [
        "# 데이터 확인해보기\n",
        "----- 빈칸 1 ----"
      ],
      "execution_count": null,
      "outputs": []
    },
    {
      "cell_type": "code",
      "metadata": {
        "id": "2w59F6WvO1fC"
      },
      "source": [
        "import matplotlib.pyplot as plt\n",
        "\n",
        "# x축이 꽃받침길이, y축이 꽃받침너비인 산점도 그려보기\n",
        "----- 빈칸 2 ----\n",
        "\n",
        "plt.show()"
      ],
      "execution_count": null,
      "outputs": []
    },
    {
      "cell_type": "code",
      "metadata": {
        "id": "vEBeQIL4Pk5Z"
      },
      "source": [
        "# 품종이 세토사인것만 골라내기\n",
        "data[----- 빈칸 3 ----]"
      ],
      "execution_count": null,
      "outputs": []
    },
    {
      "cell_type": "code",
      "metadata": {
        "id": "6te_adbnQB-j"
      },
      "source": [
        "# 세토사인 붓꽃의 꽃받침길이\n",
        "----- 빈칸 4 ----"
      ],
      "execution_count": null,
      "outputs": []
    },
    {
      "cell_type": "code",
      "metadata": {
        "id": "qCRtycqGPDdz"
      },
      "source": [
        "# 세토사 산점도 그리기\n",
        "# x축은 세토사의 꽃받침길이, y축은 세토사의 꽃받침너비\n",
        "plt.scatter(----- 빈칸 5 (x축) ----, ----- 빈칸 6 (y축) ----, color='indigo')\n",
        "plt.show()"
      ],
      "execution_count": null,
      "outputs": []
    },
    {
      "cell_type": "code",
      "metadata": {
        "id": "d2C3XdthPQoi"
      },
      "source": [
        "# 세토사의 산점도 (x축은 꽃받침길이, y축은 꽃받침너비)\n",
        "plt.scatter(----- 빈칸 5 (x축) ----, ----- 빈칸 6 (y축) ----, color='indigo')\n",
        "\n",
        "# 버시칼라의 산점도 (x축은 꽃받침길이, y축은 꽃받침너비)\n",
        "plt.scatter(----- 빈칸 7 (x축) ----, ----- 빈칸 8 (y축) ----, color='crimson')\n",
        "\n",
        "# 버지니카의 산점도 (x축은 꽃받침길이, y축은 꽃받침너비)\n",
        "plt.scatter(----- 빈칸 8 (x축) ----, ----- 빈칸 10 (y축) ----, color='limegreen')\n",
        "\n",
        "plt.show()"
      ],
      "execution_count": null,
      "outputs": []
    },
    {
      "cell_type": "markdown",
      "metadata": {
        "id": "Qrkj31FBRv80"
      },
      "source": [
        "#### 5) 이번에는 꽃잎 길이가 x축, 꽃잎 너비가 y축인 산점도를 붓꽃 품종별로 그려보자. "
      ]
    },
    {
      "cell_type": "code",
      "metadata": {
        "id": "YwNMNQ3tPUgi"
      },
      "source": [
        "# 세토사의 산점도 (x축은 꽃잎길이, y축은 꽃잎너비)\n",
        "plt.scatter(----- 빈칸 11 (x축) ----, ----- 빈칸 12 (y축) ----, color='indigo')\n",
        "\n",
        "# 버시칼라의 산점도 (x축은 꽃잎길이, y축은 꽃잎너비)\n",
        "plt.scatter(----- 빈칸 13 (x축) ----, ----- 빈칸 14 (y축) ----, color='crimson')\n",
        "\n",
        "# 버지니카의 산점도 (x축은 꽃잎길이, y축은 꽃잎너비)\n",
        "plt.scatter(----- 빈칸 14 (x축) ----, ----- 빈칸 15 (y축) ----, color='limegreen')\n",
        "\n",
        "plt.show()"
      ],
      "execution_count": null,
      "outputs": []
    },
    {
      "cell_type": "markdown",
      "metadata": {
        "id": "Rj18jcj_R9kz"
      },
      "source": [
        "#### Q. 위 그래프는 붓꽃 품종 세 개를 잘 구분하나요? "
      ]
    },
    {
      "cell_type": "markdown",
      "metadata": {
        "id": "l8FbTguwIejM"
      },
      "source": [
        "# 4. 붓꽃의 품종을 구분하는 결정트리 만들어보기 \n",
        "\n",
        "#### 결정 트리 (Decision Tree)\n",
        "\n",
        "<br/><br/>\n",
        "<img src='https://blog.kakaocdn.net/dn/wlH1u/btqwWZI9Xen/kFJDjGSFJAPxhyatC3Xhs0/img.png' width=600>\n",
        "\n",
        "<br/><br/>\n",
        "\n",
        "<img src='https://wikidocs.net/images/page/34087/%EC%9D%98%EC%82%AC%EA%B2%B0%EC%A0%95%EB%82%98%EB%AC%B44.png' width=600>\n"
      ]
    },
    {
      "cell_type": "markdown",
      "metadata": {
        "id": "OQY5qiXMxGQT"
      },
      "source": [
        "#### 머신러닝 라이브러리 sklearn \n",
        "<img src='https://upload.wikimedia.org/wikipedia/commons/thumb/0/05/Scikit_learn_logo_small.svg/1200px-Scikit_learn_logo_small.svg.png' width = 400>\n",
        "\n",
        "\n",
        "* 머신러닝에는 다양한 알고리즘이 존재\n",
        "* 대부분의 머신러닝 알고리즘이 sklearn에 구현되어 있음\n",
        "* sklearn의 의사결정트리를 사용하여 인공지능 학습을 시키고, 예측을 수행해보자\n"
      ]
    },
    {
      "cell_type": "markdown",
      "metadata": {
        "id": "fL3cTUzvS13U"
      },
      "source": [
        "\n",
        "\n",
        "```\n",
        "# 의사결정트리 기능 포함시키기\n",
        "from sklearn.tree import DecisionTreeClassifier\n",
        "```\n",
        "\n"
      ]
    },
    {
      "cell_type": "code",
      "metadata": {
        "id": "tgZSiLJFUdDV"
      },
      "source": [
        "# data에서 꽃받침정보는 제외하고, 꽃잎 정보만 선택하여 학습시키기\n",
        "----- 빈칸 16 ----"
      ],
      "execution_count": null,
      "outputs": []
    },
    {
      "cell_type": "code",
      "metadata": {
        "id": "jtsHHCGfR7NA"
      },
      "source": [
        "from sklearn.tree import DecisionTreeClassifier\n",
        "\n",
        "# 결정트리 모델 만들기\n",
        "----- 빈칸 17 ----"
      ],
      "execution_count": null,
      "outputs": []
    },
    {
      "cell_type": "code",
      "metadata": {
        "id": "G0aP9fLaTA2S"
      },
      "source": [
        "# 학습시키기 : 꽃잎길이, 꽃잎너비로 품종을 구분하게끔 학습시키기\n",
        "----- 빈칸 18 ----"
      ],
      "execution_count": null,
      "outputs": []
    },
    {
      "cell_type": "markdown",
      "metadata": {
        "id": "tg6wI5pOYl3r"
      },
      "source": [
        "인공지능이 만든 결정 트리 확인하기 \n",
        "\n",
        "```\n",
        "import graphviz\n",
        "from sklearn.tree import export_graphviz\n",
        "\n",
        "# 결정 트리를 시각화하여 tree.dot 파일로 내보내는 코드\n",
        "export_graphviz(model, out_file ='tree.dot',\n",
        "                feature_names = [학습데이터 속성명],    \n",
        "                class_names = [학습결과로 판단할 분류],\n",
        "                filled = True, rounded = True, impurity = False)\n",
        "\n",
        "# 위에서 만든 tree.dot을 화면에 보이게 하기\n",
        "with open(\"tree.dot\") as f:\n",
        "    dot_graph = f.read()\n",
        "display(graphviz.Source(dot_graph))\n",
        "```"
      ]
    },
    {
      "cell_type": "code",
      "metadata": {
        "id": "xfq6_qU6TODs"
      },
      "source": [
        "\n",
        "\n"
      ],
      "execution_count": null,
      "outputs": []
    },
    {
      "cell_type": "markdown",
      "metadata": {
        "id": "K5Gwsb1HZBHr"
      },
      "source": [
        "### 위에서 작성했던 꽃잎길이-꽃잎너비 그래프에 분류하는 선 그려보기\n",
        "\n",
        "<img src='https://github.com/Ahnjihye/2021-AI-class/blob/images/%EC%9D%B4%EB%AF%B8%EC%A7%80%20025.png?raw=true' width=800>\n",
        "\n",
        "1.   첫번째 기준 꽃잎길이 <= 2.45\n",
        "<img src='https://github.com/Ahnjihye/2021-AI-class/blob/images/%EC%9D%B4%EB%AF%B8%EC%A7%80%20026.png?raw=true' width=800>\n",
        "\n",
        "2.   두번째 기준 꽃잎 너비 <= 1.75\n",
        "<img src='https://github.com/Ahnjihye/2021-AI-class/blob/images/%EC%9D%B4%EB%AF%B8%EC%A7%80%20027.png?raw=true' width=800>\n",
        "\n",
        "\n",
        "\n",
        "\n",
        "\n"
      ]
    },
    {
      "cell_type": "code",
      "metadata": {
        "id": "1sQorZnAZE7N"
      },
      "source": [
        ""
      ],
      "execution_count": null,
      "outputs": []
    }
  ]
}