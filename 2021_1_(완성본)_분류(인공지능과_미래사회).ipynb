{
  "nbformat": 4,
  "nbformat_minor": 0,
  "metadata": {
    "colab": {
      "name": "2021_1_(완성본)_분류(인공지능과_미래사회).ipynb",
      "provenance": [],
      "collapsed_sections": [],
      "authorship_tag": "ABX9TyPa37NuIC69rCbAeNXSoso1",
      "include_colab_link": true
    },
    "kernelspec": {
      "name": "python3",
      "display_name": "Python 3"
    },
    "language_info": {
      "name": "python"
    }
  },
  "cells": [
    {
      "cell_type": "markdown",
      "metadata": {
        "id": "view-in-github",
        "colab_type": "text"
      },
      "source": [
        "<a href=\"https://colab.research.google.com/github/Ahnjihye/2021-AI-class/blob/main/2021_1_(%EC%99%84%EC%84%B1%EB%B3%B8)_%EB%B6%84%EB%A5%98(%EC%9D%B8%EA%B3%B5%EC%A7%80%EB%8A%A5%EA%B3%BC_%EB%AF%B8%EB%9E%98%EC%82%AC%ED%9A%8C).ipynb\" target=\"_parent\"><img src=\"https://colab.research.google.com/assets/colab-badge.svg\" alt=\"Open In Colab\"/></a>"
      ]
    },
    {
      "cell_type": "markdown",
      "metadata": {
        "id": "w_txkKjLe3kg"
      },
      "source": [
        "<img src='https://nohjiho.github.io/images/ml/tensorflow/%EB%A8%B8%EC%8B%A0%EB%9F%AC%EB%8B%9D_%EC%9C%A0%ED%98%95.png' width=1000>\n",
        "<br/>\n",
        "* 레이블 = 정답"
      ]
    },
    {
      "cell_type": "markdown",
      "metadata": {
        "id": "7nAyihHAfoF_"
      },
      "source": [
        "* 꽃 사진을 찍어서 품종을 알려주는 다음 꽃검색 \n",
        "\n",
        "<img src='https://t1.daumcdn.net/cfile/tistory/991F18385BE2B58C25' width = 700>\n"
      ]
    },
    {
      "cell_type": "markdown",
      "metadata": {
        "id": "96ct-H4XhMyp"
      },
      "source": [
        "### 우리는 붓꽃의 품종을 구분해보자.\n",
        "<img src='https://miro.medium.com/max/1000/1*Hh53mOF4Xy4eORjLilKOwA.png' width=600>\n",
        "\n",
        "머신러닝 데이터가 많은 사이트 kaggle에서 붓꽃 데이터를 다운받아 실행해보기 \n",
        "\n",
        "\n",
        "\n",
        "https://www.kaggle.com/uciml/iris"
      ]
    },
    {
      "cell_type": "code",
      "metadata": {
        "colab": {
          "base_uri": "https://localhost:8080/"
        },
        "id": "3FyaEAjTEu-Y",
        "outputId": "e16d747f-d3a9-4fc1-c261-cc29a27b08dd"
      },
      "source": [
        "! git clone https://github.com/Ahnjihye/2021-AI-class.git"
      ],
      "execution_count": 1,
      "outputs": [
        {
          "output_type": "stream",
          "text": [
            "Cloning into '2021-AI-class'...\n",
            "remote: Enumerating objects: 131, done.\u001b[K\n",
            "remote: Counting objects: 100% (131/131), done.\u001b[K\n",
            "remote: Compressing objects: 100% (128/128), done.\u001b[K\n",
            "remote: Total 131 (delta 43), reused 0 (delta 0), pack-reused 0\u001b[K\n",
            "Receiving objects: 100% (131/131), 3.86 MiB | 14.67 MiB/s, done.\n",
            "Resolving deltas: 100% (43/43), done.\n"
          ],
          "name": "stdout"
        }
      ]
    },
    {
      "cell_type": "code",
      "metadata": {
        "id": "TUBlPF8FMgIE"
      },
      "source": [
        "import pandas as pd\n",
        "\n",
        "data = pd.read_csv(\"2021-AI-class/kor_iris.csv\", encoding = 'cp949') #데이터 불러오기"
      ],
      "execution_count": 2,
      "outputs": []
    },
    {
      "cell_type": "code",
      "metadata": {
        "colab": {
          "base_uri": "https://localhost:8080/",
          "height": 408
        },
        "id": "IjiTTrslO0ZU",
        "outputId": "3ebd022d-45e1-42f9-9d2f-5329bc8f273b"
      },
      "source": [
        "data"
      ],
      "execution_count": 3,
      "outputs": [
        {
          "output_type": "execute_result",
          "data": {
            "text/html": [
              "<div>\n",
              "<style scoped>\n",
              "    .dataframe tbody tr th:only-of-type {\n",
              "        vertical-align: middle;\n",
              "    }\n",
              "\n",
              "    .dataframe tbody tr th {\n",
              "        vertical-align: top;\n",
              "    }\n",
              "\n",
              "    .dataframe thead th {\n",
              "        text-align: right;\n",
              "    }\n",
              "</style>\n",
              "<table border=\"1\" class=\"dataframe\">\n",
              "  <thead>\n",
              "    <tr style=\"text-align: right;\">\n",
              "      <th></th>\n",
              "      <th>번호</th>\n",
              "      <th>꽃받침길이</th>\n",
              "      <th>꽃받침너비</th>\n",
              "      <th>꽃잎길이</th>\n",
              "      <th>꽃잎너비</th>\n",
              "      <th>품종</th>\n",
              "    </tr>\n",
              "  </thead>\n",
              "  <tbody>\n",
              "    <tr>\n",
              "      <th>0</th>\n",
              "      <td>1</td>\n",
              "      <td>5.1</td>\n",
              "      <td>3.5</td>\n",
              "      <td>1.4</td>\n",
              "      <td>0.2</td>\n",
              "      <td>세토사</td>\n",
              "    </tr>\n",
              "    <tr>\n",
              "      <th>1</th>\n",
              "      <td>2</td>\n",
              "      <td>4.9</td>\n",
              "      <td>3.0</td>\n",
              "      <td>1.4</td>\n",
              "      <td>0.2</td>\n",
              "      <td>세토사</td>\n",
              "    </tr>\n",
              "    <tr>\n",
              "      <th>2</th>\n",
              "      <td>3</td>\n",
              "      <td>4.7</td>\n",
              "      <td>3.2</td>\n",
              "      <td>1.3</td>\n",
              "      <td>0.2</td>\n",
              "      <td>세토사</td>\n",
              "    </tr>\n",
              "    <tr>\n",
              "      <th>3</th>\n",
              "      <td>4</td>\n",
              "      <td>4.6</td>\n",
              "      <td>3.1</td>\n",
              "      <td>1.5</td>\n",
              "      <td>0.2</td>\n",
              "      <td>세토사</td>\n",
              "    </tr>\n",
              "    <tr>\n",
              "      <th>4</th>\n",
              "      <td>5</td>\n",
              "      <td>5.0</td>\n",
              "      <td>3.6</td>\n",
              "      <td>1.4</td>\n",
              "      <td>0.2</td>\n",
              "      <td>세토사</td>\n",
              "    </tr>\n",
              "    <tr>\n",
              "      <th>...</th>\n",
              "      <td>...</td>\n",
              "      <td>...</td>\n",
              "      <td>...</td>\n",
              "      <td>...</td>\n",
              "      <td>...</td>\n",
              "      <td>...</td>\n",
              "    </tr>\n",
              "    <tr>\n",
              "      <th>145</th>\n",
              "      <td>146</td>\n",
              "      <td>6.7</td>\n",
              "      <td>3.0</td>\n",
              "      <td>5.2</td>\n",
              "      <td>2.3</td>\n",
              "      <td>버지니카</td>\n",
              "    </tr>\n",
              "    <tr>\n",
              "      <th>146</th>\n",
              "      <td>147</td>\n",
              "      <td>6.3</td>\n",
              "      <td>2.5</td>\n",
              "      <td>5.0</td>\n",
              "      <td>1.9</td>\n",
              "      <td>버지니카</td>\n",
              "    </tr>\n",
              "    <tr>\n",
              "      <th>147</th>\n",
              "      <td>148</td>\n",
              "      <td>6.5</td>\n",
              "      <td>3.0</td>\n",
              "      <td>5.2</td>\n",
              "      <td>2.0</td>\n",
              "      <td>버지니카</td>\n",
              "    </tr>\n",
              "    <tr>\n",
              "      <th>148</th>\n",
              "      <td>149</td>\n",
              "      <td>6.2</td>\n",
              "      <td>3.4</td>\n",
              "      <td>5.4</td>\n",
              "      <td>2.3</td>\n",
              "      <td>버지니카</td>\n",
              "    </tr>\n",
              "    <tr>\n",
              "      <th>149</th>\n",
              "      <td>150</td>\n",
              "      <td>5.9</td>\n",
              "      <td>3.0</td>\n",
              "      <td>5.1</td>\n",
              "      <td>1.8</td>\n",
              "      <td>버지니카</td>\n",
              "    </tr>\n",
              "  </tbody>\n",
              "</table>\n",
              "<p>150 rows × 6 columns</p>\n",
              "</div>"
            ],
            "text/plain": [
              "      번호  꽃받침길이  꽃받침너비  꽃잎길이  꽃잎너비    품종\n",
              "0      1    5.1    3.5   1.4   0.2   세토사\n",
              "1      2    4.9    3.0   1.4   0.2   세토사\n",
              "2      3    4.7    3.2   1.3   0.2   세토사\n",
              "3      4    4.6    3.1   1.5   0.2   세토사\n",
              "4      5    5.0    3.6   1.4   0.2   세토사\n",
              "..   ...    ...    ...   ...   ...   ...\n",
              "145  146    6.7    3.0   5.2   2.3  버지니카\n",
              "146  147    6.3    2.5   5.0   1.9  버지니카\n",
              "147  148    6.5    3.0   5.2   2.0  버지니카\n",
              "148  149    6.2    3.4   5.4   2.3  버지니카\n",
              "149  150    5.9    3.0   5.1   1.8  버지니카\n",
              "\n",
              "[150 rows x 6 columns]"
            ]
          },
          "metadata": {
            "tags": []
          },
          "execution_count": 3
        }
      ]
    },
    {
      "cell_type": "code",
      "metadata": {
        "colab": {
          "base_uri": "https://localhost:8080/",
          "height": 268
        },
        "id": "2w59F6WvO1fC",
        "outputId": "0c02c2d6-9716-4a3e-b310-b50bed493e1b"
      },
      "source": [
        "import matplotlib.pyplot as plt\n",
        "\n",
        "plt.scatter(data['꽃받침길이'], data['꽃받침너비'])\n",
        "plt.show()"
      ],
      "execution_count": 4,
      "outputs": [
        {
          "output_type": "display_data",
          "data": {
            "image/png": "[encoded data removed]",
            "text/plain": [
              "<Figure size 432x288 with 1 Axes>"
            ]
          },
          "metadata": {
            "tags": [],
            "needs_background": "light"
          }
        }
      ]
    },
    {
      "cell_type": "code",
      "metadata": {
        "colab": {
          "base_uri": "https://localhost:8080/",
          "height": 1000
        },
        "id": "vEBeQIL4Pk5Z",
        "outputId": "2ce6411e-cb4e-4ed9-d949-10459e49e667"
      },
      "source": [
        "# 품종이 세토사인것만 골라내기\n",
        "data[data['품종']=='세토사']"
      ],
      "execution_count": 5,
      "outputs": [
        {
          "output_type": "execute_result",
          "data": {
            "text/html": [
              "<div>\n",
              "<style scoped>\n",
              "    .dataframe tbody tr th:only-of-type {\n",
              "        vertical-align: middle;\n",
              "    }\n",
              "\n",
              "    .dataframe tbody tr th {\n",
              "        vertical-align: top;\n",
              "    }\n",
              "\n",
              "    .dataframe thead th {\n",
              "        text-align: right;\n",
              "    }\n",
              "</style>\n",
              "<table border=\"1\" class=\"dataframe\">\n",
              "  <thead>\n",
              "    <tr style=\"text-align: right;\">\n",
              "      <th></th>\n",
              "      <th>번호</th>\n",
              "      <th>꽃받침길이</th>\n",
              "      <th>꽃받침너비</th>\n",
              "      <th>꽃잎길이</th>\n",
              "      <th>꽃잎너비</th>\n",
              "      <th>품종</th>\n",
              "    </tr>\n",
              "  </thead>\n",
              "  <tbody>\n",
              "    <tr>\n",
              "      <th>0</th>\n",
              "      <td>1</td>\n",
              "      <td>5.1</td>\n",
              "      <td>3.5</td>\n",
              "      <td>1.4</td>\n",
              "      <td>0.2</td>\n",
              "      <td>세토사</td>\n",
              "    </tr>\n",
              "    <tr>\n",
              "      <th>1</th>\n",
              "      <td>2</td>\n",
              "      <td>4.9</td>\n",
              "      <td>3.0</td>\n",
              "      <td>1.4</td>\n",
              "      <td>0.2</td>\n",
              "      <td>세토사</td>\n",
              "    </tr>\n",
              "    <tr>\n",
              "      <th>2</th>\n",
              "      <td>3</td>\n",
              "      <td>4.7</td>\n",
              "      <td>3.2</td>\n",
              "      <td>1.3</td>\n",
              "      <td>0.2</td>\n",
              "      <td>세토사</td>\n",
              "    </tr>\n",
              "    <tr>\n",
              "      <th>3</th>\n",
              "      <td>4</td>\n",
              "      <td>4.6</td>\n",
              "      <td>3.1</td>\n",
              "      <td>1.5</td>\n",
              "      <td>0.2</td>\n",
              "      <td>세토사</td>\n",
              "    </tr>\n",
              "    <tr>\n",
              "      <th>4</th>\n",
              "      <td>5</td>\n",
              "      <td>5.0</td>\n",
              "      <td>3.6</td>\n",
              "      <td>1.4</td>\n",
              "      <td>0.2</td>\n",
              "      <td>세토사</td>\n",
              "    </tr>\n",
              "    <tr>\n",
              "      <th>5</th>\n",
              "      <td>6</td>\n",
              "      <td>5.4</td>\n",
              "      <td>3.9</td>\n",
              "      <td>1.7</td>\n",
              "      <td>0.4</td>\n",
              "      <td>세토사</td>\n",
              "    </tr>\n",
              "    <tr>\n",
              "      <th>6</th>\n",
              "      <td>7</td>\n",
              "      <td>4.6</td>\n",
              "      <td>3.4</td>\n",
              "      <td>1.4</td>\n",
              "      <td>0.3</td>\n",
              "      <td>세토사</td>\n",
              "    </tr>\n",
              "    <tr>\n",
              "      <th>7</th>\n",
              "      <td>8</td>\n",
              "      <td>5.0</td>\n",
              "      <td>3.4</td>\n",
              "      <td>1.5</td>\n",
              "      <td>0.2</td>\n",
              "      <td>세토사</td>\n",
              "    </tr>\n",
              "    <tr>\n",
              "      <th>8</th>\n",
              "      <td>9</td>\n",
              "      <td>4.4</td>\n",
              "      <td>2.9</td>\n",
              "      <td>1.4</td>\n",
              "      <td>0.2</td>\n",
              "      <td>세토사</td>\n",
              "    </tr>\n",
              "    <tr>\n",
              "      <th>9</th>\n",
              "      <td>10</td>\n",
              "      <td>4.9</td>\n",
              "      <td>3.1</td>\n",
              "      <td>1.5</td>\n",
              "      <td>0.1</td>\n",
              "      <td>세토사</td>\n",
              "    </tr>\n",
              "    <tr>\n",
              "      <th>10</th>\n",
              "      <td>11</td>\n",
              "      <td>5.4</td>\n",
              "      <td>3.7</td>\n",
              "      <td>1.5</td>\n",
              "      <td>0.2</td>\n",
              "      <td>세토사</td>\n",
              "    </tr>\n",
              "    <tr>\n",
              "      <th>11</th>\n",
              "      <td>12</td>\n",
              "      <td>4.8</td>\n",
              "      <td>3.4</td>\n",
              "      <td>1.6</td>\n",
              "      <td>0.2</td>\n",
              "      <td>세토사</td>\n",
              "    </tr>\n",
              "    <tr>\n",
              "      <th>12</th>\n",
              "      <td>13</td>\n",
              "      <td>4.8</td>\n",
              "      <td>3.0</td>\n",
              "      <td>1.4</td>\n",
              "      <td>0.1</td>\n",
              "      <td>세토사</td>\n",
              "    </tr>\n",
              "    <tr>\n",
              "      <th>13</th>\n",
              "      <td>14</td>\n",
              "      <td>4.3</td>\n",
              "      <td>3.0</td>\n",
              "      <td>1.1</td>\n",
              "      <td>0.1</td>\n",
              "      <td>세토사</td>\n",
              "    </tr>\n",
              "    <tr>\n",
              "      <th>14</th>\n",
              "      <td>15</td>\n",
              "      <td>5.8</td>\n",
              "      <td>4.0</td>\n",
              "      <td>1.2</td>\n",
              "      <td>0.2</td>\n",
              "      <td>세토사</td>\n",
              "    </tr>\n",
              "    <tr>\n",
              "      <th>15</th>\n",
              "      <td>16</td>\n",
              "      <td>5.7</td>\n",
              "      <td>4.4</td>\n",
              "      <td>1.5</td>\n",
              "      <td>0.4</td>\n",
              "      <td>세토사</td>\n",
              "    </tr>\n",
              "    <tr>\n",
              "      <th>16</th>\n",
              "      <td>17</td>\n",
              "      <td>5.4</td>\n",
              "      <td>3.9</td>\n",
              "      <td>1.3</td>\n",
              "      <td>0.4</td>\n",
              "      <td>세토사</td>\n",
              "    </tr>\n",
              "    <tr>\n",
              "      <th>17</th>\n",
              "      <td>18</td>\n",
              "      <td>5.1</td>\n",
              "      <td>3.5</td>\n",
              "      <td>1.4</td>\n",
              "      <td>0.3</td>\n",
              "      <td>세토사</td>\n",
              "    </tr>\n",
              "    <tr>\n",
              "      <th>18</th>\n",
              "      <td>19</td>\n",
              "      <td>5.7</td>\n",
              "      <td>3.8</td>\n",
              "      <td>1.7</td>\n",
              "      <td>0.3</td>\n",
              "      <td>세토사</td>\n",
              "    </tr>\n",
              "    <tr>\n",
              "      <th>19</th>\n",
              "      <td>20</td>\n",
              "      <td>5.1</td>\n",
              "      <td>3.8</td>\n",
              "      <td>1.5</td>\n",
              "      <td>0.3</td>\n",
              "      <td>세토사</td>\n",
              "    </tr>\n",
              "    <tr>\n",
              "      <th>20</th>\n",
              "      <td>21</td>\n",
              "      <td>5.4</td>\n",
              "      <td>3.4</td>\n",
              "      <td>1.7</td>\n",
              "      <td>0.2</td>\n",
              "      <td>세토사</td>\n",
              "    </tr>\n",
              "    <tr>\n",
              "      <th>21</th>\n",
              "      <td>22</td>\n",
              "      <td>5.1</td>\n",
              "      <td>3.7</td>\n",
              "      <td>1.5</td>\n",
              "      <td>0.4</td>\n",
              "      <td>세토사</td>\n",
              "    </tr>\n",
              "    <tr>\n",
              "      <th>22</th>\n",
              "      <td>23</td>\n",
              "      <td>4.6</td>\n",
              "      <td>3.6</td>\n",
              "      <td>1.0</td>\n",
              "      <td>0.2</td>\n",
              "      <td>세토사</td>\n",
              "    </tr>\n",
              "    <tr>\n",
              "      <th>23</th>\n",
              "      <td>24</td>\n",
              "      <td>5.1</td>\n",
              "      <td>3.3</td>\n",
              "      <td>1.7</td>\n",
              "      <td>0.5</td>\n",
              "      <td>세토사</td>\n",
              "    </tr>\n",
              "    <tr>\n",
              "      <th>24</th>\n",
              "      <td>25</td>\n",
              "      <td>4.8</td>\n",
              "      <td>3.4</td>\n",
              "      <td>1.9</td>\n",
              "      <td>0.2</td>\n",
              "      <td>세토사</td>\n",
              "    </tr>\n",
              "    <tr>\n",
              "      <th>25</th>\n",
              "      <td>26</td>\n",
              "      <td>5.0</td>\n",
              "      <td>3.0</td>\n",
              "      <td>1.6</td>\n",
              "      <td>0.2</td>\n",
              "      <td>세토사</td>\n",
              "    </tr>\n",
              "    <tr>\n",
              "      <th>26</th>\n",
              "      <td>27</td>\n",
              "      <td>5.0</td>\n",
              "      <td>3.4</td>\n",
              "      <td>1.6</td>\n",
              "      <td>0.4</td>\n",
              "      <td>세토사</td>\n",
              "    </tr>\n",
              "    <tr>\n",
              "      <th>27</th>\n",
              "      <td>28</td>\n",
              "      <td>5.2</td>\n",
              "      <td>3.5</td>\n",
              "      <td>1.5</td>\n",
              "      <td>0.2</td>\n",
              "      <td>세토사</td>\n",
              "    </tr>\n",
              "    <tr>\n",
              "      <th>28</th>\n",
              "      <td>29</td>\n",
              "      <td>5.2</td>\n",
              "      <td>3.4</td>\n",
              "      <td>1.4</td>\n",
              "      <td>0.2</td>\n",
              "      <td>세토사</td>\n",
              "    </tr>\n",
              "    <tr>\n",
              "      <th>29</th>\n",
              "      <td>30</td>\n",
              "      <td>4.7</td>\n",
              "      <td>3.2</td>\n",
              "      <td>1.6</td>\n",
              "      <td>0.2</td>\n",
              "      <td>세토사</td>\n",
              "    </tr>\n",
              "    <tr>\n",
              "      <th>30</th>\n",
              "      <td>31</td>\n",
              "      <td>4.8</td>\n",
              "      <td>3.1</td>\n",
              "      <td>1.6</td>\n",
              "      <td>0.2</td>\n",
              "      <td>세토사</td>\n",
              "    </tr>\n",
              "    <tr>\n",
              "      <th>31</th>\n",
              "      <td>32</td>\n",
              "      <td>5.4</td>\n",
              "      <td>3.4</td>\n",
              "      <td>1.5</td>\n",
              "      <td>0.4</td>\n",
              "      <td>세토사</td>\n",
              "    </tr>\n",
              "    <tr>\n",
              "      <th>32</th>\n",
              "      <td>33</td>\n",
              "      <td>5.2</td>\n",
              "      <td>4.1</td>\n",
              "      <td>1.5</td>\n",
              "      <td>0.1</td>\n",
              "      <td>세토사</td>\n",
              "    </tr>\n",
              "    <tr>\n",
              "      <th>33</th>\n",
              "      <td>34</td>\n",
              "      <td>5.5</td>\n",
              "      <td>4.2</td>\n",
              "      <td>1.4</td>\n",
              "      <td>0.2</td>\n",
              "      <td>세토사</td>\n",
              "    </tr>\n",
              "    <tr>\n",
              "      <th>34</th>\n",
              "      <td>35</td>\n",
              "      <td>4.9</td>\n",
              "      <td>3.1</td>\n",
              "      <td>1.5</td>\n",
              "      <td>0.1</td>\n",
              "      <td>세토사</td>\n",
              "    </tr>\n",
              "    <tr>\n",
              "      <th>35</th>\n",
              "      <td>36</td>\n",
              "      <td>5.0</td>\n",
              "      <td>3.2</td>\n",
              "      <td>1.2</td>\n",
              "      <td>0.2</td>\n",
              "      <td>세토사</td>\n",
              "    </tr>\n",
              "    <tr>\n",
              "      <th>36</th>\n",
              "      <td>37</td>\n",
              "      <td>5.5</td>\n",
              "      <td>3.5</td>\n",
              "      <td>1.3</td>\n",
              "      <td>0.2</td>\n",
              "      <td>세토사</td>\n",
              "    </tr>\n",
              "    <tr>\n",
              "      <th>37</th>\n",
              "      <td>38</td>\n",
              "      <td>4.9</td>\n",
              "      <td>3.1</td>\n",
              "      <td>1.5</td>\n",
              "      <td>0.1</td>\n",
              "      <td>세토사</td>\n",
              "    </tr>\n",
              "    <tr>\n",
              "      <th>38</th>\n",
              "      <td>39</td>\n",
              "      <td>4.4</td>\n",
              "      <td>3.0</td>\n",
              "      <td>1.3</td>\n",
              "      <td>0.2</td>\n",
              "      <td>세토사</td>\n",
              "    </tr>\n",
              "    <tr>\n",
              "      <th>39</th>\n",
              "      <td>40</td>\n",
              "      <td>5.1</td>\n",
              "      <td>3.4</td>\n",
              "      <td>1.5</td>\n",
              "      <td>0.2</td>\n",
              "      <td>세토사</td>\n",
              "    </tr>\n",
              "    <tr>\n",
              "      <th>40</th>\n",
              "      <td>41</td>\n",
              "      <td>5.0</td>\n",
              "      <td>3.5</td>\n",
              "      <td>1.3</td>\n",
              "      <td>0.3</td>\n",
              "      <td>세토사</td>\n",
              "    </tr>\n",
              "    <tr>\n",
              "      <th>41</th>\n",
              "      <td>42</td>\n",
              "      <td>4.5</td>\n",
              "      <td>2.3</td>\n",
              "      <td>1.3</td>\n",
              "      <td>0.3</td>\n",
              "      <td>세토사</td>\n",
              "    </tr>\n",
              "    <tr>\n",
              "      <th>42</th>\n",
              "      <td>43</td>\n",
              "      <td>4.4</td>\n",
              "      <td>3.2</td>\n",
              "      <td>1.3</td>\n",
              "      <td>0.2</td>\n",
              "      <td>세토사</td>\n",
              "    </tr>\n",
              "    <tr>\n",
              "      <th>43</th>\n",
              "      <td>44</td>\n",
              "      <td>5.0</td>\n",
              "      <td>3.5</td>\n",
              "      <td>1.6</td>\n",
              "      <td>0.6</td>\n",
              "      <td>세토사</td>\n",
              "    </tr>\n",
              "    <tr>\n",
              "      <th>44</th>\n",
              "      <td>45</td>\n",
              "      <td>5.1</td>\n",
              "      <td>3.8</td>\n",
              "      <td>1.9</td>\n",
              "      <td>0.4</td>\n",
              "      <td>세토사</td>\n",
              "    </tr>\n",
              "    <tr>\n",
              "      <th>45</th>\n",
              "      <td>46</td>\n",
              "      <td>4.8</td>\n",
              "      <td>3.0</td>\n",
              "      <td>1.4</td>\n",
              "      <td>0.3</td>\n",
              "      <td>세토사</td>\n",
              "    </tr>\n",
              "    <tr>\n",
              "      <th>46</th>\n",
              "      <td>47</td>\n",
              "      <td>5.1</td>\n",
              "      <td>3.8</td>\n",
              "      <td>1.6</td>\n",
              "      <td>0.2</td>\n",
              "      <td>세토사</td>\n",
              "    </tr>\n",
              "    <tr>\n",
              "      <th>47</th>\n",
              "      <td>48</td>\n",
              "      <td>4.6</td>\n",
              "      <td>3.2</td>\n",
              "      <td>1.4</td>\n",
              "      <td>0.2</td>\n",
              "      <td>세토사</td>\n",
              "    </tr>\n",
              "    <tr>\n",
              "      <th>48</th>\n",
              "      <td>49</td>\n",
              "      <td>5.3</td>\n",
              "      <td>3.7</td>\n",
              "      <td>1.5</td>\n",
              "      <td>0.2</td>\n",
              "      <td>세토사</td>\n",
              "    </tr>\n",
              "    <tr>\n",
              "      <th>49</th>\n",
              "      <td>50</td>\n",
              "      <td>5.0</td>\n",
              "      <td>3.3</td>\n",
              "      <td>1.4</td>\n",
              "      <td>0.2</td>\n",
              "      <td>세토사</td>\n",
              "    </tr>\n",
              "  </tbody>\n",
              "</table>\n",
              "</div>"
            ],
            "text/plain": [
              "    번호  꽃받침길이  꽃받침너비  꽃잎길이  꽃잎너비   품종\n",
              "0    1    5.1    3.5   1.4   0.2  세토사\n",
              "1    2    4.9    3.0   1.4   0.2  세토사\n",
              "2    3    4.7    3.2   1.3   0.2  세토사\n",
              "3    4    4.6    3.1   1.5   0.2  세토사\n",
              "4    5    5.0    3.6   1.4   0.2  세토사\n",
              "5    6    5.4    3.9   1.7   0.4  세토사\n",
              "6    7    4.6    3.4   1.4   0.3  세토사\n",
              "7    8    5.0    3.4   1.5   0.2  세토사\n",
              "8    9    4.4    2.9   1.4   0.2  세토사\n",
              "9   10    4.9    3.1   1.5   0.1  세토사\n",
              "10  11    5.4    3.7   1.5   0.2  세토사\n",
              "11  12    4.8    3.4   1.6   0.2  세토사\n",
              "12  13    4.8    3.0   1.4   0.1  세토사\n",
              "13  14    4.3    3.0   1.1   0.1  세토사\n",
              "14  15    5.8    4.0   1.2   0.2  세토사\n",
              "15  16    5.7    4.4   1.5   0.4  세토사\n",
              "16  17    5.4    3.9   1.3   0.4  세토사\n",
              "17  18    5.1    3.5   1.4   0.3  세토사\n",
              "18  19    5.7    3.8   1.7   0.3  세토사\n",
              "19  20    5.1    3.8   1.5   0.3  세토사\n",
              "20  21    5.4    3.4   1.7   0.2  세토사\n",
              "21  22    5.1    3.7   1.5   0.4  세토사\n",
              "22  23    4.6    3.6   1.0   0.2  세토사\n",
              "23  24    5.1    3.3   1.7   0.5  세토사\n",
              "24  25    4.8    3.4   1.9   0.2  세토사\n",
              "25  26    5.0    3.0   1.6   0.2  세토사\n",
              "26  27    5.0    3.4   1.6   0.4  세토사\n",
              "27  28    5.2    3.5   1.5   0.2  세토사\n",
              "28  29    5.2    3.4   1.4   0.2  세토사\n",
              "29  30    4.7    3.2   1.6   0.2  세토사\n",
              "30  31    4.8    3.1   1.6   0.2  세토사\n",
              "31  32    5.4    3.4   1.5   0.4  세토사\n",
              "32  33    5.2    4.1   1.5   0.1  세토사\n",
              "33  34    5.5    4.2   1.4   0.2  세토사\n",
              "34  35    4.9    3.1   1.5   0.1  세토사\n",
              "35  36    5.0    3.2   1.2   0.2  세토사\n",
              "36  37    5.5    3.5   1.3   0.2  세토사\n",
              "37  38    4.9    3.1   1.5   0.1  세토사\n",
              "38  39    4.4    3.0   1.3   0.2  세토사\n",
              "39  40    5.1    3.4   1.5   0.2  세토사\n",
              "40  41    5.0    3.5   1.3   0.3  세토사\n",
              "41  42    4.5    2.3   1.3   0.3  세토사\n",
              "42  43    4.4    3.2   1.3   0.2  세토사\n",
              "43  44    5.0    3.5   1.6   0.6  세토사\n",
              "44  45    5.1    3.8   1.9   0.4  세토사\n",
              "45  46    4.8    3.0   1.4   0.3  세토사\n",
              "46  47    5.1    3.8   1.6   0.2  세토사\n",
              "47  48    4.6    3.2   1.4   0.2  세토사\n",
              "48  49    5.3    3.7   1.5   0.2  세토사\n",
              "49  50    5.0    3.3   1.4   0.2  세토사"
            ]
          },
          "metadata": {
            "tags": []
          },
          "execution_count": 5
        }
      ]
    },
    {
      "cell_type": "code",
      "metadata": {
        "colab": {
          "base_uri": "https://localhost:8080/"
        },
        "id": "6te_adbnQB-j",
        "outputId": "cf76c09d-0002-41a0-fff1-5cbb7cc31a48"
      },
      "source": [
        "# 세토사인 붓꽃의 꽃받침길이\n",
        "data[data['품종']=='세토사']['꽃받침길이']"
      ],
      "execution_count": 6,
      "outputs": [
        {
          "output_type": "execute_result",
          "data": {
            "text/plain": [
              "0     5.1\n",
              "1     4.9\n",
              "2     4.7\n",
              "3     4.6\n",
              "4     5.0\n",
              "5     5.4\n",
              "6     4.6\n",
              "7     5.0\n",
              "8     4.4\n",
              "9     4.9\n",
              "10    5.4\n",
              "11    4.8\n",
              "12    4.8\n",
              "13    4.3\n",
              "14    5.8\n",
              "15    5.7\n",
              "16    5.4\n",
              "17    5.1\n",
              "18    5.7\n",
              "19    5.1\n",
              "20    5.4\n",
              "21    5.1\n",
              "22    4.6\n",
              "23    5.1\n",
              "24    4.8\n",
              "25    5.0\n",
              "26    5.0\n",
              "27    5.2\n",
              "28    5.2\n",
              "29    4.7\n",
              "30    4.8\n",
              "31    5.4\n",
              "32    5.2\n",
              "33    5.5\n",
              "34    4.9\n",
              "35    5.0\n",
              "36    5.5\n",
              "37    4.9\n",
              "38    4.4\n",
              "39    5.1\n",
              "40    5.0\n",
              "41    4.5\n",
              "42    4.4\n",
              "43    5.0\n",
              "44    5.1\n",
              "45    4.8\n",
              "46    5.1\n",
              "47    4.6\n",
              "48    5.3\n",
              "49    5.0\n",
              "Name: 꽃받침길이, dtype: float64"
            ]
          },
          "metadata": {
            "tags": []
          },
          "execution_count": 6
        }
      ]
    },
    {
      "cell_type": "code",
      "metadata": {
        "colab": {
          "base_uri": "https://localhost:8080/",
          "height": 269
        },
        "id": "qCRtycqGPDdz",
        "outputId": "2c4a9537-d014-4f21-a374-44291a7e4c79"
      },
      "source": [
        "# 세토사 산점도 그리기\n",
        "# x축은 세토사의 꽃받침길이, y축은 세토사의 꽃받침너비\n",
        "plt.scatter(data[data['품종']=='세토사']['꽃받침길이'], data[data['품종']=='세토사']['꽃받침너비'], color='indigo')\n",
        "plt.show()"
      ],
      "execution_count": 8,
      "outputs": [
        {
          "output_type": "display_data",
          "data": {
            "image/png": "[encoded data removed]",
            "text/plain": [
              "<Figure size 432x288 with 1 Axes>"
            ]
          },
          "metadata": {
            "tags": [],
            "needs_background": "light"
          }
        }
      ]
    },
    {
      "cell_type": "code",
      "metadata": {
        "colab": {
          "base_uri": "https://localhost:8080/",
          "height": 268
        },
        "id": "d2C3XdthPQoi",
        "outputId": "2114ebd1-76c5-417d-a23e-63281bd24033"
      },
      "source": [
        "plt.scatter(data[data['품종']=='세토사']['꽃받침길이'], data[data['품종']=='세토사']['꽃받침너비'], color='indigo')\n",
        "plt.scatter(data[data['품종']=='버시칼라']['꽃받침길이'], data[data['품종']=='버시칼라']['꽃받침너비'], color='crimson')\n",
        "plt.scatter(data[data['품종']=='버지니카']['꽃받침길이'], data[data['품종']=='버지니카']['꽃받침너비'], color='limegreen')\n",
        "\n",
        "plt.show()"
      ],
      "execution_count": 9,
      "outputs": [
        {
          "output_type": "display_data",
          "data": {
            "image/png": "[encoded data removed]",
            "text/plain": [
              "<Figure size 432x288 with 1 Axes>"
            ]
          },
          "metadata": {
            "tags": [],
            "needs_background": "light"
          }
        }
      ]
    },
    {
      "cell_type": "markdown",
      "metadata": {
        "id": "Qrkj31FBRv80"
      },
      "source": [
        "#### 5) 이번에는 꽃잎 길이가 x축, 꽃잎 너비가 y축인 산점도를 붓꽃 품종별로 그려보자. "
      ]
    },
    {
      "cell_type": "code",
      "metadata": {
        "colab": {
          "base_uri": "https://localhost:8080/",
          "height": 265
        },
        "id": "YwNMNQ3tPUgi",
        "outputId": "3bb2c09c-f8fe-4774-929b-41776888db8e"
      },
      "source": [
        "plt.scatter(data[data['품종']=='세토사']['꽃잎길이'], data[data['품종']=='세토사']['꽃잎너비'], color='indigo')\n",
        "plt.scatter(data[data['품종']=='버시칼라']['꽃잎길이'], data[data['품종']=='버시칼라']['꽃잎너비'], color='crimson')\n",
        "plt.scatter(data[data['품종']=='버지니카']['꽃잎길이'], data[data['품종']=='버지니카']['꽃잎너비'], color='limegreen')\n",
        "\n",
        "plt.show()"
      ],
      "execution_count": 10,
      "outputs": [
        {
          "output_type": "display_data",
          "data": {
            "image/png": "[encoded data removed]",
            "text/plain": [
              "<Figure size 432x288 with 1 Axes>"
            ]
          },
          "metadata": {
            "tags": [],
            "needs_background": "light"
          }
        }
      ]
    },
    {
      "cell_type": "markdown",
      "metadata": {
        "id": "Rj18jcj_R9kz"
      },
      "source": [
        "#### Q. 위 그래프는 붓꽃 품종 세 개를 잘 구분하나요? "
      ]
    },
    {
      "cell_type": "markdown",
      "metadata": {
        "id": "l8FbTguwIejM"
      },
      "source": [
        "# 4. 붓꽃의 품종을 구분하는 결정트리 만들어보기 \n",
        "\n",
        "#### 결정 트리 (Decision Tree)\n",
        "\n",
        "<br/><br/>\n",
        "<img src='https://blog.kakaocdn.net/dn/wlH1u/btqwWZI9Xen/kFJDjGSFJAPxhyatC3Xhs0/img.png' width=600>\n",
        "\n",
        "<br/><br/>\n",
        "\n",
        "<img src='https://wikidocs.net/images/page/34087/%EC%9D%98%EC%82%AC%EA%B2%B0%EC%A0%95%EB%82%98%EB%AC%B44.png' width=600>\n"
      ]
    },
    {
      "cell_type": "markdown",
      "metadata": {
        "id": "OQY5qiXMxGQT"
      },
      "source": [
        "#### 머신러닝 라이브러리 sklearn \n",
        "<img src='https://upload.wikimedia.org/wikipedia/commons/thumb/0/05/Scikit_learn_logo_small.svg/1200px-Scikit_learn_logo_small.svg.png' width = 400>\n",
        "\n",
        "\n",
        "* 머신러닝에는 다양한 알고리즘이 존재\n",
        "* 대부분의 머신러닝 알고리즘이 sklearn에 구현되어 있음\n",
        "* sklearn의 의사결정트리를 사용하여 인공지능 학습을 시키고, 예측을 수행해보자\n"
      ]
    },
    {
      "cell_type": "markdown",
      "metadata": {
        "id": "fL3cTUzvS13U"
      },
      "source": [
        "\n",
        "\n",
        "```\n",
        "# 의사결정트리 기능 포함시키기\n",
        "from sklearn.tree import DecisionTreeClassifier\n",
        "```\n",
        "\n"
      ]
    },
    {
      "cell_type": "code",
      "metadata": {
        "colab": {
          "base_uri": "https://localhost:8080/",
          "height": 408
        },
        "id": "tgZSiLJFUdDV",
        "outputId": "bdb5dc95-dc96-4da8-d904-4d5820222d4d"
      },
      "source": [
        "# data에서 꽃받침정보는 제외하고, 꽃잎 정보만 선택하여 학습시키기\n",
        "data.loc[ : , '꽃잎길이':'꽃잎너비']"
      ],
      "execution_count": 11,
      "outputs": [
        {
          "output_type": "execute_result",
          "data": {
            "text/html": [
              "<div>\n",
              "<style scoped>\n",
              "    .dataframe tbody tr th:only-of-type {\n",
              "        vertical-align: middle;\n",
              "    }\n",
              "\n",
              "    .dataframe tbody tr th {\n",
              "        vertical-align: top;\n",
              "    }\n",
              "\n",
              "    .dataframe thead th {\n",
              "        text-align: right;\n",
              "    }\n",
              "</style>\n",
              "<table border=\"1\" class=\"dataframe\">\n",
              "  <thead>\n",
              "    <tr style=\"text-align: right;\">\n",
              "      <th></th>\n",
              "      <th>꽃잎길이</th>\n",
              "      <th>꽃잎너비</th>\n",
              "    </tr>\n",
              "  </thead>\n",
              "  <tbody>\n",
              "    <tr>\n",
              "      <th>0</th>\n",
              "      <td>1.4</td>\n",
              "      <td>0.2</td>\n",
              "    </tr>\n",
              "    <tr>\n",
              "      <th>1</th>\n",
              "      <td>1.4</td>\n",
              "      <td>0.2</td>\n",
              "    </tr>\n",
              "    <tr>\n",
              "      <th>2</th>\n",
              "      <td>1.3</td>\n",
              "      <td>0.2</td>\n",
              "    </tr>\n",
              "    <tr>\n",
              "      <th>3</th>\n",
              "      <td>1.5</td>\n",
              "      <td>0.2</td>\n",
              "    </tr>\n",
              "    <tr>\n",
              "      <th>4</th>\n",
              "      <td>1.4</td>\n",
              "      <td>0.2</td>\n",
              "    </tr>\n",
              "    <tr>\n",
              "      <th>...</th>\n",
              "      <td>...</td>\n",
              "      <td>...</td>\n",
              "    </tr>\n",
              "    <tr>\n",
              "      <th>145</th>\n",
              "      <td>5.2</td>\n",
              "      <td>2.3</td>\n",
              "    </tr>\n",
              "    <tr>\n",
              "      <th>146</th>\n",
              "      <td>5.0</td>\n",
              "      <td>1.9</td>\n",
              "    </tr>\n",
              "    <tr>\n",
              "      <th>147</th>\n",
              "      <td>5.2</td>\n",
              "      <td>2.0</td>\n",
              "    </tr>\n",
              "    <tr>\n",
              "      <th>148</th>\n",
              "      <td>5.4</td>\n",
              "      <td>2.3</td>\n",
              "    </tr>\n",
              "    <tr>\n",
              "      <th>149</th>\n",
              "      <td>5.1</td>\n",
              "      <td>1.8</td>\n",
              "    </tr>\n",
              "  </tbody>\n",
              "</table>\n",
              "<p>150 rows × 2 columns</p>\n",
              "</div>"
            ],
            "text/plain": [
              "     꽃잎길이  꽃잎너비\n",
              "0     1.4   0.2\n",
              "1     1.4   0.2\n",
              "2     1.3   0.2\n",
              "3     1.5   0.2\n",
              "4     1.4   0.2\n",
              "..    ...   ...\n",
              "145   5.2   2.3\n",
              "146   5.0   1.9\n",
              "147   5.2   2.0\n",
              "148   5.4   2.3\n",
              "149   5.1   1.8\n",
              "\n",
              "[150 rows x 2 columns]"
            ]
          },
          "metadata": {
            "tags": []
          },
          "execution_count": 11
        }
      ]
    },
    {
      "cell_type": "code",
      "metadata": {
        "id": "jtsHHCGfR7NA"
      },
      "source": [
        "from sklearn.tree import DecisionTreeClassifier\n",
        "\n",
        "model = DecisionTreeClassifier(max_depth=2)"
      ],
      "execution_count": 12,
      "outputs": []
    },
    {
      "cell_type": "code",
      "metadata": {
        "colab": {
          "base_uri": "https://localhost:8080/"
        },
        "id": "G0aP9fLaTA2S",
        "outputId": "a4bb33dc-b4a0-42d2-9dbb-b706c991be2f"
      },
      "source": [
        "# 학습시키기 : 꽃잎길이, 꽃잎너비로 품종을 구분하게끔 학습시키기\n",
        "model.fit(data.loc[ : , '꽃잎길이':'꽃잎너비'], data['품종'])"
      ],
      "execution_count": 13,
      "outputs": [
        {
          "output_type": "execute_result",
          "data": {
            "text/plain": [
              "DecisionTreeClassifier(ccp_alpha=0.0, class_weight=None, criterion='gini',\n",
              "                       max_depth=2, max_features=None, max_leaf_nodes=None,\n",
              "                       min_impurity_decrease=0.0, min_impurity_split=None,\n",
              "                       min_samples_leaf=1, min_samples_split=2,\n",
              "                       min_weight_fraction_leaf=0.0, presort='deprecated',\n",
              "                       random_state=None, splitter='best')"
            ]
          },
          "metadata": {
            "tags": []
          },
          "execution_count": 13
        }
      ]
    },
    {
      "cell_type": "markdown",
      "metadata": {
        "id": "tg6wI5pOYl3r"
      },
      "source": [
        "인공지능이 만든 결정 트리 확인하기 \n",
        "\n",
        "```\n",
        "import graphviz\n",
        "from sklearn.tree import export_graphviz\n",
        "\n",
        "# 결정 트리를 시각화하여 tree.dot 파일로 내보내는 코드\n",
        "export_graphviz(model, out_file ='tree.dot',\n",
        "                feature_names = [학습데이터 속성명],    \n",
        "                class_names = [학습결과로 판단할 분류],\n",
        "                filled = True, rounded = True, impurity = False)\n",
        "\n",
        "# 위에서 만든 tree.dot을 화면에 보이게 하기\n",
        "with open(\"tree.dot\") as f:\n",
        "    dot_graph = f.read()\n",
        "display(graphviz.Source(dot_graph))\n",
        "```"
      ]
    },
    {
      "cell_type": "code",
      "metadata": {
        "colab": {
          "base_uri": "https://localhost:8080/",
          "height": 378
        },
        "id": "xfq6_qU6TODs",
        "outputId": "27131547-acf6-48bd-afe9-2e3b09a841f4"
      },
      "source": [
        "import graphviz\n",
        "from sklearn.tree import export_graphviz\n",
        " \n",
        "# 결정 트리를 시각화하여 tree.dot 파일로 내보내는 코드\n",
        "export_graphviz(model, out_file ='tree.dot',\n",
        "                feature_names = ['꽃잎 길이', '꽃잎 너비'],    \n",
        "                class_names = ['세토사','버시칼라','버지니카'],\n",
        "                filled = True, rounded = True, impurity = False)\n",
        " \n",
        "# 위에서 만든 tree.dot을 화면에 보이게 하기\n",
        "with open(\"tree.dot\") as f:\n",
        "    dot_graph = f.read()\n",
        "display(graphviz.Source(dot_graph))"
      ],
      "execution_count": 14,
      "outputs": [
        {
          "output_type": "display_data",
          "data": {
            "text/plain": [
              "<graphviz.files.Source at 0x7fd88046c550>"
            ],
            "image/svg+xml": "<?xml version=\"1.0\" encoding=\"UTF-8\" standalone=\"no\"?>\n<!DOCTYPE svg PUBLIC \"-//W3C//DTD SVG 1.1//EN\"\n \"http://www.w3.org/Graphics/SVG/1.1/DTD/svg11.dtd\">\n<!-- Generated by graphviz version 2.40.1 (20161225.0304)\n -->\n<!-- Title: Tree Pages: 1 -->\n<svg width=\"346pt\" height=\"269pt\"\n viewBox=\"0.00 0.00 346.00 269.00\" xmlns=\"http://www.w3.org/2000/svg\" xmlns:xlink=\"http://www.w3.org/1999/xlink\">\n<g id=\"graph0\" class=\"graph\" transform=\"scale(1 1) rotate(0) translate(4 265)\">\n<title>Tree</title>\n<polygon fill=\"#ffffff\" stroke=\"transparent\" points=\"-4,4 -4,-265 342,-265 342,4 -4,4\"/>\n<!-- 0 -->\n<g id=\"node1\" class=\"node\">\n<title>0</title>\n<path fill=\"#ffffff\" stroke=\"#000000\" d=\"M191.5,-261C191.5,-261 75.5,-261 75.5,-261 69.5,-261 63.5,-255 63.5,-249 63.5,-249 63.5,-205 63.5,-205 63.5,-199 69.5,-193 75.5,-193 75.5,-193 191.5,-193 191.5,-193 197.5,-193 203.5,-199 203.5,-205 203.5,-205 203.5,-249 203.5,-249 203.5,-255 197.5,-261 191.5,-261\"/>\n<text text-anchor=\"middle\" x=\"133.5\" y=\"-245.8\" font-family=\"Helvetica,sans-Serif\" font-size=\"14.00\" fill=\"#000000\">꽃잎 길이 &lt;= 2.45</text>\n<text text-anchor=\"middle\" x=\"133.5\" y=\"-230.8\" font-family=\"Helvetica,sans-Serif\" font-size=\"14.00\" fill=\"#000000\">samples = 150</text>\n<text text-anchor=\"middle\" x=\"133.5\" y=\"-215.8\" font-family=\"Helvetica,sans-Serif\" font-size=\"14.00\" fill=\"#000000\">value = [50, 50, 50]</text>\n<text text-anchor=\"middle\" x=\"133.5\" y=\"-200.8\" font-family=\"Helvetica,sans-Serif\" font-size=\"14.00\" fill=\"#000000\">class = 세토사</text>\n</g>\n<!-- 1 -->\n<g id=\"node2\" class=\"node\">\n<title>1</title>\n<path fill=\"#8139e5\" stroke=\"#000000\" d=\"M111,-149.5C111,-149.5 12,-149.5 12,-149.5 6,-149.5 0,-143.5 0,-137.5 0,-137.5 0,-108.5 0,-108.5 0,-102.5 6,-96.5 12,-96.5 12,-96.5 111,-96.5 111,-96.5 117,-96.5 123,-102.5 123,-108.5 123,-108.5 123,-137.5 123,-137.5 123,-143.5 117,-149.5 111,-149.5\"/>\n<text text-anchor=\"middle\" x=\"61.5\" y=\"-134.3\" font-family=\"Helvetica,sans-Serif\" font-size=\"14.00\" fill=\"#000000\">samples = 50</text>\n<text text-anchor=\"middle\" x=\"61.5\" y=\"-119.3\" font-family=\"Helvetica,sans-Serif\" font-size=\"14.00\" fill=\"#000000\">value = [0, 0, 50]</text>\n<text text-anchor=\"middle\" x=\"61.5\" y=\"-104.3\" font-family=\"Helvetica,sans-Serif\" font-size=\"14.00\" fill=\"#000000\">class = 버지니카</text>\n</g>\n<!-- 0&#45;&gt;1 -->\n<g id=\"edge1\" class=\"edge\">\n<title>0&#45;&gt;1</title>\n<path fill=\"none\" stroke=\"#000000\" d=\"M109.9245,-192.9465C102.1463,-181.7113 93.4861,-169.2021 85.6645,-157.9043\"/>\n<polygon fill=\"#000000\" stroke=\"#000000\" points=\"88.4452,-155.7719 79.8753,-149.5422 82.6898,-159.7564 88.4452,-155.7719\"/>\n<text text-anchor=\"middle\" x=\"75.4032\" y=\"-170.4389\" font-family=\"Helvetica,sans-Serif\" font-size=\"14.00\" fill=\"#000000\">True</text>\n</g>\n<!-- 2 -->\n<g id=\"node3\" class=\"node\">\n<title>2</title>\n<path fill=\"#ffffff\" stroke=\"#000000\" d=\"M260,-157C260,-157 153,-157 153,-157 147,-157 141,-151 141,-145 141,-145 141,-101 141,-101 141,-95 147,-89 153,-89 153,-89 260,-89 260,-89 266,-89 272,-95 272,-101 272,-101 272,-145 272,-145 272,-151 266,-157 260,-157\"/>\n<text text-anchor=\"middle\" x=\"206.5\" y=\"-141.8\" font-family=\"Helvetica,sans-Serif\" font-size=\"14.00\" fill=\"#000000\">꽃잎 너비 &lt;= 1.75</text>\n<text text-anchor=\"middle\" x=\"206.5\" y=\"-126.8\" font-family=\"Helvetica,sans-Serif\" font-size=\"14.00\" fill=\"#000000\">samples = 100</text>\n<text text-anchor=\"middle\" x=\"206.5\" y=\"-111.8\" font-family=\"Helvetica,sans-Serif\" font-size=\"14.00\" fill=\"#000000\">value = [50, 50, 0]</text>\n<text text-anchor=\"middle\" x=\"206.5\" y=\"-96.8\" font-family=\"Helvetica,sans-Serif\" font-size=\"14.00\" fill=\"#000000\">class = 세토사</text>\n</g>\n<!-- 0&#45;&gt;2 -->\n<g id=\"edge2\" class=\"edge\">\n<title>0&#45;&gt;2</title>\n<path fill=\"none\" stroke=\"#000000\" d=\"M157.4029,-192.9465C163.5791,-184.1475 170.3038,-174.5672 176.739,-165.3993\"/>\n<polygon fill=\"#000000\" stroke=\"#000000\" points=\"179.6629,-167.3258 182.5434,-157.13 173.9334,-163.3041 179.6629,-167.3258\"/>\n<text text-anchor=\"middle\" x=\"186.8563\" y=\"-178.0552\" font-family=\"Helvetica,sans-Serif\" font-size=\"14.00\" fill=\"#000000\">False</text>\n</g>\n<!-- 3 -->\n<g id=\"node4\" class=\"node\">\n<title>3</title>\n<path fill=\"#e88e4d\" stroke=\"#000000\" d=\"M185,-53C185,-53 86,-53 86,-53 80,-53 74,-47 74,-41 74,-41 74,-12 74,-12 74,-6 80,0 86,0 86,0 185,0 185,0 191,0 197,-6 197,-12 197,-12 197,-41 197,-41 197,-47 191,-53 185,-53\"/>\n<text text-anchor=\"middle\" x=\"135.5\" y=\"-37.8\" font-family=\"Helvetica,sans-Serif\" font-size=\"14.00\" fill=\"#000000\">samples = 54</text>\n<text text-anchor=\"middle\" x=\"135.5\" y=\"-22.8\" font-family=\"Helvetica,sans-Serif\" font-size=\"14.00\" fill=\"#000000\">value = [49, 5, 0]</text>\n<text text-anchor=\"middle\" x=\"135.5\" y=\"-7.8\" font-family=\"Helvetica,sans-Serif\" font-size=\"14.00\" fill=\"#000000\">class = 세토사</text>\n</g>\n<!-- 2&#45;&gt;3 -->\n<g id=\"edge3\" class=\"edge\">\n<title>2&#45;&gt;3</title>\n<path fill=\"none\" stroke=\"#000000\" d=\"M181.4681,-88.9777C174.9329,-80.0954 167.878,-70.5067 161.3036,-61.5711\"/>\n<polygon fill=\"#000000\" stroke=\"#000000\" points=\"163.9257,-59.229 155.1802,-53.2485 158.2874,-63.3775 163.9257,-59.229\"/>\n</g>\n<!-- 4 -->\n<g id=\"node5\" class=\"node\">\n<title>4</title>\n<path fill=\"#3de684\" stroke=\"#000000\" d=\"M326,-53C326,-53 227,-53 227,-53 221,-53 215,-47 215,-41 215,-41 215,-12 215,-12 215,-6 221,0 227,0 227,0 326,0 326,0 332,0 338,-6 338,-12 338,-12 338,-41 338,-41 338,-47 332,-53 326,-53\"/>\n<text text-anchor=\"middle\" x=\"276.5\" y=\"-37.8\" font-family=\"Helvetica,sans-Serif\" font-size=\"14.00\" fill=\"#000000\">samples = 46</text>\n<text text-anchor=\"middle\" x=\"276.5\" y=\"-22.8\" font-family=\"Helvetica,sans-Serif\" font-size=\"14.00\" fill=\"#000000\">value = [1, 45, 0]</text>\n<text text-anchor=\"middle\" x=\"276.5\" y=\"-7.8\" font-family=\"Helvetica,sans-Serif\" font-size=\"14.00\" fill=\"#000000\">class = 버시칼라</text>\n</g>\n<!-- 2&#45;&gt;4 -->\n<g id=\"edge4\" class=\"edge\">\n<title>2&#45;&gt;4</title>\n<path fill=\"none\" stroke=\"#000000\" d=\"M231.1794,-88.9777C237.6225,-80.0954 244.578,-70.5067 251.0598,-61.5711\"/>\n<polygon fill=\"#000000\" stroke=\"#000000\" points=\"254.0583,-63.3982 257.097,-53.2485 248.3921,-59.288 254.0583,-63.3982\"/>\n</g>\n</g>\n</svg>\n"
          },
          "metadata": {
            "tags": []
          }
        }
      ]
    },
    {
      "cell_type": "markdown",
      "metadata": {
        "id": "K5Gwsb1HZBHr"
      },
      "source": [
        "### 위에서 작성했던 꽃잎길이-꽃잎너비 그래프에 분류하는 선 그려보기\n",
        "\n",
        "<img src='https://github.com/Ahnjihye/2021-AI-class/blob/images/%EC%9D%B4%EB%AF%B8%EC%A7%80%20025.png?raw=true' width=800>\n",
        "\n",
        "1.   첫번째 기준 꽃잎길이 <= 2.45\n",
        "<img src='https://github.com/Ahnjihye/2021-AI-class/blob/images/%EC%9D%B4%EB%AF%B8%EC%A7%80%20026.png?raw=true' width=800>\n",
        "\n",
        "2.   두번째 기준 꽃잎 너비 <= 1.75\n",
        "<img src='https://github.com/Ahnjihye/2021-AI-class/blob/images/%EC%9D%B4%EB%AF%B8%EC%A7%80%20027.png?raw=true' width=800>\n",
        "\n",
        "\n",
        "\n",
        "\n",
        "\n"
      ]
    },
    {
      "cell_type": "code",
      "metadata": {
        "id": "1sQorZnAZE7N"
      },
      "source": [
        ""
      ],
      "execution_count": null,
      "outputs": []
    }
  ]
}