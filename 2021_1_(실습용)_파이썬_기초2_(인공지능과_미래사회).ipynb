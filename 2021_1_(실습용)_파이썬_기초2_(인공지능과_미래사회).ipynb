{
  "nbformat": 4,
  "nbformat_minor": 0,
  "metadata": {
    "colab": {
      "name": "2021-1-(실습용)-파이썬 기초2 (인공지능과 미래사회).ipynb",
      "provenance": [],
      "collapsed_sections": [],
      "authorship_tag": "ABX9TyMHd60Mf+Z2lAK2Wh2CIQkI",
      "include_colab_link": true
    },
    "kernelspec": {
      "name": "python3",
      "display_name": "Python 3"
    },
    "language_info": {
      "name": "python"
    }
  },
  "cells": [
    {
      "cell_type": "markdown",
      "metadata": {
        "id": "view-in-github",
        "colab_type": "text"
      },
      "source": [
        "<a href=\"https://colab.research.google.com/github/Ahnjihye/2021-AI-class/blob/main/2021_1_(%EC%8B%A4%EC%8A%B5%EC%9A%A9)_%ED%8C%8C%EC%9D%B4%EC%8D%AC_%EA%B8%B0%EC%B4%882_(%EC%9D%B8%EA%B3%B5%EC%A7%80%EB%8A%A5%EA%B3%BC_%EB%AF%B8%EB%9E%98%EC%82%AC%ED%9A%8C).ipynb\" target=\"_parent\"><img src=\"https://colab.research.google.com/assets/colab-badge.svg\" alt=\"Open In Colab\"/></a>"
      ]
    },
    {
      "cell_type": "markdown",
      "metadata": {
        "id": "V1qdZa0ljBQz"
      },
      "source": [
        "# 4. 변수\n",
        "\n",
        "\n",
        "> 변수이름 = 저장할 데이터\n",
        "\n",
        "\n",
        "<img src = 'https://github.com/Ahnjihye/allinone_AI/blob/images/%E1%84%87%E1%85%A7%E1%86%AB%E1%84%89%E1%85%AE%E1%84%8B%E1%85%B5%E1%84%86%E1%85%B5%E1%84%8C%E1%85%B5.png?raw=true' width =500>\n",
        "\n",
        "\n"
      ]
    },
    {
      "cell_type": "code",
      "metadata": {
        "id": "qGjujI1abo3T"
      },
      "source": [
        ""
      ],
      "execution_count": null,
      "outputs": []
    },
    {
      "cell_type": "code",
      "metadata": {
        "id": "xuAWxMcSPCCH"
      },
      "source": [
        ""
      ],
      "execution_count": null,
      "outputs": []
    },
    {
      "cell_type": "code",
      "metadata": {
        "id": "9d4QKvR6bo5d"
      },
      "source": [
        ""
      ],
      "execution_count": null,
      "outputs": []
    },
    {
      "cell_type": "code",
      "metadata": {
        "id": "egu4zLhuPXzC"
      },
      "source": [
        ""
      ],
      "execution_count": null,
      "outputs": []
    },
    {
      "cell_type": "markdown",
      "metadata": {
        "id": "YrIAYo4nP3wW"
      },
      "source": [
        "### 변수를 활용하여 연산하기 \n",
        "1) 과일 가격 계산하기"
      ]
    },
    {
      "cell_type": "code",
      "metadata": {
        "id": "gN7pzv5jbo-B"
      },
      "source": [
        ""
      ],
      "execution_count": null,
      "outputs": []
    },
    {
      "cell_type": "code",
      "metadata": {
        "id": "YY_1rgwNbpAe"
      },
      "source": [
        "# 사과 3개, 바나나1개, 키위2개 구매한 가격은?\n"
      ],
      "execution_count": null,
      "outputs": []
    },
    {
      "cell_type": "code",
      "metadata": {
        "id": "kAnHKPxlnUMO"
      },
      "source": [
        ""
      ],
      "execution_count": null,
      "outputs": []
    },
    {
      "cell_type": "markdown",
      "metadata": {
        "id": "XTITfZwoisIu"
      },
      "source": [
        "vip는 20% 할인된다. 동일한 물건을 구매했을 때 vip가 내는 가격을 새로운 변수(vip_price)에 저장하여 출력하기"
      ]
    },
    {
      "cell_type": "code",
      "metadata": {
        "id": "A7bhHZu-nnE_"
      },
      "source": [
        ""
      ],
      "execution_count": null,
      "outputs": []
    },
    {
      "cell_type": "code",
      "metadata": {
        "id": "I5UtDtRgnwk8"
      },
      "source": [
        ""
      ],
      "execution_count": null,
      "outputs": []
    },
    {
      "cell_type": "code",
      "metadata": {
        "id": "JeDRPK_Jyp_g"
      },
      "source": [
        ""
      ],
      "execution_count": null,
      "outputs": []
    },
    {
      "cell_type": "markdown",
      "metadata": {
        "id": "IgU4y4cdCo3v"
      },
      "source": [
        "#  5. 조건문 if\n",
        "\n",
        "**조건문 : 조건을 충족할 때에만 선택적으로 실행되는 명령어**\n",
        "</br>\n",
        "**=선택구조**\n",
        "</br>\n",
        "\n",
        "\n",
        "```\n",
        "조건 A를 충족할 때에만\n",
        "B해라\n",
        "\n",
        "ex. 성인일 때에만 주류를 판매해라 \n",
        "```\n",
        "\n",
        "<img src = 'https://github.com/Ahnjihye/allinone_AI/blob/images/71_if.png?raw=true' width=500>\n",
        "\n"
      ]
    },
    {
      "cell_type": "code",
      "metadata": {
        "id": "MkpSM5DyCp78"
      },
      "source": [
        "age = 20\n",
        "\n",
        "# 만약 미성년자라면 술을 구매할 수 없다고 출력\n",
        "\n"
      ],
      "execution_count": null,
      "outputs": []
    },
    {
      "cell_type": "markdown",
      "metadata": {
        "id": "fn3FlsHEYSiA"
      },
      "source": [
        "<img src = 'https://github.com/Ahnjihye/allinone_AI/blob/images/10_%EC%84%A0%ED%83%9D%EA%B5%AC%EC%A1%B0%20%EB%8F%99%EC%9E%91%EC%9B%90%EB%A6%AC.png?raw=true' width =800>"
      ]
    },
    {
      "cell_type": "markdown",
      "metadata": {
        "id": "iIllPy22YGxI"
      },
      "source": [
        "> 조건문에서는 들여쓰기를 조심하세요!\n",
        "</br>\n",
        "<img src ='https://github.com/Ahnjihye/allinone_AI/blob/images/10_%EC%84%A0%ED%83%9D%EA%B5%AC%EC%A1%B0%20%EB%93%A4%EC%97%AC%EC%93%B0%EA%B8%B0%20png.png?raw=true' width=200>"
      ]
    },
    {
      "cell_type": "markdown",
      "metadata": {
        "id": "vpkrmOpKIurV"
      },
      "source": [
        "## 실습 \n",
        "물건이 오만원 미만일 경우 배송비 2500원을 더해서 결제금액을 안내하시오. "
      ]
    },
    {
      "cell_type": "code",
      "metadata": {
        "id": "F0zdyUHuCp_5"
      },
      "source": [
        "price = 30000\n",
        "\n",
        "# ------ 무료배송 코드 작성하기 --------\n",
        "\n",
        "\n",
        "# ---------------------------------------\n",
        "\n",
        "print('총 결제금액은',price)"
      ],
      "execution_count": null,
      "outputs": []
    },
    {
      "cell_type": "markdown",
      "metadata": {
        "id": "A5d31d8QYY3s"
      },
      "source": [
        "## 조건을 만드는 비교연산자\n",
        "\n",
        "a와 b가 같다면\n",
        "> if a == b :      \n",
        "\n",
        "</br>\n",
        "\n",
        "a와 b가 같지 않다면\n",
        "\n",
        "> if a != b :   \n",
        "\n",
        "</br>\n",
        "</br>\n",
        "\n",
        "a가 b보다 크다면\n",
        "> if a > b :     \n",
        "\n",
        "a가 b보다 크거나 같다면 \n",
        "> if a >= b :      \n",
        "\n",
        "a가 b보다 작다면\n",
        "> if a < b :        \n",
        "\n",
        "a가 b보다 작거나 같다면\n",
        "> if a <= b :      \n"
      ]
    },
    {
      "cell_type": "markdown",
      "metadata": {
        "id": "kLlhbmxaU5Br"
      },
      "source": [
        "자동 출석 시스템\n",
        "\n",
        "<br/>\n",
        "변수 check에 저장된 값이 출석이면 O을 출력, 결석이면 X를 출력하는 코드 작성하기 "
      ]
    },
    {
      "cell_type": "code",
      "metadata": {
        "id": "7TAwKdmcTpUu"
      },
      "source": [
        "check = \n",
        "\n",
        "# ------ 자동 출석 시스템 코드 작성하기 --------\n",
        "\n",
        "\n",
        "\n",
        "# ---------------------------------------\n"
      ],
      "execution_count": null,
      "outputs": []
    },
    {
      "cell_type": "markdown",
      "metadata": {
        "id": "fyDzma6N0VRw"
      },
      "source": [
        "## 스마트 에어컨 자동조절 시스템\n",
        "<br/>\n",
        "temp는 온도를 저장하는 변수다. temp가 26.5도 이하라면 temp를 1 증가시켜 다시 저장하고, temp가 26.5 초과라면 temp를 1 감소시켜 다시 저장한다. "
      ]
    },
    {
      "cell_type": "code",
      "metadata": {
        "id": "qspwNsCy0VRy"
      },
      "source": [
        "temp = \n",
        "\n",
        "# ------ 자동온도 조절 코드 작성하기 --------\n",
        "\n",
        "\n",
        "\n",
        "\n",
        "# ---------------------------------------\n",
        "print('현재온도 :', temp)"
      ],
      "execution_count": null,
      "outputs": []
    }
  ]
}