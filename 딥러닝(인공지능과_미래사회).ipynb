{
  "nbformat": 4,
  "nbformat_minor": 0,
  "metadata": {
    "colab": {
      "name": "2021_2_(수행완성본)_딥러닝(인공지능과_미래사회).ipynb",
      "provenance": [],
      "collapsed_sections": [],
      "authorship_tag": "ABX9TyPMPX8eOlKuDQQFW9CPq6xD",
      "include_colab_link": true
    },
    "kernelspec": {
      "name": "python3",
      "display_name": "Python 3"
    },
    "language_info": {
      "name": "python"
    }
  },
  "cells": [
    {
      "cell_type": "markdown",
      "metadata": {
        "id": "view-in-github",
        "colab_type": "text"
      },
      "source": [
        "<a href=\"https://colab.research.google.com/github/teacher-jiejie/2021-AI-class/blob/images/%EB%94%A5%EB%9F%AC%EB%8B%9D(%EC%9D%B8%EA%B3%B5%EC%A7%80%EB%8A%A5%EA%B3%BC_%EB%AF%B8%EB%9E%98%EC%82%AC%ED%9A%8C).ipynb\" target=\"_parent\"><img src=\"https://colab.research.google.com/assets/colab-badge.svg\" alt=\"Open In Colab\"/></a>"
      ]
    },
    {
      "cell_type": "markdown",
      "metadata": {
        "id": "Mrvi0__3ziru"
      },
      "source": [
        "# 2. 딥러닝의 기본단위 : 퍼셉트론(Perceptron)\n",
        "\n",
        "퍼셉트론 = 인간의 신경 세포 뉴런과 유사한 형태\n",
        "\n",
        "\n",
        "<img src='https://miro.medium.com/proxy/1*3UpdymQx-C1tBKRnfD7eOg.gif'>\n",
        "\n",
        "<br/>\n",
        "<br/>\n"
      ]
    },
    {
      "cell_type": "markdown",
      "metadata": {
        "id": "RCByDFm-5cgg"
      },
      "source": [
        "# 3. 단층 퍼셉트론과 다층 퍼셉트론\n",
        "\n",
        "<img src='https://github.com/Ahnjihye/2021-AI-class/blob/images/%EB%94%A5%EB%9F%AC%EB%8B%9D%20017.png?raw=true' width=800>\n",
        "\n",
        "\n",
        "\n",
        "*   단층 퍼셉트론은 입력층 - 출력층만 있는 형태\n",
        "*   다층 퍼셉트론은 입력측 - 은닉층 - 출력층이 있는 형태 \n",
        "\n",
        "<br/>\n",
        "\n",
        "\n",
        "\n"
      ]
    },
    {
      "cell_type": "markdown",
      "metadata": {
        "id": "_IZmu1nvMfOU"
      },
      "source": [
        "## 인간의 손글씨 인식시켜보기\n",
        "\n",
        "### 손글씨 이미지 구성 - MNIST \n",
        "- 손글씨 이미지 0부터 9까지 총10개 \n",
        "- 손글씨 0~9 = 총 10개 * 각 600개 = 총 60000개\n",
        "- 학습 데이터 60000개, 테스트 데이터 10000개로 구성\n",
        "- 0~9까지의 숫자 이미지를 구분하는 것은 회귀인가? 분류인가?\n",
        "- 각 숫자 이미지는 28 pixel * 28 pixel  \n",
        "\n",
        "<br/>\n",
        "<img src = \"https://korchris.github.io/images/overview_mnist.png\" width=500> \n",
        "<img src = 'https://encrypted-tbn0.gstatic.com/images?q=tbn%3AANd9GcRiYU_Wf8GiLoaAXWiCdJHm87IWjpOfTClkwg&usqp=CAU' width=200>\n"
      ]
    },
    {
      "cell_type": "markdown",
      "metadata": {
        "id": "NZIBZlE6Mw_9"
      },
      "source": [
        "## 1) 데이터 로드\n",
        "\n",
        "\n",
        "```\n",
        "from keras.datasets import mnist\n",
        "\n",
        "(data_x, data_y), (test_x, test_y) = mnist.load_data()\n",
        "```\n",
        "\n"
      ]
    },
    {
      "cell_type": "code",
      "metadata": {
        "id": "uijmJQc-xXxx",
        "colab": {
          "base_uri": "https://localhost:8080/"
        },
        "outputId": "c0ecc1da-8702-4501-c8af-702603028e28"
      },
      "source": [
        "# step 1 \n",
        "from keras.datasets import mnist\n",
        " \n",
        "(data_x, data_y), (test_x, test_y) = mnist.load_data()"
      ],
      "execution_count": null,
      "outputs": [
        {
          "output_type": "stream",
          "text": [
            "Downloading data from https://storage.googleapis.com/tensorflow/tf-keras-datasets/mnist.npz\n",
            "11493376/11490434 [==============================] - 0s 0us/step\n",
            "11501568/11490434 [==============================] - 0s 0us/step\n"
          ],
          "name": "stdout"
        }
      ]
    },
    {
      "cell_type": "markdown",
      "metadata": {
        "id": "y0Ul6NvbNLT9"
      },
      "source": [
        "\n",
        "위 코드를 실행하면\n",
        "\n",
        "*   data_x에는 784개의 픽셀값(이미지)이 자동으로 저장됨\n",
        "*   data_y에는 해당 이미지의 숫자(0~9 중 하나)가 저장됨\n"
      ]
    },
    {
      "cell_type": "code",
      "metadata": {
        "id": "qDxxwm4mNCms",
        "colab": {
          "base_uri": "https://localhost:8080/"
        },
        "outputId": "75074d46-5efe-441b-b0eb-aaddb9bd5d4e"
      },
      "source": [
        "# step 2\n",
        "# 첫번째 숫자 이미지 살펴보기\n",
        "print(data_x[0] )"
      ],
      "execution_count": null,
      "outputs": [
        {
          "output_type": "stream",
          "text": [
            "[[  0   0   0   0   0   0   0   0   0   0   0   0   0   0   0   0   0   0\n",
            "    0   0   0   0   0   0   0   0   0   0]\n",
            " [  0   0   0   0   0   0   0   0   0   0   0   0   0   0   0   0   0   0\n",
            "    0   0   0   0   0   0   0   0   0   0]\n",
            " [  0   0   0   0   0   0   0   0   0   0   0   0   0   0   0   0   0   0\n",
            "    0   0   0   0   0   0   0   0   0   0]\n",
            " [  0   0   0   0   0   0   0   0   0   0   0   0   0   0   0   0   0   0\n",
            "    0   0   0   0   0   0   0   0   0   0]\n",
            " [  0   0   0   0   0   0   0   0   0   0   0   0   0   0   0   0   0   0\n",
            "    0   0   0   0   0   0   0   0   0   0]\n",
            " [  0   0   0   0   0   0   0   0   0   0   0   0   3  18  18  18 126 136\n",
            "  175  26 166 255 247 127   0   0   0   0]\n",
            " [  0   0   0   0   0   0   0   0  30  36  94 154 170 253 253 253 253 253\n",
            "  225 172 253 242 195  64   0   0   0   0]\n",
            " [  0   0   0   0   0   0   0  49 238 253 253 253 253 253 253 253 253 251\n",
            "   93  82  82  56  39   0   0   0   0   0]\n",
            " [  0   0   0   0   0   0   0  18 219 253 253 253 253 253 198 182 247 241\n",
            "    0   0   0   0   0   0   0   0   0   0]\n",
            " [  0   0   0   0   0   0   0   0  80 156 107 253 253 205  11   0  43 154\n",
            "    0   0   0   0   0   0   0   0   0   0]\n",
            " [  0   0   0   0   0   0   0   0   0  14   1 154 253  90   0   0   0   0\n",
            "    0   0   0   0   0   0   0   0   0   0]\n",
            " [  0   0   0   0   0   0   0   0   0   0   0 139 253 190   2   0   0   0\n",
            "    0   0   0   0   0   0   0   0   0   0]\n",
            " [  0   0   0   0   0   0   0   0   0   0   0  11 190 253  70   0   0   0\n",
            "    0   0   0   0   0   0   0   0   0   0]\n",
            " [  0   0   0   0   0   0   0   0   0   0   0   0  35 241 225 160 108   1\n",
            "    0   0   0   0   0   0   0   0   0   0]\n",
            " [  0   0   0   0   0   0   0   0   0   0   0   0   0  81 240 253 253 119\n",
            "   25   0   0   0   0   0   0   0   0   0]\n",
            " [  0   0   0   0   0   0   0   0   0   0   0   0   0   0  45 186 253 253\n",
            "  150  27   0   0   0   0   0   0   0   0]\n",
            " [  0   0   0   0   0   0   0   0   0   0   0   0   0   0   0  16  93 252\n",
            "  253 187   0   0   0   0   0   0   0   0]\n",
            " [  0   0   0   0   0   0   0   0   0   0   0   0   0   0   0   0   0 249\n",
            "  253 249  64   0   0   0   0   0   0   0]\n",
            " [  0   0   0   0   0   0   0   0   0   0   0   0   0   0  46 130 183 253\n",
            "  253 207   2   0   0   0   0   0   0   0]\n",
            " [  0   0   0   0   0   0   0   0   0   0   0   0  39 148 229 253 253 253\n",
            "  250 182   0   0   0   0   0   0   0   0]\n",
            " [  0   0   0   0   0   0   0   0   0   0  24 114 221 253 253 253 253 201\n",
            "   78   0   0   0   0   0   0   0   0   0]\n",
            " [  0   0   0   0   0   0   0   0  23  66 213 253 253 253 253 198  81   2\n",
            "    0   0   0   0   0   0   0   0   0   0]\n",
            " [  0   0   0   0   0   0  18 171 219 253 253 253 253 195  80   9   0   0\n",
            "    0   0   0   0   0   0   0   0   0   0]\n",
            " [  0   0   0   0  55 172 226 253 253 253 253 244 133  11   0   0   0   0\n",
            "    0   0   0   0   0   0   0   0   0   0]\n",
            " [  0   0   0   0 136 253 253 253 212 135 132  16   0   0   0   0   0   0\n",
            "    0   0   0   0   0   0   0   0   0   0]\n",
            " [  0   0   0   0   0   0   0   0   0   0   0   0   0   0   0   0   0   0\n",
            "    0   0   0   0   0   0   0   0   0   0]\n",
            " [  0   0   0   0   0   0   0   0   0   0   0   0   0   0   0   0   0   0\n",
            "    0   0   0   0   0   0   0   0   0   0]\n",
            " [  0   0   0   0   0   0   0   0   0   0   0   0   0   0   0   0   0   0\n",
            "    0   0   0   0   0   0   0   0   0   0]]\n"
          ],
          "name": "stdout"
        }
      ]
    },
    {
      "cell_type": "markdown",
      "metadata": {
        "id": "sZShJ8AjODBn"
      },
      "source": [
        "조금 더 예쁘게 출력해보자!\n",
        "\n",
        "```\n",
        "# 숫자 하나마다 탭 길이만큼 공백을 주어 출력하는 코드\n",
        "\n",
        "import sys\n",
        "\n",
        "for x in 숫자이미지 :\n",
        "    for i in x:\n",
        "        sys.stdout.write('%d\\t' % i)\n",
        "    sys.stdout.write('\\n')\n",
        "```"
      ]
    },
    {
      "cell_type": "code",
      "metadata": {
        "id": "-hhogY5-OCcf",
        "colab": {
          "base_uri": "https://localhost:8080/"
        },
        "outputId": "ae01eedd-409f-496c-dd8e-27562b611123"
      },
      "source": [
        "# step 3\n",
        "import sys\n",
        " \n",
        "for x in data_x[0] :\n",
        "    for i in x:\n",
        "        sys.stdout.write('%d\\t' % i)\n",
        "    sys.stdout.write('\\n')"
      ],
      "execution_count": null,
      "outputs": [
        {
          "output_type": "stream",
          "text": [
            "0\t0\t0\t0\t0\t0\t0\t0\t0\t0\t0\t0\t0\t0\t0\t0\t0\t0\t0\t0\t0\t0\t0\t0\t0\t0\t0\t0\t\n",
            "0\t0\t0\t0\t0\t0\t0\t0\t0\t0\t0\t0\t0\t0\t0\t0\t0\t0\t0\t0\t0\t0\t0\t0\t0\t0\t0\t0\t\n",
            "0\t0\t0\t0\t0\t0\t0\t0\t0\t0\t0\t0\t0\t0\t0\t0\t0\t0\t0\t0\t0\t0\t0\t0\t0\t0\t0\t0\t\n",
            "0\t0\t0\t0\t0\t0\t0\t0\t0\t0\t0\t0\t0\t0\t0\t0\t0\t0\t0\t0\t0\t0\t0\t0\t0\t0\t0\t0\t\n",
            "0\t0\t0\t0\t0\t0\t0\t0\t0\t0\t0\t0\t0\t0\t0\t0\t0\t0\t0\t0\t0\t0\t0\t0\t0\t0\t0\t0\t\n",
            "0\t0\t0\t0\t0\t0\t0\t0\t0\t0\t0\t0\t3\t18\t18\t18\t126\t136\t175\t26\t166\t255\t247\t127\t0\t0\t0\t0\t\n",
            "0\t0\t0\t0\t0\t0\t0\t0\t30\t36\t94\t154\t170\t253\t253\t253\t253\t253\t225\t172\t253\t242\t195\t64\t0\t0\t0\t0\t\n",
            "0\t0\t0\t0\t0\t0\t0\t49\t238\t253\t253\t253\t253\t253\t253\t253\t253\t251\t93\t82\t82\t56\t39\t0\t0\t0\t0\t0\t\n",
            "0\t0\t0\t0\t0\t0\t0\t18\t219\t253\t253\t253\t253\t253\t198\t182\t247\t241\t0\t0\t0\t0\t0\t0\t0\t0\t0\t0\t\n",
            "0\t0\t0\t0\t0\t0\t0\t0\t80\t156\t107\t253\t253\t205\t11\t0\t43\t154\t0\t0\t0\t0\t0\t0\t0\t0\t0\t0\t\n",
            "0\t0\t0\t0\t0\t0\t0\t0\t0\t14\t1\t154\t253\t90\t0\t0\t0\t0\t0\t0\t0\t0\t0\t0\t0\t0\t0\t0\t\n",
            "0\t0\t0\t0\t0\t0\t0\t0\t0\t0\t0\t139\t253\t190\t2\t0\t0\t0\t0\t0\t0\t0\t0\t0\t0\t0\t0\t0\t\n",
            "0\t0\t0\t0\t0\t0\t0\t0\t0\t0\t0\t11\t190\t253\t70\t0\t0\t0\t0\t0\t0\t0\t0\t0\t0\t0\t0\t0\t\n",
            "0\t0\t0\t0\t0\t0\t0\t0\t0\t0\t0\t0\t35\t241\t225\t160\t108\t1\t0\t0\t0\t0\t0\t0\t0\t0\t0\t0\t\n",
            "0\t0\t0\t0\t0\t0\t0\t0\t0\t0\t0\t0\t0\t81\t240\t253\t253\t119\t25\t0\t0\t0\t0\t0\t0\t0\t0\t0\t\n",
            "0\t0\t0\t0\t0\t0\t0\t0\t0\t0\t0\t0\t0\t0\t45\t186\t253\t253\t150\t27\t0\t0\t0\t0\t0\t0\t0\t0\t\n",
            "0\t0\t0\t0\t0\t0\t0\t0\t0\t0\t0\t0\t0\t0\t0\t16\t93\t252\t253\t187\t0\t0\t0\t0\t0\t0\t0\t0\t\n",
            "0\t0\t0\t0\t0\t0\t0\t0\t0\t0\t0\t0\t0\t0\t0\t0\t0\t249\t253\t249\t64\t0\t0\t0\t0\t0\t0\t0\t\n",
            "0\t0\t0\t0\t0\t0\t0\t0\t0\t0\t0\t0\t0\t0\t46\t130\t183\t253\t253\t207\t2\t0\t0\t0\t0\t0\t0\t0\t\n",
            "0\t0\t0\t0\t0\t0\t0\t0\t0\t0\t0\t0\t39\t148\t229\t253\t253\t253\t250\t182\t0\t0\t0\t0\t0\t0\t0\t0\t\n",
            "0\t0\t0\t0\t0\t0\t0\t0\t0\t0\t24\t114\t221\t253\t253\t253\t253\t201\t78\t0\t0\t0\t0\t0\t0\t0\t0\t0\t\n",
            "0\t0\t0\t0\t0\t0\t0\t0\t23\t66\t213\t253\t253\t253\t253\t198\t81\t2\t0\t0\t0\t0\t0\t0\t0\t0\t0\t0\t\n",
            "0\t0\t0\t0\t0\t0\t18\t171\t219\t253\t253\t253\t253\t195\t80\t9\t0\t0\t0\t0\t0\t0\t0\t0\t0\t0\t0\t0\t\n",
            "0\t0\t0\t0\t55\t172\t226\t253\t253\t253\t253\t244\t133\t11\t0\t0\t0\t0\t0\t0\t0\t0\t0\t0\t0\t0\t0\t0\t\n",
            "0\t0\t0\t0\t136\t253\t253\t253\t212\t135\t132\t16\t0\t0\t0\t0\t0\t0\t0\t0\t0\t0\t0\t0\t0\t0\t0\t0\t\n",
            "0\t0\t0\t0\t0\t0\t0\t0\t0\t0\t0\t0\t0\t0\t0\t0\t0\t0\t0\t0\t0\t0\t0\t0\t0\t0\t0\t0\t\n",
            "0\t0\t0\t0\t0\t0\t0\t0\t0\t0\t0\t0\t0\t0\t0\t0\t0\t0\t0\t0\t0\t0\t0\t0\t0\t0\t0\t0\t\n",
            "0\t0\t0\t0\t0\t0\t0\t0\t0\t0\t0\t0\t0\t0\t0\t0\t0\t0\t0\t0\t0\t0\t0\t0\t0\t0\t0\t0\t\n"
          ],
          "name": "stdout"
        }
      ]
    },
    {
      "cell_type": "code",
      "metadata": {
        "id": "Z2HR-Q2fN_QS",
        "colab": {
          "base_uri": "https://localhost:8080/"
        },
        "outputId": "2dd15d07-bac0-47ee-a3b1-421d74221f0c"
      },
      "source": [
        "# step 4\n",
        "# 첫번째 이미지에 해당하는 숫자는? \n",
        "print( data_y[0] )"
      ],
      "execution_count": null,
      "outputs": [
        {
          "output_type": "stream",
          "text": [
            "5\n"
          ],
          "name": "stdout"
        }
      ]
    },
    {
      "cell_type": "markdown",
      "metadata": {
        "id": "AAJpV2WkOURN"
      },
      "source": [
        "0~255까지의 숫자로 구성된 파일을 흑백 이미지로 보여주기 \n",
        "\n",
        "```\n",
        "import matplotlib.pyplot as plt\n",
        "\n",
        "plt.imshow(숫자리스트, cmap='gray') \n",
        "plt.show()\n",
        "```\n",
        "\n"
      ]
    },
    {
      "cell_type": "code",
      "metadata": {
        "id": "LjM_8ok2OO8Y",
        "colab": {
          "base_uri": "https://localhost:8080/",
          "height": 283
        },
        "outputId": "e9a37c7a-40f1-4bdc-ad09-57e31e07f70a"
      },
      "source": [
        "# step 5\n",
        "import matplotlib.pyplot as plt\n",
        " \n",
        "plt.imshow(data_x[555], cmap='gray') \n",
        "plt.show()\n",
        "\n",
        "# 이 이미지에 해당하는 숫자는?\n",
        "print( data_y[555] )"
      ],
      "execution_count": null,
      "outputs": [
        {
          "output_type": "display_data",
          "data": {
            "image/png": "[encoded data removed]",
            "text/plain": [
              "<Figure size 432x288 with 1 Axes>"
            ]
          },
          "metadata": {
            "needs_background": "light"
          }
        },
        {
          "output_type": "stream",
          "text": [
            "2\n"
          ],
          "name": "stdout"
        }
      ]
    },
    {
      "cell_type": "markdown",
      "metadata": {
        "id": "YcIzV-7sPLz5"
      },
      "source": [
        "출력을 10개로 만들기 (원 핫 인코딩하기)\n",
        "\n",
        "```\n",
        "import tensorflow.keras.utils as utils\n",
        "\n",
        "data_y = utils.to_categorical(data_y, 10)\n",
        "test_y = utils.to_categorical(test_y, 10)\n",
        "```"
      ]
    },
    {
      "cell_type": "code",
      "metadata": {
        "id": "2gwN3RV7Ox6M"
      },
      "source": [
        "# step 6 (주어진 코드 실행)\n",
        "import tensorflow.keras.utils as utils\n",
        "\n",
        "data_y = utils.to_categorical(data_y, 10)\n",
        "test_y = utils.to_categorical(test_y, 10)"
      ],
      "execution_count": null,
      "outputs": []
    },
    {
      "cell_type": "markdown",
      "metadata": {
        "id": "9fS0tPNlPwUt"
      },
      "source": [
        "> Q. 손글씨 딥러닝 모델의 입력층 개수는?\n",
        "\n",
        "<img src='https://t1.daumcdn.net/cfile/tistory/998BAF475BECAB3B26' width=800>\n",
        "<br/><br/>\n",
        "\n",
        "> Q. 출력층의 개수는?\n",
        "\n",
        "<img src='https://thumbs.gfycat.com/ActiveCourteousAmericanindianhorse-small.gif' width=600>"
      ]
    },
    {
      "cell_type": "markdown",
      "metadata": {
        "id": "AgFBFZJfQi5z"
      },
      "source": [
        "딥러닝 모델 두 개 비교해보자!\n",
        "\n",
        "\n",
        "\n",
        "1.   단층 퍼셉트론 (입력층과 출력층만 있는 모델)\n",
        "2.   다층 퍼셉트론 (입력층 - 은닉층 - 출력층, 은닉층이 있는 모델)\n",
        "\n",
        "<img src='https://github.com/Ahnjihye/2021-AI-class/blob/images/%EB%94%A5%EB%9F%AC%EB%8B%9D%20023.png?raw=true' width=800>\n",
        "\n"
      ]
    },
    {
      "cell_type": "markdown",
      "metadata": {
        "id": "VzeVcFhNBiKb"
      },
      "source": [
        "# model1 : 은닉층이 없는 단층 퍼셉트론 \n",
        "**입력층(노드 784) -> 출력층(노드 10)**\n",
        "\n",
        "<img src='https://github.com/Ahnjihye/2021-AI-class/blob/images/%EB%94%A5%EB%9F%AC%EB%8B%9D%20024.png?raw=true' width=500>"
      ]
    },
    {
      "cell_type": "markdown",
      "metadata": {
        "id": "ODh9WUHrutcq"
      },
      "source": [
        "**딥러닝 모델(구조) 생성하기**\n",
        "\n",
        "```\n",
        "from tensorflow.keras.models import Sequential\n",
        "from tensorflow.keras.layers import Dense, Flatten\n",
        "\n",
        "# 층을 쌓을 수 있는 모델 생성\n",
        "모델이름 = Sequential()\n",
        "모델이름.add(Flatten())\n",
        "\n",
        "# 모델에 층 추가 \n",
        "# 층은 Dense, input_dim 옵션에 입력층 노드 개수  \n",
        "모델이름.add(Dense( 빈칸 , input_dim = 빈칸 , activation='softmax'))\n",
        "\n",
        "# 만든 딥러닝 구조를 컴파일\n",
        "모델이름.compile(loss='categorical_crossentropy', \n",
        "               optimizer='adam', metrics=['accuracy'])\n",
        "```\n",
        "\n"
      ]
    },
    {
      "cell_type": "code",
      "metadata": {
        "id": "LprbUis6BKtu"
      },
      "source": [
        "# step 7\n",
        "from tensorflow.keras.models import Sequential\n",
        "from tensorflow.keras.layers import Dense, Flatten\n",
        " \n",
        "# 층을 쌓을 수 있는 모델 생성\n",
        "model1 = Sequential()\n",
        "model1.add(Flatten())\n",
        " \n",
        "# 모델에 층 추가 \n",
        "# 층은 Dense, input_dim 옵션에 입력층 노드 개수  \n",
        "model1.add(Dense( 10 , input_dim = 784 , activation='softmax'))\n",
        " \n",
        "# 만든 딥러닝 구조를 컴파일\n",
        "model1.compile(loss='categorical_crossentropy', \n",
        "               optimizer='adam', metrics=['accuracy'])"
      ],
      "execution_count": null,
      "outputs": []
    },
    {
      "cell_type": "markdown",
      "metadata": {
        "id": "YdwuqT51u2gb"
      },
      "source": [
        "**딥러닝 모델(구조) 학습시키기**\n",
        "\n",
        "```\n",
        "# 딥러닝 구조에 데이터를 넣어 학습시키기\n",
        "모델이름.fit( 빈칸 , 빈칸, \n",
        "           epochs=10, batch_size =200 , verbose=1)\n",
        "```\n",
        "\n"
      ]
    },
    {
      "cell_type": "code",
      "metadata": {
        "id": "pmVMTHC4B0kL",
        "colab": {
          "base_uri": "https://localhost:8080/"
        },
        "outputId": "ed00cd29-3a29-4b92-872e-6894e5ad403c"
      },
      "source": [
        "# step 8\n",
        "model1.fit( data_x , data_y, \n",
        "           epochs=10, batch_size =200 , verbose=1)"
      ],
      "execution_count": null,
      "outputs": [
        {
          "output_type": "stream",
          "text": [
            "Epoch 1/10\n",
            "300/300 [==============================] - 2s 3ms/step - loss: 13.4740 - accuracy: 0.7968\n",
            "Epoch 2/10\n",
            "300/300 [==============================] - 1s 3ms/step - loss: 5.0784 - accuracy: 0.8774\n",
            "Epoch 3/10\n",
            "300/300 [==============================] - 1s 3ms/step - loss: 4.0083 - accuracy: 0.8836\n",
            "Epoch 4/10\n",
            "300/300 [==============================] - 1s 3ms/step - loss: 3.3825 - accuracy: 0.8867\n",
            "Epoch 5/10\n",
            "300/300 [==============================] - 1s 3ms/step - loss: 2.9939 - accuracy: 0.8887\n",
            "Epoch 6/10\n",
            "300/300 [==============================] - 1s 3ms/step - loss: 2.7535 - accuracy: 0.8921\n",
            "Epoch 7/10\n",
            "300/300 [==============================] - 1s 3ms/step - loss: 2.5793 - accuracy: 0.8912\n",
            "Epoch 8/10\n",
            "300/300 [==============================] - 1s 3ms/step - loss: 2.4455 - accuracy: 0.8918\n",
            "Epoch 9/10\n",
            "300/300 [==============================] - 1s 3ms/step - loss: 2.3522 - accuracy: 0.8929\n",
            "Epoch 10/10\n",
            "300/300 [==============================] - 1s 3ms/step - loss: 2.1903 - accuracy: 0.8932\n"
          ],
          "name": "stdout"
        },
        {
          "output_type": "execute_result",
          "data": {
            "text/plain": [
              "<keras.callbacks.History at 0x7fdad60718d0>"
            ]
          },
          "metadata": {},
          "execution_count": 12
        }
      ]
    },
    {
      "cell_type": "markdown",
      "metadata": {
        "id": "xftIe5P6J9Ae"
      },
      "source": [
        "\n",
        "\n",
        "*   Q.  model1의 최종 정확도는? \n",
        "<br/>\n",
        "=> 89.32점 \n",
        "\n"
      ]
    },
    {
      "cell_type": "markdown",
      "metadata": {
        "id": "-0EtT1V4vZCO"
      },
      "source": [
        "**완성한 딥러닝 모델(구조)에게 새로운 데이터 예측시켜보기** --> model1\n",
        "\n",
        "```\n",
        "# 예측에 사용할 이미지 확인해보기\n",
        "plt.imshow( 예측에 사용할 이미지 , cmap='gray') \n",
        "plt.show()\n",
        "```\n",
        "\n"
      ]
    },
    {
      "cell_type": "code",
      "metadata": {
        "id": "ufLoa8RBFC39",
        "colab": {
          "base_uri": "https://localhost:8080/",
          "height": 265
        },
        "outputId": "c3d900b5-79c2-4a30-ef7e-ae95bd80b6c0"
      },
      "source": [
        "# step 9 - 예측시킬 이미지 확인\n",
        "plt.imshow( test_x[999] , cmap='gray') \n",
        "plt.show()"
      ],
      "execution_count": null,
      "outputs": [
        {
          "output_type": "display_data",
          "data": {
            "image/png": "[encoded data removed]",
            "text/plain": [
              "<Figure size 432x288 with 1 Axes>"
            ]
          },
          "metadata": {
            "needs_background": "light"
          }
        }
      ]
    },
    {
      "cell_type": "markdown",
      "metadata": {
        "id": "LQ6wC4DtEyxu"
      },
      "source": [
        "\n",
        "```\n",
        "import numpy as np\n",
        "\n",
        "print(np.argmax(모델이름.predict( 예측할이미지 .reshape(-1, 28, 28, 1))))\n",
        "```\n",
        "\n"
      ]
    },
    {
      "cell_type": "code",
      "metadata": {
        "id": "ja_74MTqPkv2",
        "colab": {
          "base_uri": "https://localhost:8080/"
        },
        "outputId": "44bab2d2-2750-414e-dbfb-f3261b3b9df3"
      },
      "source": [
        "# step 10 - model1에게 위 이미지 예측시켜보기\n",
        "import numpy as np\n",
        " \n",
        "print(np.argmax(model1.predict( test_x[999] .reshape(-1, 28, 28, 1))))\n"
      ],
      "execution_count": null,
      "outputs": [
        {
          "output_type": "stream",
          "text": [
            "7\n"
          ],
          "name": "stdout"
        }
      ]
    },
    {
      "cell_type": "markdown",
      "metadata": {
        "id": "7ivE9MSPJKQh"
      },
      "source": [
        "# model2 : 은닉층을 추가해 돌려보자 \n",
        "**입력층(노드 784) -> 은닉층(노드 512)-> 출력층(노드 10)**\n",
        "\n",
        "<img src='https://github.com/Ahnjihye/2021-AI-class/blob/images/%EB%94%A5%EB%9F%AC%EB%8B%9D%20025.png?raw=true' width=500>"
      ]
    },
    {
      "cell_type": "markdown",
      "metadata": {
        "id": "uT4QImlfvmc0"
      },
      "source": [
        "\n",
        "**딥러닝 모델(구조) 생성하기**\n",
        "\n",
        "```\n",
        "from tensorflow.keras.models import Sequential\n",
        "from tensorflow.keras.layers import Dense, Flatten\n",
        "\n",
        "# 층을 쌓을 수 있는 모델 생성\n",
        "모델이름 = Sequential()\n",
        "모델이름.add(Flatten())\n",
        "\n",
        "# 모델에 층 추가 : 입력층 784 --> 은닉층 512\n",
        "모델이름.add(Dense( 빈칸 , input_dim = 빈칸 , activation='relu'))\n",
        "\n",
        "# 모델에 층 추가 : 은닉층 512 -> 출력층 10\n",
        "모델이름.add(Dense( 빈칸 , activation='softmax'))\n",
        "\n",
        "# 만든 딥러닝 구조를 컴파일\n",
        "모델이름.compile(loss='categorical_crossentropy', \n",
        "               optimizer='adam', metrics=['accuracy'])\n",
        "```\n",
        "\n"
      ]
    },
    {
      "cell_type": "code",
      "metadata": {
        "id": "M2XqW0BJIEMR"
      },
      "source": [
        "# step 11\n",
        "from tensorflow.keras.models import Sequential\n",
        "from tensorflow.keras.layers import Dense, Flatten\n",
        " \n",
        "# 층을 쌓을 수 있는 모델 생성\n",
        "model2 = Sequential()\n",
        "model2.add(Flatten())\n",
        " \n",
        "# 모델에 층 추가 : 입력층 784 --> 은닉층 512\n",
        "model2.add(Dense( 512 , input_dim = 784 , activation='relu'))\n",
        " \n",
        "# 모델에 층 추가 : 은닉층 512 -> 출력층 10\n",
        "model2.add(Dense( 10 , activation='softmax'))\n",
        " \n",
        "# 만든 딥러닝 구조를 컴파일\n",
        "model2.compile(loss='categorical_crossentropy', \n",
        "               optimizer='adam', metrics=['accuracy'])"
      ],
      "execution_count": null,
      "outputs": []
    },
    {
      "cell_type": "markdown",
      "metadata": {
        "id": "NYZheh4mvujG"
      },
      "source": [
        "**딥러닝 모델(구조)에 데이터 학습시키기**\n",
        "\n",
        "\n",
        "```\n",
        "모델이름.fit( 빈칸 , 빈칸 ,\n",
        "           epochs=10, batch_size =200 , verbose=1)\n",
        "```\n",
        "\n"
      ]
    },
    {
      "cell_type": "code",
      "metadata": {
        "id": "jdec94PrJohj",
        "colab": {
          "base_uri": "https://localhost:8080/"
        },
        "outputId": "2c39e3f5-2db1-46d2-ea2a-6a2808cebb6c"
      },
      "source": [
        "# step 12 - 딥러닝 구조에 데이터를 넣어 학습시키기\n",
        "model2.fit( data_x , data_y ,\n",
        "           epochs=10, batch_size =200 , verbose=1)"
      ],
      "execution_count": null,
      "outputs": [
        {
          "output_type": "stream",
          "text": [
            "Epoch 1/10\n",
            "300/300 [==============================] - 4s 12ms/step - loss: 5.2266 - accuracy: 0.9016\n",
            "Epoch 2/10\n",
            "300/300 [==============================] - 3s 12ms/step - loss: 0.7515 - accuracy: 0.9542\n",
            "Epoch 3/10\n",
            "300/300 [==============================] - 4s 12ms/step - loss: 0.3366 - accuracy: 0.9693\n",
            "Epoch 4/10\n",
            "300/300 [==============================] - 4s 13ms/step - loss: 0.2198 - accuracy: 0.9763\n",
            "Epoch 5/10\n",
            "300/300 [==============================] - 4s 13ms/step - loss: 0.1808 - accuracy: 0.9808\n",
            "Epoch 6/10\n",
            "300/300 [==============================] - 4s 12ms/step - loss: 0.1534 - accuracy: 0.9826\n",
            "Epoch 7/10\n",
            "300/300 [==============================] - 4s 12ms/step - loss: 0.1498 - accuracy: 0.9833\n",
            "Epoch 8/10\n",
            "300/300 [==============================] - 4s 12ms/step - loss: 0.1371 - accuracy: 0.9829\n",
            "Epoch 9/10\n",
            "300/300 [==============================] - 3s 12ms/step - loss: 0.1214 - accuracy: 0.9852\n",
            "Epoch 10/10\n",
            "300/300 [==============================] - 4s 12ms/step - loss: 0.1526 - accuracy: 0.9826\n"
          ],
          "name": "stdout"
        },
        {
          "output_type": "execute_result",
          "data": {
            "text/plain": [
              "<keras.callbacks.History at 0x7fdad5e29a90>"
            ]
          },
          "metadata": {},
          "execution_count": 19
        }
      ]
    },
    {
      "cell_type": "markdown",
      "metadata": {
        "id": "r1gaLVFbKudY"
      },
      "source": [
        "\n",
        "\n",
        "*   Q1.  model2의 최종 정확도는? \n",
        "<br/>\n",
        "=> 98.26점\n",
        "<br/><br/>\n",
        "*   Q2.  model1과 비교했을 때 model2의 성능은 어떠한가?  \n",
        "<br/>\n",
        "=> 더 높다.\n",
        "<br/><br/>\n",
        "*   Q3.  왜 위와 같은 결과가 나왔을까?<br/>\n",
        "=> 은닉층을 추가한 다층 퍼셉트론이기 때문\n",
        "<br/><br/>\n",
        "\n"
      ]
    },
    {
      "cell_type": "markdown",
      "metadata": {
        "id": "BIHWTxrBKudh"
      },
      "source": [
        "**model2에게 새로운 데이터 예측시켜보기**\n",
        "\n",
        "\n",
        "```\n",
        "# model2에게 예측시킬 이미지\n",
        "plt.imshow(예측시킬 이미지, cmap='gray') \n",
        "plt.show()\n",
        "\n",
        "# model2가 예측한 이미지\n",
        "print(np.argmax(모델이름.predict(예측시킬 이미지.reshape(-1, 28, 28, 1))))\n",
        "```\n",
        "\n"
      ]
    },
    {
      "cell_type": "code",
      "metadata": {
        "id": "TyormAxnKudi",
        "colab": {
          "base_uri": "https://localhost:8080/",
          "height": 283
        },
        "outputId": "4616b2ba-153c-41e6-eedb-a58b93706d20"
      },
      "source": [
        "# step 13\n",
        "# model2에게 예측시킬 이미지\n",
        "plt.imshow(test_x[999], cmap='gray') \n",
        "plt.show()\n",
        " \n",
        "# model2가 예측한 이미지\n",
        "print(np.argmax(model2.predict(test_x[999].reshape(-1, 28, 28, 1))))"
      ],
      "execution_count": null,
      "outputs": [
        {
          "output_type": "display_data",
          "data": {
            "image/png": "[encoded data removed]",
            "text/plain": [
              "<Figure size 432x288 with 1 Axes>"
            ]
          },
          "metadata": {
            "needs_background": "light"
          }
        },
        {
          "output_type": "stream",
          "text": [
            "9\n"
          ],
          "name": "stdout"
        }
      ]
    },
    {
      "cell_type": "markdown",
      "metadata": {
        "id": "umWwtxfrLXas"
      },
      "source": [
        "# 내 손글씨 데이터를 예측시켜보자!\n",
        "\n",
        "내 손글씨이미지 업로드하기 \n",
        "\n",
        "```\n",
        "from google.colab import files\n",
        "uploaded = files.upload()\n",
        "```\n",
        "\n"
      ]
    },
    {
      "cell_type": "code",
      "metadata": {
        "id": "m6dXxnOWfF6H",
        "colab": {
          "resources": {
            "http://localhost:8080/nbextensions/google.colab/files.js": {
              "data": "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",
              "ok": true,
              "headers": [
                [
                  "content-type",
                  "application/javascript"
                ]
              ],
              "status": 200,
              "status_text": ""
            }
          },
          "base_uri": "https://localhost:8080/",
          "height": 76
        },
        "outputId": "702d9922-d688-408b-ac91-eec0ee9e2cdf"
      },
      "source": [
        "# step 14\n",
        "from google.colab import files\n",
        "uploaded = files.upload()"
      ],
      "execution_count": null,
      "outputs": [
        {
          "output_type": "display_data",
          "data": {
            "text/html": [
              "\n",
              "     <input type=\"file\" id=\"files-4a9501e5-be2a-4248-a7fb-da38fbe47c5d\" name=\"files[]\" multiple disabled\n",
              "        style=\"border:none\" />\n",
              "     <output id=\"result-4a9501e5-be2a-4248-a7fb-da38fbe47c5d\">\n",
              "      Upload widget is only available when the cell has been executed in the\n",
              "      current browser session. Please rerun this cell to enable.\n",
              "      </output>\n",
              "      <script src=\"/nbextensions/google.colab/files.js\"></script> "
            ],
            "text/plain": [
              "<IPython.core.display.HTML object>"
            ]
          },
          "metadata": {}
        },
        {
          "output_type": "stream",
          "text": [
            "Saving 9.png to 9.png\n"
          ],
          "name": "stdout"
        }
      ]
    },
    {
      "cell_type": "markdown",
      "metadata": {
        "id": "CEykcjenwJXU"
      },
      "source": [
        "업로드된 이미지 확인하기\n",
        "\n",
        "\n",
        "```\n",
        "from tensorflow.keras.preprocessing import image\n",
        "\n",
        "s = image.load_img('파일이름.png', target_size=(28, 28), color_mode=\"grayscale\")\n",
        "s\n",
        "```\n",
        "\n"
      ]
    },
    {
      "cell_type": "code",
      "metadata": {
        "id": "TaohNQ0ogmNP",
        "colab": {
          "base_uri": "https://localhost:8080/",
          "height": 45
        },
        "outputId": "40b9c89e-852a-4f54-e25e-6bc7b9c77cb6"
      },
      "source": [
        "# step 15\n",
        "from tensorflow.keras.preprocessing import image\n",
        " \n",
        "s = image.load_img('9.png', target_size=(28, 28), color_mode=\"grayscale\")\n",
        "s"
      ],
      "execution_count": null,
      "outputs": [
        {
          "output_type": "execute_result",
          "data": {
            "image/png": "[encoded data removed]",
            "text/plain": [
              "<PIL.Image.Image image mode=L size=28x28 at 0x7FDAD5B78850>"
            ]
          },
          "metadata": {},
          "execution_count": 24
        }
      ]
    },
    {
      "cell_type": "markdown",
      "metadata": {
        "id": "VJzLa4VgxOUo"
      },
      "source": [
        "내 손글씨 예측시켜보자!\n",
        "\n",
        "```\n",
        "img = image.img_to_array(s).astype('float32')\n",
        "\n",
        "# model1에게 예측시켰을 때\n",
        "print(np.argmax( 모델이름.predict(img.reshape(-1, 28, 28, 1))))\n",
        "\n",
        "# model2에게 예측시켰을 때\n",
        "print(np.argmax( 모델이름.predict(img.reshape(-1, 28, 28, 1))))\n",
        "```\n",
        "\n"
      ]
    },
    {
      "cell_type": "code",
      "metadata": {
        "id": "rr_YYhtlLqM1",
        "colab": {
          "base_uri": "https://localhost:8080/"
        },
        "outputId": "70ca1a7b-910c-45de-d1da-995b63595132"
      },
      "source": [
        "# step 16\n",
        "img = image.img_to_array(s).astype('float32')\n",
        " \n",
        "# model1에게 예측시켰을 때\n",
        "print(np.argmax( model1.predict(img.reshape(-1, 28, 28, 1))))\n",
        " \n",
        "# model2에게 예측시켰을 때\n",
        "print(np.argmax( model2.predict(img.reshape(-1, 28, 28, 1))))"
      ],
      "execution_count": null,
      "outputs": [
        {
          "output_type": "stream",
          "text": [
            "7\n",
            "9\n"
          ],
          "name": "stdout"
        }
      ]
    },
    {
      "cell_type": "code",
      "metadata": {
        "id": "kQMlRDRM3jSU"
      },
      "source": [
        ""
      ],
      "execution_count": null,
      "outputs": []
    }
  ]
}