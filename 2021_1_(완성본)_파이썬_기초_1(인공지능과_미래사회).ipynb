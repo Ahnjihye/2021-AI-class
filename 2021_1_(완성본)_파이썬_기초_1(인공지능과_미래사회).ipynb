{
  "nbformat": 4,
  "nbformat_minor": 0,
  "metadata": {
    "colab": {
      "name": "2021-1-(완성본)-파이썬 기초 1(인공지능과 미래사회).ipynb",
      "provenance": [],
      "collapsed_sections": [],
      "authorship_tag": "ABX9TyMdu3+rIhslx8aZI5VcCdmw",
      "include_colab_link": true
    },
    "kernelspec": {
      "name": "python3",
      "display_name": "Python 3"
    },
    "language_info": {
      "name": "python"
    }
  },
  "cells": [
    {
      "cell_type": "markdown",
      "metadata": {
        "id": "view-in-github",
        "colab_type": "text"
      },
      "source": [
        "<a href=\"https://colab.research.google.com/github/Ahnjihye/2021-AI-class/blob/main/2021_1_(%EC%99%84%EC%84%B1%EB%B3%B8)_%ED%8C%8C%EC%9D%B4%EC%8D%AC_%EA%B8%B0%EC%B4%88_1(%EC%9D%B8%EA%B3%B5%EC%A7%80%EB%8A%A5%EA%B3%BC_%EB%AF%B8%EB%9E%98%EC%82%AC%ED%9A%8C).ipynb\" target=\"_parent\"><img src=\"https://colab.research.google.com/assets/colab-badge.svg\" alt=\"Open In Colab\"/></a>"
      ]
    },
    {
      "cell_type": "markdown",
      "metadata": {
        "id": "6VICvDDuPykk"
      },
      "source": [
        "\n",
        "# 1. 파이썬 명령어 형식\n",
        "<img src='https://github.com/Ahnjihye/allinone_AI/blob/images/0_%EB%AA%85%EB%A0%B9%EC%96%B4.png?raw=true' width=400>"
      ]
    },
    {
      "cell_type": "markdown",
      "metadata": {
        "id": "LJAHyqRXU_tN"
      },
      "source": [
        "# 2. 출력명령어 \n",
        "## 출력 명령어 형식\n",
        "\n",
        "\n",
        "> print( 출력할 내용 )\n",
        "\n",
        "\n"
      ]
    },
    {
      "cell_type": "code",
      "metadata": {
        "id": "fHog4iYYL-q4",
        "colab": {
          "base_uri": "https://localhost:8080/"
        },
        "outputId": "6ac363cb-fbce-4bde-a975-d8c9331f9f23"
      },
      "source": [
        "# 숫자 출력 1030\n",
        "print(1030)"
      ],
      "execution_count": null,
      "outputs": [
        {
          "output_type": "stream",
          "text": [
            "1030\n"
          ],
          "name": "stdout"
        }
      ]
    },
    {
      "cell_type": "code",
      "metadata": {
        "id": "-Mn2gKC1y2XL",
        "colab": {
          "base_uri": "https://localhost:8080/",
          "height": 132
        },
        "outputId": "c66db6bc-d16d-43ee-9f04-ddb89f16f0b1"
      },
      "source": [
        "# 문자 출력 10월 30일\n",
        "print(10월 30일)"
      ],
      "execution_count": null,
      "outputs": [
        {
          "output_type": "error",
          "ename": "SyntaxError",
          "evalue": "ignored",
          "traceback": [
            "\u001b[0;36m  File \u001b[0;32m\"<ipython-input-5-b4a8abfa80b5>\"\u001b[0;36m, line \u001b[0;32m2\u001b[0m\n\u001b[0;31m    print(10월 30일)\u001b[0m\n\u001b[0m            ^\u001b[0m\n\u001b[0;31mSyntaxError\u001b[0m\u001b[0;31m:\u001b[0m invalid syntax\n"
          ]
        }
      ]
    },
    {
      "cell_type": "markdown",
      "metadata": {
        "id": "KqFYkVtu_foZ"
      },
      "source": [
        "## 문자는 따옴표로 감싸주어야 함\n",
        "> print('문자')"
      ]
    },
    {
      "cell_type": "code",
      "metadata": {
        "id": "HndD3I4ybonQ",
        "colab": {
          "base_uri": "https://localhost:8080/"
        },
        "outputId": "d29cf18a-d40f-490c-e56c-8974d10e660e"
      },
      "source": [
        "# 문자는 따옴표로 감싸주어야 함\n",
        "print('10월 30일')"
      ],
      "execution_count": null,
      "outputs": [
        {
          "output_type": "stream",
          "text": [
            "10월 30일\n"
          ],
          "name": "stdout"
        }
      ]
    },
    {
      "cell_type": "code",
      "metadata": {
        "colab": {
          "base_uri": "https://localhost:8080/",
          "height": 167
        },
        "id": "GXO9r4k0_M42",
        "outputId": "0158154f-a3e5-4f8b-ea62-155195c49f5b"
      },
      "source": [
        "print(렛츠기릿파이썬)"
      ],
      "execution_count": null,
      "outputs": [
        {
          "output_type": "error",
          "ename": "NameError",
          "evalue": "ignored",
          "traceback": [
            "\u001b[0;31m---------------------------------------------------------------------------\u001b[0m",
            "\u001b[0;31mNameError\u001b[0m                                 Traceback (most recent call last)",
            "\u001b[0;32m<ipython-input-10-1d1eabde5ef7>\u001b[0m in \u001b[0;36m<module>\u001b[0;34m()\u001b[0m\n\u001b[0;32m----> 1\u001b[0;31m \u001b[0mprint\u001b[0m\u001b[0;34m(\u001b[0m\u001b[0m렛츠기릿파이썬\u001b[0m\u001b[0;34m)\u001b[0m\u001b[0;34m\u001b[0m\u001b[0;34m\u001b[0m\u001b[0m\n\u001b[0m",
            "\u001b[0;31mNameError\u001b[0m: name '렛츠기릿파이썬' is not defined"
          ]
        }
      ]
    },
    {
      "cell_type": "code",
      "metadata": {
        "colab": {
          "base_uri": "https://localhost:8080/"
        },
        "id": "_eXE0Zei_TnT",
        "outputId": "7b3e308b-0bbf-4d85-eedd-dc5cb383ce3c"
      },
      "source": [
        "print('렛츠기릿파이썬')"
      ],
      "execution_count": null,
      "outputs": [
        {
          "output_type": "stream",
          "text": [
            "렛츠기릿파이썬\n"
          ],
          "name": "stdout"
        }
      ]
    },
    {
      "cell_type": "markdown",
      "metadata": {
        "id": "OEQFUbNCA9fm"
      },
      "source": [
        "## 연결하여 출력하기 \n",
        "> print( 요소1 , 요소2 )\n",
        "<br/>"
      ]
    },
    {
      "cell_type": "code",
      "metadata": {
        "colab": {
          "base_uri": "https://localhost:8080/"
        },
        "id": "O0URZFHFAFfE",
        "outputId": "0bb5f9fb-840d-4d1c-f173-d30f37237e4b"
      },
      "source": [
        "# 콤마, 로 연결하여 출력하기\n",
        "print('파이썬', '안녕!')"
      ],
      "execution_count": null,
      "outputs": [
        {
          "output_type": "stream",
          "text": [
            "파이썬 안녕!\n"
          ],
          "name": "stdout"
        }
      ]
    },
    {
      "cell_type": "code",
      "metadata": {
        "colab": {
          "base_uri": "https://localhost:8080/"
        },
        "id": "BXvFmqhtAzy1",
        "outputId": "f2ffd851-fdb0-4328-bd72-706110102d54"
      },
      "source": [
        "print('파이썬', 12*34)"
      ],
      "execution_count": null,
      "outputs": [
        {
          "output_type": "stream",
          "text": [
            "파이썬 408\n"
          ],
          "name": "stdout"
        }
      ]
    },
    {
      "cell_type": "markdown",
      "metadata": {
        "id": "Y5VKN8McEun1"
      },
      "source": [
        "## 실습 1 :  본인 이름, 관심분야를 한 줄로 출력해보기 "
      ]
    },
    {
      "cell_type": "code",
      "metadata": {
        "colab": {
          "base_uri": "https://localhost:8080/"
        },
        "id": "tZAX0aBQEtsJ",
        "outputId": "cd025bfc-ec90-4453-9060-1224bdbbfb24"
      },
      "source": [
        "print('졔졔쌤', '인공지능')"
      ],
      "execution_count": null,
      "outputs": [
        {
          "output_type": "stream",
          "text": [
            "졔졔쌤 인공지능\n"
          ],
          "name": "stdout"
        }
      ]
    },
    {
      "cell_type": "markdown",
      "metadata": {
        "id": "zNlNwOErClxr"
      },
      "source": [
        "# 3. 입력명령어\n",
        "## 입력명령어 형식\n",
        "> input('입력안내문')"
      ]
    },
    {
      "cell_type": "code",
      "metadata": {
        "id": "P35K2YD_B_fJ",
        "colab": {
          "base_uri": "https://localhost:8080/",
          "height": 53
        },
        "outputId": "df7d7797-117a-4ec1-bf2b-8e0dc0b28386"
      },
      "source": [
        "input()"
      ],
      "execution_count": null,
      "outputs": [
        {
          "output_type": "stream",
          "text": [
            "123123\n"
          ],
          "name": "stdout"
        },
        {
          "output_type": "execute_result",
          "data": {
            "application/vnd.google.colaboratory.intrinsic+json": {
              "type": "string"
            },
            "text/plain": [
              "'123123'"
            ]
          },
          "metadata": {
            "tags": []
          },
          "execution_count": 26
        }
      ]
    },
    {
      "cell_type": "code",
      "metadata": {
        "colab": {
          "base_uri": "https://localhost:8080/",
          "height": 53
        },
        "id": "g-WfHArdGA8b",
        "outputId": "df11815f-515a-4ed0-cdf3-8a63bdfe2b94"
      },
      "source": [
        "input('생일 : ')"
      ],
      "execution_count": null,
      "outputs": [
        {
          "output_type": "stream",
          "text": [
            "생일 : 10월 30일\n"
          ],
          "name": "stdout"
        },
        {
          "output_type": "execute_result",
          "data": {
            "application/vnd.google.colaboratory.intrinsic+json": {
              "type": "string"
            },
            "text/plain": [
              "'10월 30일'"
            ]
          },
          "metadata": {
            "tags": []
          },
          "execution_count": 27
        }
      ]
    },
    {
      "cell_type": "code",
      "metadata": {
        "colab": {
          "base_uri": "https://localhost:8080/",
          "height": 53
        },
        "id": "WmWrf3RZGMq1",
        "outputId": "279dd94a-ffc2-4599-d0b7-b7b46a058ea1"
      },
      "source": [
        "input('아이디 : ')"
      ],
      "execution_count": null,
      "outputs": [
        {
          "output_type": "stream",
          "text": [
            "아이디 : letsgetit\n"
          ],
          "name": "stdout"
        },
        {
          "output_type": "execute_result",
          "data": {
            "application/vnd.google.colaboratory.intrinsic+json": {
              "type": "string"
            },
            "text/plain": [
              "'letsgetit'"
            ]
          },
          "metadata": {
            "tags": []
          },
          "execution_count": 28
        }
      ]
    },
    {
      "cell_type": "code",
      "metadata": {
        "colab": {
          "base_uri": "https://localhost:8080/",
          "height": 70
        },
        "id": "dlc34WbEGQLy",
        "outputId": "0ca792ce-ba09-483e-dc30-2dd22ee32e3b"
      },
      "source": [
        "input('아이디 : ')\n",
        "input('비밀번호 : ')"
      ],
      "execution_count": null,
      "outputs": [
        {
          "output_type": "stream",
          "text": [
            "아이디 : jiejie\n",
            "비밀번호 : 12341234\n"
          ],
          "name": "stdout"
        },
        {
          "output_type": "execute_result",
          "data": {
            "application/vnd.google.colaboratory.intrinsic+json": {
              "type": "string"
            },
            "text/plain": [
              "'12341234'"
            ]
          },
          "metadata": {
            "tags": []
          },
          "execution_count": 29
        }
      ]
    },
    {
      "cell_type": "markdown",
      "metadata": {
        "id": "5TblMxseGyGG"
      },
      "source": [
        "### 순차구조 \n",
        "\n",
        "<img src='https://github.com/Ahnjihye/allinone_AI/blob/images/66_%E1%84%89%E1%85%AE%E1%86%AB%E1%84%8E%E1%85%A1%E1%84%80%E1%85%AE%E1%84%8C%E1%85%A9.png?raw=true' width=600>"
      ]
    },
    {
      "cell_type": "code",
      "metadata": {
        "colab": {
          "base_uri": "https://localhost:8080/"
        },
        "id": "CfX6PoPdGX4T",
        "outputId": "ddce8d12-28b8-407b-92e6-36445dd1d7b9"
      },
      "source": [
        "print('---000 웹사이트 회원가입 ---')\n",
        "input('아이디 : ')\n",
        "print('000 웹사이트 가입을 환영합니다!')"
      ],
      "execution_count": null,
      "outputs": [
        {
          "output_type": "stream",
          "text": [
            "---000 웹사이트 회원가입 ---\n",
            "아이디 : jiejie\n",
            "000 웹사이트 가입을 환영합니다!\n"
          ],
          "name": "stdout"
        }
      ]
    },
    {
      "cell_type": "markdown",
      "metadata": {
        "id": "V1qdZa0ljBQz"
      },
      "source": [
        "# 4. 변수\n",
        "\n",
        "\n",
        "> 변수이름 = 저장할 데이터\n",
        "\n",
        "\n",
        "<img src = 'https://github.com/Ahnjihye/allinone_AI/blob/images/%E1%84%87%E1%85%A7%E1%86%AB%E1%84%89%E1%85%AE%E1%84%8B%E1%85%B5%E1%84%86%E1%85%B5%E1%84%8C%E1%85%B5.png?raw=true' width =500>\n",
        "\n",
        "\n"
      ]
    },
    {
      "cell_type": "code",
      "metadata": {
        "id": "qGjujI1abo3T",
        "colab": {
          "base_uri": "https://localhost:8080/"
        },
        "outputId": "24c4b5ee-1d90-47d4-86d3-e2151f1b6ec1"
      },
      "source": [
        "a = '안녕'\n",
        "print(a)"
      ],
      "execution_count": null,
      "outputs": [
        {
          "output_type": "stream",
          "text": [
            "안녕\n"
          ],
          "name": "stdout"
        }
      ]
    },
    {
      "cell_type": "code",
      "metadata": {
        "colab": {
          "base_uri": "https://localhost:8080/"
        },
        "id": "xuAWxMcSPCCH",
        "outputId": "4fbad4db-2e57-4be2-cc48-7b55b6d2a74a"
      },
      "source": [
        "print('a')"
      ],
      "execution_count": null,
      "outputs": [
        {
          "output_type": "stream",
          "text": [
            "a\n"
          ],
          "name": "stdout"
        }
      ]
    },
    {
      "cell_type": "code",
      "metadata": {
        "id": "9d4QKvR6bo5d",
        "colab": {
          "base_uri": "https://localhost:8080/"
        },
        "outputId": "c4943f5f-d1bd-475c-a9ae-65ede5e90bf7"
      },
      "source": [
        "b = '학생'\n",
        "c = '고등'\n",
        "d = '대'\n",
        "print(c+b)"
      ],
      "execution_count": null,
      "outputs": [
        {
          "output_type": "stream",
          "text": [
            "고등학생\n"
          ],
          "name": "stdout"
        }
      ]
    },
    {
      "cell_type": "code",
      "metadata": {
        "colab": {
          "base_uri": "https://localhost:8080/"
        },
        "id": "egu4zLhuPXzC",
        "outputId": "237d88e6-d1dc-4951-d9cc-ad6d85ce379f"
      },
      "source": [
        "print(d+b)"
      ],
      "execution_count": null,
      "outputs": [
        {
          "output_type": "stream",
          "text": [
            "대학생\n"
          ],
          "name": "stdout"
        }
      ]
    },
    {
      "cell_type": "markdown",
      "metadata": {
        "id": "YrIAYo4nP3wW"
      },
      "source": [
        "### 변수를 활용하여 연산하기 \n",
        "1) 과일 가격 계산하기"
      ]
    },
    {
      "cell_type": "code",
      "metadata": {
        "id": "gN7pzv5jbo-B"
      },
      "source": [
        "apple = 1200\n",
        "banana = 800\n",
        "kiwi = 1700"
      ],
      "execution_count": null,
      "outputs": []
    },
    {
      "cell_type": "code",
      "metadata": {
        "id": "YY_1rgwNbpAe",
        "colab": {
          "base_uri": "https://localhost:8080/"
        },
        "outputId": "2f5ba308-90e7-47da-cb26-c728f59e6066"
      },
      "source": [
        "# 사과 3개, 바나나1개, 키위2개 구매한 가격은?\n",
        "apple*3 + banana*1 + kiwi*2"
      ],
      "execution_count": null,
      "outputs": [
        {
          "output_type": "execute_result",
          "data": {
            "text/plain": [
              "7800"
            ]
          },
          "metadata": {
            "tags": []
          },
          "execution_count": 2
        }
      ]
    },
    {
      "cell_type": "code",
      "metadata": {
        "id": "kAnHKPxlnUMO",
        "colab": {
          "base_uri": "https://localhost:8080/"
        },
        "outputId": "f34be5b5-276b-4277-dbc7-00d817528465"
      },
      "source": [
        "price = apple*3 + banana*1 + kiwi*2\n",
        "print(price)"
      ],
      "execution_count": null,
      "outputs": [
        {
          "output_type": "stream",
          "text": [
            "7800\n"
          ],
          "name": "stdout"
        }
      ]
    },
    {
      "cell_type": "markdown",
      "metadata": {
        "id": "XTITfZwoisIu"
      },
      "source": [
        "vip는 20% 할인된다. 동일한 물건을 구매했을 때 vip가 내는 가격을 새로운 변수(vip_price)에 저장하여 출력하기"
      ]
    },
    {
      "cell_type": "code",
      "metadata": {
        "id": "A7bhHZu-nnE_"
      },
      "source": [
        "vip_price = price * 0.8"
      ],
      "execution_count": null,
      "outputs": []
    },
    {
      "cell_type": "code",
      "metadata": {
        "id": "I5UtDtRgnwk8",
        "colab": {
          "base_uri": "https://localhost:8080/"
        },
        "outputId": "7a87f63b-5e9e-4c6a-b77d-5b936de785d4"
      },
      "source": [
        "print('vip가 되시면',price,'원을',vip_price,'원에 구매 가능합니다! ')"
      ],
      "execution_count": null,
      "outputs": [
        {
          "output_type": "stream",
          "text": [
            "vip가 되시면 7800 원을 6240.0 원에 구매 가능합니다! \n"
          ],
          "name": "stdout"
        }
      ]
    }
  ]
}